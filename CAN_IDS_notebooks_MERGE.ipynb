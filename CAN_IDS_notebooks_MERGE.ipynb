{
  "cells": [
    {
      "cell_type": "markdown",
      "metadata": {
        "id": "view-in-github",
        "colab_type": "text"
      },
      "source": [
        "<a href=\"https://colab.research.google.com/github/LGCilento/Intrusion-Detection-System-Using-CNN-and-Transfer-Learning/blob/main/CAN_IDS_notebooks_MERGE.ipynb\" target=\"_parent\"><img src=\"https://colab.research.google.com/assets/colab-badge.svg\" alt=\"Open In Colab\"/></a>"
      ]
    },
    {
      "cell_type": "markdown",
      "metadata": {
        "id": "LXC7E9ey50Fm"
      },
      "source": [
        "# CHAPTER 1: A Transfer Learning and Optimized CNN Based Intrusion Detection System for Internet of Vehicles \n",
        "This is the code for the paper entitled \"**A Transfer Learning and Optimized CNN Based Intrusion Detection System for Internet of Vehicles**\" accepted in IEEE International Conference on Communications (IEEE ICC).  \n",
        "Authors: Li Yang (lyang339@uwo.ca) and Abdallah Shami (Abdallah.Shami@uwo.ca)  \n",
        "Organization: The Optimized Computing and Communications (OC2) Lab, ECE Department, Western University\n",
        "\n",
        "**Notebook 1: Data pre-processing**  \n",
        "Procedures:  \n",
        "&nbsp; 1): Read the dataset  \n",
        "&nbsp; 2): Transform the tabular data into images  \n",
        "&nbsp; 3): Display the transformed images  \n",
        "&nbsp; 4): Split the training and test set  "
      ]
    },
    {
      "cell_type": "markdown",
      "metadata": {
        "id": "yLuSi8CO50Fq"
      },
      "source": [
        "## Import libraries"
      ]
    },
    {
      "cell_type": "code",
      "execution_count": 1,
      "metadata": {
        "colab": {
          "base_uri": "https://localhost:8080/"
        },
        "id": "Yul4K8PTPZD0",
        "outputId": "6d9dbcee-df9d-4368-8a49-20decbcf1582"
      },
      "outputs": [
        {
          "output_type": "stream",
          "name": "stdout",
          "text": [
            "Sat Apr 23 20:46:28 2022       \n",
            "+-----------------------------------------------------------------------------+\n",
            "| NVIDIA-SMI 460.32.03    Driver Version: 460.32.03    CUDA Version: 11.2     |\n",
            "|-------------------------------+----------------------+----------------------+\n",
            "| GPU  Name        Persistence-M| Bus-Id        Disp.A | Volatile Uncorr. ECC |\n",
            "| Fan  Temp  Perf  Pwr:Usage/Cap|         Memory-Usage | GPU-Util  Compute M. |\n",
            "|                               |                      |               MIG M. |\n",
            "|===============================+======================+======================|\n",
            "|   0  Tesla T4            Off  | 00000000:00:04.0 Off |                    0 |\n",
            "| N/A   34C    P8     9W /  70W |      0MiB / 15109MiB |      0%      Default |\n",
            "|                               |                      |                  N/A |\n",
            "+-------------------------------+----------------------+----------------------+\n",
            "                                                                               \n",
            "+-----------------------------------------------------------------------------+\n",
            "| Processes:                                                                  |\n",
            "|  GPU   GI   CI        PID   Type   Process name                  GPU Memory |\n",
            "|        ID   ID                                                   Usage      |\n",
            "|=============================================================================|\n",
            "|  No running processes found                                                 |\n",
            "+-----------------------------------------------------------------------------+\n"
          ]
        }
      ],
      "source": [
        "!nvidia-smi"
      ]
    },
    {
      "cell_type": "code",
      "execution_count": 2,
      "metadata": {
        "id": "mNyOe77Y50Fq"
      },
      "outputs": [],
      "source": [
        "import numpy as np\n",
        "import pandas as pd\n",
        "import os\n",
        "import cv2\n",
        "import math\n",
        "import random\n",
        "import matplotlib.pyplot as plt\n",
        "import shutil\n",
        "from sklearn.preprocessing import QuantileTransformer\n",
        "from PIL import Image\n",
        "import warnings\n",
        "warnings.filterwarnings(\"ignore\")"
      ]
    },
    {
      "cell_type": "code",
      "source": [
        "\n",
        "import tensorflow as tf \n",
        "import keras\n",
        "\n",
        "print(keras.__version__)\n",
        "print(tf.__version__)\n",
        "print(np.__version__)\n",
        "print(pd.__version__)\n",
        "print(cv2.__version__)\n",
        "#print(sklearn.__version__)"
      ],
      "metadata": {
        "colab": {
          "base_uri": "https://localhost:8080/"
        },
        "id": "YrLXKdthkD6M",
        "outputId": "a89eea7b-3666-48d3-8d2e-60b2f89851ab"
      },
      "execution_count": 3,
      "outputs": [
        {
          "output_type": "stream",
          "name": "stdout",
          "text": [
            "2.8.0\n",
            "2.8.0\n",
            "1.21.6\n",
            "1.3.5\n",
            "4.1.2\n"
          ]
        }
      ]
    },
    {
      "cell_type": "markdown",
      "metadata": {
        "id": "cGBfsyic50Fr"
      },
      "source": [
        "## Read the Car-Hacking/CAN-Intrusion dataset\n",
        "The complete Car-Hacking dataset is publicly available at: https://ocslab.hksecurity.net/Datasets/CAN-intrusion-dataset  \n",
        "In this repository, due to the file size limit of GitHub, we use the 5% subset."
      ]
    },
    {
      "cell_type": "code",
      "source": [
        "#UNNCOMENT THIS CELL FOR COLAB EXECUTION WITH DRIVE\n",
        "\n",
        "# Code to read csv file into Colaboratory:\n",
        "!pip install -U -q PyDrive\n",
        "from pydrive.auth import GoogleAuth\n",
        "from pydrive.drive import GoogleDrive\n",
        "from google.colab import auth\n",
        "from oauth2client.client import GoogleCredentials\n",
        "# Authenticate and create the PyDrive client.\n",
        "auth.authenticate_user()\n",
        "gauth = GoogleAuth()\n",
        "gauth.credentials = GoogleCredentials.get_application_default()\n",
        "drive = GoogleDrive(gauth)"
      ],
      "metadata": {
        "id": "ZRFM8OCkpIoI"
      },
      "execution_count": 4,
      "outputs": []
    },
    {
      "cell_type": "code",
      "execution_count": 5,
      "metadata": {
        "id": "vzwBdlwx4VwU"
      },
      "outputs": [],
      "source": [
        "##EXCLUSIVE FOR COLAB\n",
        "#from google.colab import drive\n",
        "#drive.mount('/content')\n",
        "link = 'https://drive.google.com/open?id=1lBnmDvriKQoAyqpinwHWWYqFLhMrE2hH'\n",
        "#https://drive.google.com/file/d/1lBnmDvriKQoAyqpinwHWWYqFLhMrE2hH/view?usp=sharing\n",
        "fluff, id = link.split('=')\n",
        "\n",
        "\n",
        "downloaded = drive.CreateFile({'id':id}) \n",
        "downloaded.GetContentFile('Car_Hacking_5%.csv')  \n",
        "df = pd.read_csv('Car_Hacking_5%.csv')"
      ]
    },
    {
      "cell_type": "code",
      "execution_count": 6,
      "metadata": {
        "colab": {
          "base_uri": "https://localhost:8080/"
        },
        "collapsed": true,
        "id": "IL6FHqe050Fs",
        "outputId": "840a3447-d5a5-4d91-a077-f7d326a4cb9e"
      },
      "outputs": [
        {
          "output_type": "stream",
          "name": "stdout",
          "text": [
            "CPU times: user 2 µs, sys: 0 ns, total: 2 µs\n",
            "Wall time: 4.29 µs\n"
          ]
        }
      ],
      "source": [
        "%%time\n",
        "#Read dataset\n",
        "#df=pd.read_csv('data/Car_Hacking_5%.csv')"
      ]
    },
    {
      "cell_type": "code",
      "execution_count": 7,
      "metadata": {
        "id": "fTl_CW7f50Fs",
        "scrolled": true,
        "colab": {
          "base_uri": "https://localhost:8080/",
          "height": 458
        },
        "outputId": "905c28c1-a1e7-42f7-e776-e180b9f9ce4b"
      },
      "outputs": [
        {
          "output_type": "stream",
          "name": "stdout",
          "text": [
            "CPU times: user 2 µs, sys: 1 µs, total: 3 µs\n",
            "Wall time: 6.44 µs\n"
          ]
        },
        {
          "output_type": "execute_result",
          "data": {
            "text/plain": [
              "        CAN ID  DATA[0]  DATA[1]  DATA[2]  DATA[3]  DATA[4]  DATA[5]  DATA[6]  \\\n",
              "0         1201       41       39       39       35        0        0        0   \n",
              "1          809       64      187      127       20       17       32        0   \n",
              "2         1349      216        0        0      136        0        0        0   \n",
              "3         1201       41       39       39       35        0        0        0   \n",
              "4            2        0        0        0        0        0        3        2   \n",
              "...        ...      ...      ...      ...      ...      ...      ...      ...   \n",
              "818435     848        5       32       52      104      117        0        0   \n",
              "818436    1088      255        0        0        0      255      134        9   \n",
              "818437     848        5       32      100      104      117        0        0   \n",
              "818438    1349      216       90        0      137        0        0        0   \n",
              "818439     790        5       33       48       10       33       30        0   \n",
              "\n",
              "        DATA[7] Label  \n",
              "0           154     R  \n",
              "1            20     R  \n",
              "2             0     R  \n",
              "3           154     R  \n",
              "4           228     R  \n",
              "...         ...   ...  \n",
              "818435       12     R  \n",
              "818436        0     R  \n",
              "818437       92     R  \n",
              "818438        0     R  \n",
              "818439      111     R  \n",
              "\n",
              "[818440 rows x 10 columns]"
            ],
            "text/html": [
              "\n",
              "  <div id=\"df-20e19a40-6af6-4f54-8642-ef928c603bb2\">\n",
              "    <div class=\"colab-df-container\">\n",
              "      <div>\n",
              "<style scoped>\n",
              "    .dataframe tbody tr th:only-of-type {\n",
              "        vertical-align: middle;\n",
              "    }\n",
              "\n",
              "    .dataframe tbody tr th {\n",
              "        vertical-align: top;\n",
              "    }\n",
              "\n",
              "    .dataframe thead th {\n",
              "        text-align: right;\n",
              "    }\n",
              "</style>\n",
              "<table border=\"1\" class=\"dataframe\">\n",
              "  <thead>\n",
              "    <tr style=\"text-align: right;\">\n",
              "      <th></th>\n",
              "      <th>CAN ID</th>\n",
              "      <th>DATA[0]</th>\n",
              "      <th>DATA[1]</th>\n",
              "      <th>DATA[2]</th>\n",
              "      <th>DATA[3]</th>\n",
              "      <th>DATA[4]</th>\n",
              "      <th>DATA[5]</th>\n",
              "      <th>DATA[6]</th>\n",
              "      <th>DATA[7]</th>\n",
              "      <th>Label</th>\n",
              "    </tr>\n",
              "  </thead>\n",
              "  <tbody>\n",
              "    <tr>\n",
              "      <th>0</th>\n",
              "      <td>1201</td>\n",
              "      <td>41</td>\n",
              "      <td>39</td>\n",
              "      <td>39</td>\n",
              "      <td>35</td>\n",
              "      <td>0</td>\n",
              "      <td>0</td>\n",
              "      <td>0</td>\n",
              "      <td>154</td>\n",
              "      <td>R</td>\n",
              "    </tr>\n",
              "    <tr>\n",
              "      <th>1</th>\n",
              "      <td>809</td>\n",
              "      <td>64</td>\n",
              "      <td>187</td>\n",
              "      <td>127</td>\n",
              "      <td>20</td>\n",
              "      <td>17</td>\n",
              "      <td>32</td>\n",
              "      <td>0</td>\n",
              "      <td>20</td>\n",
              "      <td>R</td>\n",
              "    </tr>\n",
              "    <tr>\n",
              "      <th>2</th>\n",
              "      <td>1349</td>\n",
              "      <td>216</td>\n",
              "      <td>0</td>\n",
              "      <td>0</td>\n",
              "      <td>136</td>\n",
              "      <td>0</td>\n",
              "      <td>0</td>\n",
              "      <td>0</td>\n",
              "      <td>0</td>\n",
              "      <td>R</td>\n",
              "    </tr>\n",
              "    <tr>\n",
              "      <th>3</th>\n",
              "      <td>1201</td>\n",
              "      <td>41</td>\n",
              "      <td>39</td>\n",
              "      <td>39</td>\n",
              "      <td>35</td>\n",
              "      <td>0</td>\n",
              "      <td>0</td>\n",
              "      <td>0</td>\n",
              "      <td>154</td>\n",
              "      <td>R</td>\n",
              "    </tr>\n",
              "    <tr>\n",
              "      <th>4</th>\n",
              "      <td>2</td>\n",
              "      <td>0</td>\n",
              "      <td>0</td>\n",
              "      <td>0</td>\n",
              "      <td>0</td>\n",
              "      <td>0</td>\n",
              "      <td>3</td>\n",
              "      <td>2</td>\n",
              "      <td>228</td>\n",
              "      <td>R</td>\n",
              "    </tr>\n",
              "    <tr>\n",
              "      <th>...</th>\n",
              "      <td>...</td>\n",
              "      <td>...</td>\n",
              "      <td>...</td>\n",
              "      <td>...</td>\n",
              "      <td>...</td>\n",
              "      <td>...</td>\n",
              "      <td>...</td>\n",
              "      <td>...</td>\n",
              "      <td>...</td>\n",
              "      <td>...</td>\n",
              "    </tr>\n",
              "    <tr>\n",
              "      <th>818435</th>\n",
              "      <td>848</td>\n",
              "      <td>5</td>\n",
              "      <td>32</td>\n",
              "      <td>52</td>\n",
              "      <td>104</td>\n",
              "      <td>117</td>\n",
              "      <td>0</td>\n",
              "      <td>0</td>\n",
              "      <td>12</td>\n",
              "      <td>R</td>\n",
              "    </tr>\n",
              "    <tr>\n",
              "      <th>818436</th>\n",
              "      <td>1088</td>\n",
              "      <td>255</td>\n",
              "      <td>0</td>\n",
              "      <td>0</td>\n",
              "      <td>0</td>\n",
              "      <td>255</td>\n",
              "      <td>134</td>\n",
              "      <td>9</td>\n",
              "      <td>0</td>\n",
              "      <td>R</td>\n",
              "    </tr>\n",
              "    <tr>\n",
              "      <th>818437</th>\n",
              "      <td>848</td>\n",
              "      <td>5</td>\n",
              "      <td>32</td>\n",
              "      <td>100</td>\n",
              "      <td>104</td>\n",
              "      <td>117</td>\n",
              "      <td>0</td>\n",
              "      <td>0</td>\n",
              "      <td>92</td>\n",
              "      <td>R</td>\n",
              "    </tr>\n",
              "    <tr>\n",
              "      <th>818438</th>\n",
              "      <td>1349</td>\n",
              "      <td>216</td>\n",
              "      <td>90</td>\n",
              "      <td>0</td>\n",
              "      <td>137</td>\n",
              "      <td>0</td>\n",
              "      <td>0</td>\n",
              "      <td>0</td>\n",
              "      <td>0</td>\n",
              "      <td>R</td>\n",
              "    </tr>\n",
              "    <tr>\n",
              "      <th>818439</th>\n",
              "      <td>790</td>\n",
              "      <td>5</td>\n",
              "      <td>33</td>\n",
              "      <td>48</td>\n",
              "      <td>10</td>\n",
              "      <td>33</td>\n",
              "      <td>30</td>\n",
              "      <td>0</td>\n",
              "      <td>111</td>\n",
              "      <td>R</td>\n",
              "    </tr>\n",
              "  </tbody>\n",
              "</table>\n",
              "<p>818440 rows × 10 columns</p>\n",
              "</div>\n",
              "      <button class=\"colab-df-convert\" onclick=\"convertToInteractive('df-20e19a40-6af6-4f54-8642-ef928c603bb2')\"\n",
              "              title=\"Convert this dataframe to an interactive table.\"\n",
              "              style=\"display:none;\">\n",
              "        \n",
              "  <svg xmlns=\"http://www.w3.org/2000/svg\" height=\"24px\"viewBox=\"0 0 24 24\"\n",
              "       width=\"24px\">\n",
              "    <path d=\"M0 0h24v24H0V0z\" fill=\"none\"/>\n",
              "    <path d=\"M18.56 5.44l.94 2.06.94-2.06 2.06-.94-2.06-.94-.94-2.06-.94 2.06-2.06.94zm-11 1L8.5 8.5l.94-2.06 2.06-.94-2.06-.94L8.5 2.5l-.94 2.06-2.06.94zm10 10l.94 2.06.94-2.06 2.06-.94-2.06-.94-.94-2.06-.94 2.06-2.06.94z\"/><path d=\"M17.41 7.96l-1.37-1.37c-.4-.4-.92-.59-1.43-.59-.52 0-1.04.2-1.43.59L10.3 9.45l-7.72 7.72c-.78.78-.78 2.05 0 2.83L4 21.41c.39.39.9.59 1.41.59.51 0 1.02-.2 1.41-.59l7.78-7.78 2.81-2.81c.8-.78.8-2.07 0-2.86zM5.41 20L4 18.59l7.72-7.72 1.47 1.35L5.41 20z\"/>\n",
              "  </svg>\n",
              "      </button>\n",
              "      \n",
              "  <style>\n",
              "    .colab-df-container {\n",
              "      display:flex;\n",
              "      flex-wrap:wrap;\n",
              "      gap: 12px;\n",
              "    }\n",
              "\n",
              "    .colab-df-convert {\n",
              "      background-color: #E8F0FE;\n",
              "      border: none;\n",
              "      border-radius: 50%;\n",
              "      cursor: pointer;\n",
              "      display: none;\n",
              "      fill: #1967D2;\n",
              "      height: 32px;\n",
              "      padding: 0 0 0 0;\n",
              "      width: 32px;\n",
              "    }\n",
              "\n",
              "    .colab-df-convert:hover {\n",
              "      background-color: #E2EBFA;\n",
              "      box-shadow: 0px 1px 2px rgba(60, 64, 67, 0.3), 0px 1px 3px 1px rgba(60, 64, 67, 0.15);\n",
              "      fill: #174EA6;\n",
              "    }\n",
              "\n",
              "    [theme=dark] .colab-df-convert {\n",
              "      background-color: #3B4455;\n",
              "      fill: #D2E3FC;\n",
              "    }\n",
              "\n",
              "    [theme=dark] .colab-df-convert:hover {\n",
              "      background-color: #434B5C;\n",
              "      box-shadow: 0px 1px 3px 1px rgba(0, 0, 0, 0.15);\n",
              "      filter: drop-shadow(0px 1px 2px rgba(0, 0, 0, 0.3));\n",
              "      fill: #FFFFFF;\n",
              "    }\n",
              "  </style>\n",
              "\n",
              "      <script>\n",
              "        const buttonEl =\n",
              "          document.querySelector('#df-20e19a40-6af6-4f54-8642-ef928c603bb2 button.colab-df-convert');\n",
              "        buttonEl.style.display =\n",
              "          google.colab.kernel.accessAllowed ? 'block' : 'none';\n",
              "\n",
              "        async function convertToInteractive(key) {\n",
              "          const element = document.querySelector('#df-20e19a40-6af6-4f54-8642-ef928c603bb2');\n",
              "          const dataTable =\n",
              "            await google.colab.kernel.invokeFunction('convertToInteractive',\n",
              "                                                     [key], {});\n",
              "          if (!dataTable) return;\n",
              "\n",
              "          const docLinkHtml = 'Like what you see? Visit the ' +\n",
              "            '<a target=\"_blank\" href=https://colab.research.google.com/notebooks/data_table.ipynb>data table notebook</a>'\n",
              "            + ' to learn more about interactive tables.';\n",
              "          element.innerHTML = '';\n",
              "          dataTable['output_type'] = 'display_data';\n",
              "          await google.colab.output.renderOutput(dataTable, element);\n",
              "          const docLink = document.createElement('div');\n",
              "          docLink.innerHTML = docLinkHtml;\n",
              "          element.appendChild(docLink);\n",
              "        }\n",
              "      </script>\n",
              "    </div>\n",
              "  </div>\n",
              "  "
            ]
          },
          "metadata": {},
          "execution_count": 7
        }
      ],
      "source": [
        "%%time\n",
        "df"
      ]
    },
    {
      "cell_type": "code",
      "execution_count": 8,
      "metadata": {
        "id": "hXSCxTZc50Ft",
        "colab": {
          "base_uri": "https://localhost:8080/"
        },
        "outputId": "345583fe-0957-43a1-a629-7e0837e9b04a"
      },
      "outputs": [
        {
          "output_type": "stream",
          "name": "stdout",
          "text": [
            "CPU times: user 35.4 ms, sys: 1.24 ms, total: 36.6 ms\n",
            "Wall time: 40.9 ms\n"
          ]
        },
        {
          "output_type": "execute_result",
          "data": {
            "text/plain": [
              "R        701832\n",
              "RPM       32539\n",
              "gear      29944\n",
              "DoS       29501\n",
              "Fuzzy     24624\n",
              "Name: Label, dtype: int64"
            ]
          },
          "metadata": {},
          "execution_count": 8
        }
      ],
      "source": [
        "%%time\n",
        "# The labels of the dataset. \"R\" indicates normal patterns, and there are four types of attack (DoS, fuzzy. gear spoofing, and RPM spoofing zttacks)\n",
        "df.Label.value_counts()"
      ]
    },
    {
      "cell_type": "markdown",
      "metadata": {
        "collapsed": true,
        "id": "7GvAQOie50Fu"
      },
      "source": [
        "## Data Transformation\n",
        "Convert tabular data to images\n",
        "Procedures:\n",
        "1. Use quantile transform to transform the original data samples into the scale of [0,255], representing pixel values\n",
        "2. Generate images for each category (Normal, DoS, Fuzzy, Gear, RPM), each image consists of 27 data samples with 9 features. Thus, the size of each image is 9*9*3, length 9, width 9, and 3 color channels (RGB)."
      ]
    },
    {
      "cell_type": "code",
      "execution_count": 9,
      "metadata": {
        "collapsed": true,
        "id": "LJ3xrX6g50Fv",
        "colab": {
          "base_uri": "https://localhost:8080/"
        },
        "outputId": "a799666d-7010-4270-e99c-4eb931ebbc33"
      },
      "outputs": [
        {
          "output_type": "stream",
          "name": "stdout",
          "text": [
            "CPU times: user 1.13 s, sys: 30.3 ms, total: 1.16 s\n",
            "Wall time: 1.23 s\n"
          ]
        }
      ],
      "source": [
        "%%time\n",
        "# Transform all features into the scale of [0,1]\n",
        "numeric_features = df.dtypes[df.dtypes != 'object'].index\n",
        "scaler = QuantileTransformer() \n",
        "df[numeric_features] = scaler.fit_transform(df[numeric_features])"
      ]
    },
    {
      "cell_type": "code",
      "execution_count": 10,
      "metadata": {
        "id": "QoBP8RvD50Fv",
        "colab": {
          "base_uri": "https://localhost:8080/"
        },
        "outputId": "2b4954e6-c5ad-43e3-f0f2-0cc1084498e9"
      },
      "outputs": [
        {
          "output_type": "stream",
          "name": "stdout",
          "text": [
            "CPU times: user 82.2 ms, sys: 30 ms, total: 112 ms\n",
            "Wall time: 124 ms\n"
          ]
        }
      ],
      "source": [
        "%%time\n",
        "# Multiply the feature values by 255 to transform them into the scale of [0,255]\n",
        "df[numeric_features] = df[numeric_features].apply(\n",
        "    lambda x: (x*255))"
      ]
    },
    {
      "cell_type": "code",
      "execution_count": 11,
      "metadata": {
        "id": "8o4JE4a250Fv",
        "colab": {
          "base_uri": "https://localhost:8080/",
          "height": 335
        },
        "outputId": "3e050ea4-c9c2-497f-823f-19c084f7238e"
      },
      "outputs": [
        {
          "output_type": "stream",
          "name": "stdout",
          "text": [
            "CPU times: user 304 ms, sys: 7.89 ms, total: 312 ms\n",
            "Wall time: 327 ms\n"
          ]
        },
        {
          "output_type": "execute_result",
          "data": {
            "text/plain": [
              "              CAN ID        DATA[0]        DATA[1]        DATA[2]  \\\n",
              "count  818440.000000  818440.000000  818440.000000  818440.000000   \n",
              "mean      127.517842     113.573040     107.995462      89.690088   \n",
              "std        73.745540      89.904605      93.389381     100.740550   \n",
              "min         0.000000       0.000000       0.000000       0.000000   \n",
              "25%        66.621622       0.000000       0.000000       0.000000   \n",
              "50%       122.139640     126.096096     115.503003       0.000000   \n",
              "75%       190.548048     192.207207     193.228228     199.737237   \n",
              "max       255.000000     255.000000     255.000000     255.000000   \n",
              "\n",
              "             DATA[3]        DATA[4]        DATA[5]        DATA[6]  \\\n",
              "count  818440.000000  818440.000000  818440.000000  818440.000000   \n",
              "mean      109.715633     105.730262     112.153821      84.912810   \n",
              "std       103.582260      95.775183      90.918495     101.324232   \n",
              "min         0.000000       0.000000       0.000000       0.000000   \n",
              "25%         0.000000       0.000000       0.000000       0.000000   \n",
              "50%       129.542042     127.627628     129.286787       0.000000   \n",
              "75%       190.675676     193.483483     189.909910     191.824324   \n",
              "max       255.000000     255.000000     255.000000     255.000000   \n",
              "\n",
              "             DATA[7]  \n",
              "count  818440.000000  \n",
              "mean       93.028861  \n",
              "std       100.155234  \n",
              "min         0.000000  \n",
              "25%         0.000000  \n",
              "50%         0.000000  \n",
              "75%       190.675676  \n",
              "max       255.000000  "
            ],
            "text/html": [
              "\n",
              "  <div id=\"df-262a3561-009d-49c0-9222-13a88f938fe6\">\n",
              "    <div class=\"colab-df-container\">\n",
              "      <div>\n",
              "<style scoped>\n",
              "    .dataframe tbody tr th:only-of-type {\n",
              "        vertical-align: middle;\n",
              "    }\n",
              "\n",
              "    .dataframe tbody tr th {\n",
              "        vertical-align: top;\n",
              "    }\n",
              "\n",
              "    .dataframe thead th {\n",
              "        text-align: right;\n",
              "    }\n",
              "</style>\n",
              "<table border=\"1\" class=\"dataframe\">\n",
              "  <thead>\n",
              "    <tr style=\"text-align: right;\">\n",
              "      <th></th>\n",
              "      <th>CAN ID</th>\n",
              "      <th>DATA[0]</th>\n",
              "      <th>DATA[1]</th>\n",
              "      <th>DATA[2]</th>\n",
              "      <th>DATA[3]</th>\n",
              "      <th>DATA[4]</th>\n",
              "      <th>DATA[5]</th>\n",
              "      <th>DATA[6]</th>\n",
              "      <th>DATA[7]</th>\n",
              "    </tr>\n",
              "  </thead>\n",
              "  <tbody>\n",
              "    <tr>\n",
              "      <th>count</th>\n",
              "      <td>818440.000000</td>\n",
              "      <td>818440.000000</td>\n",
              "      <td>818440.000000</td>\n",
              "      <td>818440.000000</td>\n",
              "      <td>818440.000000</td>\n",
              "      <td>818440.000000</td>\n",
              "      <td>818440.000000</td>\n",
              "      <td>818440.000000</td>\n",
              "      <td>818440.000000</td>\n",
              "    </tr>\n",
              "    <tr>\n",
              "      <th>mean</th>\n",
              "      <td>127.517842</td>\n",
              "      <td>113.573040</td>\n",
              "      <td>107.995462</td>\n",
              "      <td>89.690088</td>\n",
              "      <td>109.715633</td>\n",
              "      <td>105.730262</td>\n",
              "      <td>112.153821</td>\n",
              "      <td>84.912810</td>\n",
              "      <td>93.028861</td>\n",
              "    </tr>\n",
              "    <tr>\n",
              "      <th>std</th>\n",
              "      <td>73.745540</td>\n",
              "      <td>89.904605</td>\n",
              "      <td>93.389381</td>\n",
              "      <td>100.740550</td>\n",
              "      <td>103.582260</td>\n",
              "      <td>95.775183</td>\n",
              "      <td>90.918495</td>\n",
              "      <td>101.324232</td>\n",
              "      <td>100.155234</td>\n",
              "    </tr>\n",
              "    <tr>\n",
              "      <th>min</th>\n",
              "      <td>0.000000</td>\n",
              "      <td>0.000000</td>\n",
              "      <td>0.000000</td>\n",
              "      <td>0.000000</td>\n",
              "      <td>0.000000</td>\n",
              "      <td>0.000000</td>\n",
              "      <td>0.000000</td>\n",
              "      <td>0.000000</td>\n",
              "      <td>0.000000</td>\n",
              "    </tr>\n",
              "    <tr>\n",
              "      <th>25%</th>\n",
              "      <td>66.621622</td>\n",
              "      <td>0.000000</td>\n",
              "      <td>0.000000</td>\n",
              "      <td>0.000000</td>\n",
              "      <td>0.000000</td>\n",
              "      <td>0.000000</td>\n",
              "      <td>0.000000</td>\n",
              "      <td>0.000000</td>\n",
              "      <td>0.000000</td>\n",
              "    </tr>\n",
              "    <tr>\n",
              "      <th>50%</th>\n",
              "      <td>122.139640</td>\n",
              "      <td>126.096096</td>\n",
              "      <td>115.503003</td>\n",
              "      <td>0.000000</td>\n",
              "      <td>129.542042</td>\n",
              "      <td>127.627628</td>\n",
              "      <td>129.286787</td>\n",
              "      <td>0.000000</td>\n",
              "      <td>0.000000</td>\n",
              "    </tr>\n",
              "    <tr>\n",
              "      <th>75%</th>\n",
              "      <td>190.548048</td>\n",
              "      <td>192.207207</td>\n",
              "      <td>193.228228</td>\n",
              "      <td>199.737237</td>\n",
              "      <td>190.675676</td>\n",
              "      <td>193.483483</td>\n",
              "      <td>189.909910</td>\n",
              "      <td>191.824324</td>\n",
              "      <td>190.675676</td>\n",
              "    </tr>\n",
              "    <tr>\n",
              "      <th>max</th>\n",
              "      <td>255.000000</td>\n",
              "      <td>255.000000</td>\n",
              "      <td>255.000000</td>\n",
              "      <td>255.000000</td>\n",
              "      <td>255.000000</td>\n",
              "      <td>255.000000</td>\n",
              "      <td>255.000000</td>\n",
              "      <td>255.000000</td>\n",
              "      <td>255.000000</td>\n",
              "    </tr>\n",
              "  </tbody>\n",
              "</table>\n",
              "</div>\n",
              "      <button class=\"colab-df-convert\" onclick=\"convertToInteractive('df-262a3561-009d-49c0-9222-13a88f938fe6')\"\n",
              "              title=\"Convert this dataframe to an interactive table.\"\n",
              "              style=\"display:none;\">\n",
              "        \n",
              "  <svg xmlns=\"http://www.w3.org/2000/svg\" height=\"24px\"viewBox=\"0 0 24 24\"\n",
              "       width=\"24px\">\n",
              "    <path d=\"M0 0h24v24H0V0z\" fill=\"none\"/>\n",
              "    <path d=\"M18.56 5.44l.94 2.06.94-2.06 2.06-.94-2.06-.94-.94-2.06-.94 2.06-2.06.94zm-11 1L8.5 8.5l.94-2.06 2.06-.94-2.06-.94L8.5 2.5l-.94 2.06-2.06.94zm10 10l.94 2.06.94-2.06 2.06-.94-2.06-.94-.94-2.06-.94 2.06-2.06.94z\"/><path d=\"M17.41 7.96l-1.37-1.37c-.4-.4-.92-.59-1.43-.59-.52 0-1.04.2-1.43.59L10.3 9.45l-7.72 7.72c-.78.78-.78 2.05 0 2.83L4 21.41c.39.39.9.59 1.41.59.51 0 1.02-.2 1.41-.59l7.78-7.78 2.81-2.81c.8-.78.8-2.07 0-2.86zM5.41 20L4 18.59l7.72-7.72 1.47 1.35L5.41 20z\"/>\n",
              "  </svg>\n",
              "      </button>\n",
              "      \n",
              "  <style>\n",
              "    .colab-df-container {\n",
              "      display:flex;\n",
              "      flex-wrap:wrap;\n",
              "      gap: 12px;\n",
              "    }\n",
              "\n",
              "    .colab-df-convert {\n",
              "      background-color: #E8F0FE;\n",
              "      border: none;\n",
              "      border-radius: 50%;\n",
              "      cursor: pointer;\n",
              "      display: none;\n",
              "      fill: #1967D2;\n",
              "      height: 32px;\n",
              "      padding: 0 0 0 0;\n",
              "      width: 32px;\n",
              "    }\n",
              "\n",
              "    .colab-df-convert:hover {\n",
              "      background-color: #E2EBFA;\n",
              "      box-shadow: 0px 1px 2px rgba(60, 64, 67, 0.3), 0px 1px 3px 1px rgba(60, 64, 67, 0.15);\n",
              "      fill: #174EA6;\n",
              "    }\n",
              "\n",
              "    [theme=dark] .colab-df-convert {\n",
              "      background-color: #3B4455;\n",
              "      fill: #D2E3FC;\n",
              "    }\n",
              "\n",
              "    [theme=dark] .colab-df-convert:hover {\n",
              "      background-color: #434B5C;\n",
              "      box-shadow: 0px 1px 3px 1px rgba(0, 0, 0, 0.15);\n",
              "      filter: drop-shadow(0px 1px 2px rgba(0, 0, 0, 0.3));\n",
              "      fill: #FFFFFF;\n",
              "    }\n",
              "  </style>\n",
              "\n",
              "      <script>\n",
              "        const buttonEl =\n",
              "          document.querySelector('#df-262a3561-009d-49c0-9222-13a88f938fe6 button.colab-df-convert');\n",
              "        buttonEl.style.display =\n",
              "          google.colab.kernel.accessAllowed ? 'block' : 'none';\n",
              "\n",
              "        async function convertToInteractive(key) {\n",
              "          const element = document.querySelector('#df-262a3561-009d-49c0-9222-13a88f938fe6');\n",
              "          const dataTable =\n",
              "            await google.colab.kernel.invokeFunction('convertToInteractive',\n",
              "                                                     [key], {});\n",
              "          if (!dataTable) return;\n",
              "\n",
              "          const docLinkHtml = 'Like what you see? Visit the ' +\n",
              "            '<a target=\"_blank\" href=https://colab.research.google.com/notebooks/data_table.ipynb>data table notebook</a>'\n",
              "            + ' to learn more about interactive tables.';\n",
              "          element.innerHTML = '';\n",
              "          dataTable['output_type'] = 'display_data';\n",
              "          await google.colab.output.renderOutput(dataTable, element);\n",
              "          const docLink = document.createElement('div');\n",
              "          docLink.innerHTML = docLinkHtml;\n",
              "          element.appendChild(docLink);\n",
              "        }\n",
              "      </script>\n",
              "    </div>\n",
              "  </div>\n",
              "  "
            ]
          },
          "metadata": {},
          "execution_count": 11
        }
      ],
      "source": [
        "%%time\n",
        "df.describe()"
      ]
    },
    {
      "cell_type": "markdown",
      "metadata": {
        "collapsed": true,
        "id": "9yK7MOgE50Fw"
      },
      "source": [
        "All features are in the same scale of [0,255]"
      ]
    },
    {
      "cell_type": "markdown",
      "metadata": {
        "id": "DbAJMyMV50Fw"
      },
      "source": [
        "### Generate images for each class"
      ]
    },
    {
      "cell_type": "code",
      "execution_count": 12,
      "metadata": {
        "collapsed": true,
        "id": "LGXMroJa50Fw",
        "colab": {
          "base_uri": "https://localhost:8080/"
        },
        "outputId": "8b18a9f1-62f7-4911-d6f2-ea62fb157b31"
      },
      "outputs": [
        {
          "output_type": "stream",
          "name": "stdout",
          "text": [
            "CPU times: user 245 ms, sys: 830 µs, total: 246 ms\n",
            "Wall time: 246 ms\n"
          ]
        }
      ],
      "source": [
        "%%time\n",
        "df0=df[df['Label']=='R'].drop(['Label'],axis=1)\n",
        "df1=df[df['Label']=='RPM'].drop(['Label'],axis=1)\n",
        "df2=df[df['Label']=='gear'].drop(['Label'],axis=1)\n",
        "df3=df[df['Label']=='DoS'].drop(['Label'],axis=1)\n",
        "df4=df[df['Label']=='Fuzzy'].drop(['Label'],axis=1)"
      ]
    },
    {
      "cell_type": "code",
      "execution_count": 13,
      "metadata": {
        "id": "IfkGODr950Fx",
        "colab": {
          "base_uri": "https://localhost:8080/"
        },
        "outputId": "f2bcc7ad-7f62-49bf-bab5-fe2ad8a8a746"
      },
      "outputs": [
        {
          "output_type": "stream",
          "name": "stdout",
          "text": [
            "CPU times: user 58.4 s, sys: 1.79 s, total: 1min\n",
            "Wall time: 1min 7s\n"
          ]
        }
      ],
      "source": [
        "%%time\n",
        "# Generate 9*9 color images for class 0 (Normal)\n",
        "count=0\n",
        "ims = []\n",
        "\n",
        "image_path = \"train/0/\"\n",
        "os.makedirs(image_path)\n",
        "\n",
        "for i in range(0, len(df0)):  \n",
        "    count=count+1\n",
        "    if count<=27: \n",
        "        im=df0.iloc[i].values\n",
        "        ims=np.append(ims,im)\n",
        "    else:\n",
        "        ims=np.array(ims).reshape(9,9,3)\n",
        "        array = np.array(ims, dtype=np.uint8)\n",
        "        new_image = Image.fromarray(array)\n",
        "        new_image.save(image_path+str(i)+'.png')\n",
        "        count=0\n",
        "        ims = []"
      ]
    },
    {
      "cell_type": "code",
      "execution_count": 14,
      "metadata": {
        "id": "hiApF4K050Fx",
        "colab": {
          "base_uri": "https://localhost:8080/"
        },
        "outputId": "7c5901c1-b287-49cb-976a-4449050b4175"
      },
      "outputs": [
        {
          "output_type": "stream",
          "name": "stdout",
          "text": [
            "CPU times: user 2.15 s, sys: 73.6 ms, total: 2.23 s\n",
            "Wall time: 2.2 s\n"
          ]
        }
      ],
      "source": [
        "%%time\n",
        "# Generate 9*9 color images for class 1 (RPM spoofing)\n",
        "count=0\n",
        "ims = []\n",
        "\n",
        "image_path = \"train/1/\"\n",
        "os.makedirs(image_path)\n",
        "\n",
        "for i in range(0, len(df1)):  \n",
        "    count=count+1\n",
        "    if count<=27: \n",
        "        im=df1.iloc[i].values\n",
        "        ims=np.append(ims,im)\n",
        "    else:\n",
        "        ims=np.array(ims).reshape(9,9,3)\n",
        "        array = np.array(ims, dtype=np.uint8)\n",
        "        new_image = Image.fromarray(array)\n",
        "        new_image.save(image_path+str(i)+'.png')\n",
        "        count=0\n",
        "        ims = []"
      ]
    },
    {
      "cell_type": "code",
      "execution_count": 15,
      "metadata": {
        "id": "AUF0prPp50Fx",
        "colab": {
          "base_uri": "https://localhost:8080/"
        },
        "outputId": "8961cf9e-9301-4a0a-f212-276330ca8ca0"
      },
      "outputs": [
        {
          "output_type": "stream",
          "name": "stdout",
          "text": [
            "CPU times: user 2.03 s, sys: 80.6 ms, total: 2.12 s\n",
            "Wall time: 2.1 s\n"
          ]
        }
      ],
      "source": [
        "%%time\n",
        "# Generate 9*9 color images for class 2 (Gear spoofing)\n",
        "count=0\n",
        "ims = []\n",
        "\n",
        "image_path = \"train/2/\"\n",
        "os.makedirs(image_path)\n",
        "\n",
        "for i in range(0, len(df2)):  \n",
        "    count=count+1\n",
        "    if count<=27: \n",
        "        im=df2.iloc[i].values\n",
        "        ims=np.append(ims,im)\n",
        "    else:\n",
        "        ims=np.array(ims).reshape(9,9,3)\n",
        "        array = np.array(ims, dtype=np.uint8)\n",
        "        new_image = Image.fromarray(array)\n",
        "        new_image.save(image_path+str(i)+'.png')\n",
        "        count=0\n",
        "        ims = []"
      ]
    },
    {
      "cell_type": "code",
      "execution_count": 16,
      "metadata": {
        "collapsed": true,
        "id": "5_LwynQt50Fy",
        "colab": {
          "base_uri": "https://localhost:8080/"
        },
        "outputId": "93357f73-7219-474f-d648-db27208865c4"
      },
      "outputs": [
        {
          "output_type": "stream",
          "name": "stdout",
          "text": [
            "CPU times: user 1.94 s, sys: 70.5 ms, total: 2.01 s\n",
            "Wall time: 1.99 s\n"
          ]
        }
      ],
      "source": [
        "%%time\n",
        "# Generate 9*9 color images for class 3 (DoS attack)\n",
        "count=0\n",
        "ims = []\n",
        "\n",
        "image_path = \"train/3/\"\n",
        "os.makedirs(image_path)\n",
        "\n",
        "\n",
        "for i in range(0, len(df3)):  \n",
        "    count=count+1\n",
        "    if count<=27: \n",
        "        im=df3.iloc[i].values\n",
        "        ims=np.append(ims,im)\n",
        "    else:\n",
        "        ims=np.array(ims).reshape(9,9,3)\n",
        "        array = np.array(ims, dtype=np.uint8)\n",
        "        new_image = Image.fromarray(array)\n",
        "        new_image.save(image_path+str(i)+'.png')\n",
        "        count=0\n",
        "        ims = []"
      ]
    },
    {
      "cell_type": "code",
      "execution_count": 17,
      "metadata": {
        "collapsed": true,
        "id": "nKeHYapT50Fy",
        "colab": {
          "base_uri": "https://localhost:8080/"
        },
        "outputId": "3661abb8-ec96-406c-b1bd-c32617bae3df"
      },
      "outputs": [
        {
          "output_type": "stream",
          "name": "stdout",
          "text": [
            "CPU times: user 1.67 s, sys: 55.5 ms, total: 1.72 s\n",
            "Wall time: 1.71 s\n"
          ]
        }
      ],
      "source": [
        "%%time\n",
        "# Generate 9*9 color images for class 4 (Fuzzy attack)\n",
        "count=0\n",
        "ims = []\n",
        "\n",
        "image_path = \"train/4/\"\n",
        "os.makedirs(image_path)\n",
        "\n",
        "\n",
        "for i in range(0, len(df4)):  \n",
        "    count=count+1\n",
        "    if count<=27: \n",
        "        im=df4.iloc[i].values\n",
        "        ims=np.append(ims,im)\n",
        "    else:\n",
        "        ims=np.array(ims).reshape(9,9,3)\n",
        "        array = np.array(ims, dtype=np.uint8)\n",
        "        new_image = Image.fromarray(array)\n",
        "        new_image.save(image_path+str(i)+'.png')\n",
        "        count=0\n",
        "        ims = []"
      ]
    },
    {
      "cell_type": "markdown",
      "metadata": {
        "id": "YLPq-Vkd50Fy"
      },
      "source": [
        "### Display samples for each category"
      ]
    },
    {
      "cell_type": "code",
      "execution_count": 18,
      "metadata": {
        "id": "V8UzvnCk50Fz",
        "colab": {
          "base_uri": "https://localhost:8080/",
          "height": 195
        },
        "outputId": "5b6878c2-3548-4d53-a172-e4d73f54a1a5"
      },
      "outputs": [
        {
          "output_type": "display_data",
          "data": {
            "text/plain": [
              "<Figure size 720x720 with 5 Axes>"
            ],
            "image/png": "[encoded data removed]"
          },
          "metadata": {
            "needs_background": "light"
          }
        },
        {
          "output_type": "stream",
          "name": "stdout",
          "text": [
            "CPU times: user 426 ms, sys: 16.5 ms, total: 442 ms\n",
            "Wall time: 439 ms\n"
          ]
        }
      ],
      "source": [
        "%%time\n",
        "# Read the images for each category, the file name may vary (27.png, 83.png...)\n",
        "img1 = Image.open('./train/0/27.png')\n",
        "img2 = Image.open('./train/1/83.png')\n",
        "img3 = Image.open('./train/2/27.png')\n",
        "img4 = Image.open('./train/3/27.png')\n",
        "img5 = Image.open('./train/4/27.png')\n",
        "\n",
        "plt.figure(figsize=(10, 10)) \n",
        "plt.subplot(1,5,1)\n",
        "plt.imshow(img1)\n",
        "plt.title(\"Normal\")\n",
        "plt.subplot(1,5,2)\n",
        "plt.imshow(img2)\n",
        "plt.title(\"RPM Spoofing\")\n",
        "plt.subplot(1,5,3)\n",
        "plt.imshow(img3)\n",
        "plt.title(\"Gear Spoofing\")\n",
        "plt.subplot(1,5,4)\n",
        "plt.imshow(img4)\n",
        "plt.title(\"DoS Attack\")\n",
        "plt.subplot(1,5,5)\n",
        "plt.imshow(img5)\n",
        "plt.title(\"Fuzzy Attack\")\n",
        "plt.show()  # display it"
      ]
    },
    {
      "cell_type": "markdown",
      "metadata": {
        "collapsed": false,
        "id": "cq9olzW450Fz"
      },
      "source": [
        "## Split the training and test set "
      ]
    },
    {
      "cell_type": "code",
      "execution_count": 19,
      "metadata": {
        "id": "I3eQ_fVS50Fz",
        "colab": {
          "base_uri": "https://localhost:8080/"
        },
        "outputId": "0d6f9e99-7f3a-4006-bf02-adcb97944b96"
      },
      "outputs": [
        {
          "output_type": "stream",
          "name": "stdout",
          "text": [
            "29228\n",
            "CPU times: user 50.2 ms, sys: 15 ms, total: 65.2 ms\n",
            "Wall time: 64.9 ms\n"
          ]
        }
      ],
      "source": [
        "%%time\n",
        "# Create folders to store images\n",
        "Train_Dir='./train/'\n",
        "Val_Dir='./test/'\n",
        "allimgs=[]\n",
        "for subdir in os.listdir(Train_Dir):\n",
        "    for filename in os.listdir(os.path.join(Train_Dir,subdir)):\n",
        "        filepath=os.path.join(Train_Dir,subdir,filename)\n",
        "        allimgs.append(filepath)\n",
        "print(len(allimgs)) # Print the total number of images"
      ]
    },
    {
      "cell_type": "code",
      "execution_count": 20,
      "metadata": {
        "id": "CyyNM7go50Fz",
        "colab": {
          "base_uri": "https://localhost:8080/"
        },
        "outputId": "59b54f4f-d36d-4b69-fda9-578f0b25e9c7"
      },
      "outputs": [
        {
          "output_type": "stream",
          "name": "stdout",
          "text": [
            "CPU times: user 4 µs, sys: 0 ns, total: 4 µs\n",
            "Wall time: 5.96 µs\n"
          ]
        }
      ],
      "source": [
        "%%time\n",
        "#split a test set from the dataset, train/test size = 80%/20%\n",
        "Numbers=len(allimgs)//5 \t#size of test set (20%)\n",
        "\n",
        "def mymovefile(srcfile,dstfile):\n",
        "    if not os.path.isfile(srcfile):\n",
        "        print (\"%s not exist!\"%(srcfile))\n",
        "    else:\n",
        "        fpath,fname=os.path.split(dstfile)    \n",
        "        if not os.path.exists(fpath):\n",
        "            os.makedirs(fpath)               \n",
        "        shutil.move(srcfile,dstfile)          \n",
        "        #print (\"move %s -> %s\"%(srcfile,dstfile))"
      ]
    },
    {
      "cell_type": "code",
      "execution_count": 21,
      "metadata": {
        "id": "3VfkNbcv50F0",
        "scrolled": true,
        "colab": {
          "base_uri": "https://localhost:8080/"
        },
        "outputId": "07031c45-0015-4343-8a26-66c1245bd2c6"
      },
      "outputs": [
        {
          "output_type": "stream",
          "name": "stdout",
          "text": [
            "CPU times: user 3 µs, sys: 1e+03 ns, total: 4 µs\n",
            "Wall time: 6.44 µs\n"
          ]
        },
        {
          "output_type": "execute_result",
          "data": {
            "text/plain": [
              "5845"
            ]
          },
          "metadata": {},
          "execution_count": 21
        }
      ],
      "source": [
        "\n",
        "%%time\n",
        "# The size of test set\n",
        "Numbers"
      ]
    },
    {
      "cell_type": "code",
      "execution_count": 22,
      "metadata": {
        "id": "Ahbe55KG50F0",
        "colab": {
          "base_uri": "https://localhost:8080/"
        },
        "outputId": "a5bb99c9-8025-4ee2-d281-75c3f7f2d07d"
      },
      "outputs": [
        {
          "output_type": "stream",
          "name": "stdout",
          "text": [
            "Finish creating test set\n",
            "CPU times: user 68.7 ms, sys: 117 ms, total: 186 ms\n",
            "Wall time: 188 ms\n"
          ]
        }
      ],
      "source": [
        "%%time\n",
        "# Create the test set\n",
        "val_imgs=random.sample(allimgs,Numbers)\n",
        "for img in val_imgs:\n",
        "    dest_path=img.replace(Train_Dir,Val_Dir)\n",
        "    mymovefile(img,dest_path)\n",
        "print('Finish creating test set')"
      ]
    },
    {
      "cell_type": "code",
      "execution_count": 23,
      "metadata": {
        "collapsed": true,
        "id": "Unag_Gdo50F0",
        "colab": {
          "base_uri": "https://localhost:8080/"
        },
        "outputId": "9b5dde88-2f75-4049-f89c-81e3f590a73e"
      },
      "outputs": [
        {
          "output_type": "stream",
          "name": "stdout",
          "text": [
            "CPU times: user 3 µs, sys: 0 ns, total: 3 µs\n",
            "Wall time: 5.01 µs\n"
          ]
        }
      ],
      "source": [
        "%%time\n",
        "#resize the images 224*224 for better CNN training\n",
        "def get_224(folder,dstdir):\n",
        "    imgfilepaths=[]\n",
        "    for root,dirs,imgs in os.walk(folder):\n",
        "        for thisimg in imgs:\n",
        "            thisimg_path=os.path.join(root,thisimg)\n",
        "            imgfilepaths.append(thisimg_path)\n",
        "    for thisimg_path in imgfilepaths:\n",
        "        dir_name,filename=os.path.split(thisimg_path)\n",
        "        dir_name=dir_name.replace(folder,dstdir)\n",
        "        new_file_path=os.path.join(dir_name,filename)\n",
        "        if not os.path.exists(dir_name):\n",
        "            os.makedirs(dir_name)\n",
        "        img=cv2.imread(thisimg_path)\n",
        "        img=cv2.resize(img,(224,224))\n",
        "        cv2.imwrite(new_file_path,img)\n",
        "    print('Finish resizing'.format(folder=folder))"
      ]
    },
    {
      "cell_type": "code",
      "execution_count": 24,
      "metadata": {
        "id": "p6ijSdaK50F0",
        "colab": {
          "base_uri": "https://localhost:8080/"
        },
        "outputId": "ff178fc8-9372-486c-bf05-beab53955514"
      },
      "outputs": [
        {
          "output_type": "stream",
          "name": "stdout",
          "text": [
            "Finish resizing\n",
            "CPU times: user 48.5 s, sys: 3.08 s, total: 51.6 s\n",
            "Wall time: 52.2 s\n"
          ]
        }
      ],
      "source": [
        "%%time\n",
        "DATA_DIR_224='./train_224/'\n",
        "get_224(folder='./train/',dstdir=DATA_DIR_224)"
      ]
    },
    {
      "cell_type": "code",
      "execution_count": 25,
      "metadata": {
        "id": "uxzGvNb550F1",
        "colab": {
          "base_uri": "https://localhost:8080/"
        },
        "outputId": "ee13dec6-55a3-4d36-b789-7dcf970ac9ab"
      },
      "outputs": [
        {
          "output_type": "stream",
          "name": "stdout",
          "text": [
            "Finish resizing\n",
            "CPU times: user 12 s, sys: 741 ms, total: 12.7 s\n",
            "Wall time: 12.7 s\n"
          ]
        }
      ],
      "source": [
        "%%time\n",
        "DATA_DIR2_224='./test_224/'\n",
        "get_224(folder='./test/',dstdir=DATA_DIR2_224)"
      ]
    },
    {
      "cell_type": "markdown",
      "metadata": {
        "id": "31QvjoYVLtxM"
      },
      "source": [
        "# CHAPTER 2: A Transfer Learning and Optimized CNN Based Intrusion Detection System for Internet of Vehicles \n",
        "This is the code for the paper entitled \"**A Transfer Learning and Optimized CNN Based Intrusion Detection System for Internet of Vehicles**\" accepted in IEEE International Conference on Communications (IEEE ICC).  \n",
        "Authors: Li Yang (lyang339@uwo.ca) and Abdallah Shami (Abdallah.Shami@uwo.ca)  \n",
        "Organization: The Optimized Computing and Communications (OC2) Lab, ECE Department, Western University\n",
        "\n",
        "**Notebook 2: CNN Model Development**  \n",
        "Aims:  \n",
        "&nbsp; 1): Generate training and test images  \n",
        "&nbsp; 2): Construct CNN models (a CNN model by own, Xception, VGG16, VGG19, Resnet, Inception, InceptionResnet)  \n",
        "&nbsp; 3): Tune the hyperparameters of CNN models (hyperparameter optimization)  "
      ]
    },
    {
      "cell_type": "markdown",
      "metadata": {
        "id": "ZCFurOIlLtxQ"
      },
      "source": [
        "## Import libraries"
      ]
    },
    {
      "cell_type": "code",
      "execution_count": 26,
      "metadata": {
        "id": "4IO4Iz4MLtxQ"
      },
      "outputs": [],
      "source": [
        "import os\n",
        "from keras.preprocessing.image import  ImageDataGenerator\n",
        "from keras.layers import Dense,Flatten,GlobalAveragePooling2D,Input,Conv2D,MaxPooling2D,Dropout\n",
        "from keras.models import Model,load_model,Sequential\n",
        "from keras.applications.xception import  Xception\n",
        "from keras.applications.vgg16 import VGG16\n",
        "from keras.applications.vgg19 import VGG19\n",
        "from tensorflow.keras.applications.resnet50 import ResNet50 #from keras_applications.resnet50 import ResNet50\n",
        "from keras.applications.inception_v3 import InceptionV3\n",
        "from keras.applications.inception_resnet_v2 import InceptionResNetV2\n",
        "from keras.applications.mobilenet import MobileNet\n",
        "import keras.callbacks as kcallbacks\n",
        "import keras\n",
        "from keras.preprocessing.image import load_img,img_to_array\n",
        "import math\n",
        "import random\n",
        "from keras.utils.vis_utils import plot_model\n",
        "import matplotlib.pyplot as plt\n",
        "import sklearn.metrics as metrics\n",
        "import numpy as np\n",
        "from PIL import Image\n",
        "import sklearn.metrics as metrics\n",
        "from sklearn.metrics import accuracy_score,precision_score,recall_score,f1_score\n",
        "\n",
        "\n",
        "import tensorflow as tf "
      ]
    },
    {
      "cell_type": "markdown",
      "metadata": {
        "id": "peobPwxYLtxR"
      },
      "source": [
        "## Generate Training and Test Images"
      ]
    },
    {
      "cell_type": "code",
      "execution_count": 36,
      "metadata": {
        "id": "Mxo2QboOLtxS",
        "colab": {
          "base_uri": "https://localhost:8080/"
        },
        "outputId": "a55b4365-004b-4813-b9cc-5b0eff767990"
      },
      "outputs": [
        {
          "output_type": "stream",
          "name": "stdout",
          "text": [
            "Found 23383 images belonging to 5 classes.\n",
            "Found 5845 images belonging to 5 classes.\n",
            "CPU times: user 1.05 s, sys: 124 ms, total: 1.18 s\n",
            "Wall time: 1.66 s\n"
          ]
        }
      ],
      "source": [
        "%%time\n",
        "#generate training and test images\n",
        "TARGET_SIZE=(224,224)\n",
        "INPUT_SIZE=(224,224,3)\n",
        "BATCHSIZE=128\t#could try 128 or 32\n",
        "\n",
        "#Normalization\n",
        "train_datagen = ImageDataGenerator(rescale=1./255)\n",
        "\n",
        "test_datagen = ImageDataGenerator(rescale=1./255)\n",
        "\n",
        "train_generator = train_datagen.flow_from_directory(\n",
        "        './train_224/',\n",
        "        target_size=TARGET_SIZE,\n",
        "        batch_size=BATCHSIZE,\n",
        "        class_mode='categorical')\n",
        "validation_generator = test_datagen.flow_from_directory(\n",
        "        './test_224/',\n",
        "        target_size=TARGET_SIZE,\n",
        "        batch_size=BATCHSIZE,\n",
        "        class_mode='categorical')"
      ]
    },
    {
      "cell_type": "markdown",
      "metadata": {
        "id": "gIRLsV1RLtxT"
      },
      "source": [
        "### Define the image plotting functions"
      ]
    },
    {
      "cell_type": "code",
      "execution_count": 28,
      "metadata": {
        "collapsed": true,
        "id": "Yk9lgVt5LtxT",
        "colab": {
          "base_uri": "https://localhost:8080/"
        },
        "outputId": "fda4493a-314a-4b9f-9ff8-610d19532f4c"
      },
      "outputs": [
        {
          "output_type": "stream",
          "name": "stdout",
          "text": [
            "CPU times: user 32 µs, sys: 0 ns, total: 32 µs\n",
            "Wall time: 34.6 µs\n"
          ]
        }
      ],
      "source": [
        "%%time\n",
        "#plot the figures\n",
        "class LossHistory(keras.callbacks.Callback):\n",
        "    def on_train_begin(self, logs={}):\n",
        "        self.losses = {'batch':[], 'epoch':[]}\n",
        "        self.accuracy = {'batch':[], 'epoch':[]}\n",
        "        self.val_loss = {'batch':[], 'epoch':[]}\n",
        "        self.val_acc = {'batch':[], 'epoch':[]}\n",
        "    def on_batch_end(self, batch, logs={}):\n",
        "        self.losses['batch'].append(logs.get('loss'))\n",
        "        self.accuracy['batch'].append(logs.get('acc'))\n",
        "        self.val_loss['batch'].append(logs.get('val_loss'))\n",
        "        self.val_acc['batch'].append(logs.get('val_acc'))\n",
        "    def on_epoch_end(self, batch, logs={}):\n",
        "        self.losses['epoch'].append(logs.get('loss'))\n",
        "        self.accuracy['epoch'].append(logs.get('acc'))\n",
        "        self.val_loss['epoch'].append(logs.get('val_loss'))\n",
        "        self.val_acc['epoch'].append(logs.get('val_acc'))\n",
        "    def loss_plot(self, loss_type):\n",
        "        iters = range(len(self.losses[loss_type]))\n",
        "        plt.figure()\n",
        "        plt.plot(iters, self.losses[loss_type], 'g', label='train loss')\n",
        "        if loss_type == 'epoch':\n",
        "            # acc\n",
        "            plt.plot(iters, self.accuracy[loss_type], 'r', label='train acc')\n",
        "            # loss\n",
        "            plt.plot(iters, self.losses[loss_type], 'g', label='train loss')\n",
        "            # val_acc\n",
        "            plt.plot(iters, self.val_acc[loss_type], 'b', label='val acc')\n",
        "            # val_loss\n",
        "            plt.plot(iters, self.val_loss[loss_type], 'k', label='val loss')\n",
        "        plt.grid(True)\n",
        "        plt.xlabel(loss_type)\n",
        "        plt.ylabel('acc-loss')\n",
        "        plt.legend(loc=\"upper right\")\n",
        "        plt.show()"
      ]
    },
    {
      "cell_type": "code",
      "execution_count": 29,
      "metadata": {
        "id": "RKV9kF69LtxU",
        "colab": {
          "base_uri": "https://localhost:8080/"
        },
        "outputId": "65ed3a51-a764-415e-dff3-dfc8f911ddfe"
      },
      "outputs": [
        {
          "output_type": "stream",
          "name": "stdout",
          "text": [
            "CPU times: user 17 µs, sys: 1 µs, total: 18 µs\n",
            "Wall time: 21 µs\n"
          ]
        }
      ],
      "source": [
        "%%time\n",
        "history_this= LossHistory()"
      ]
    },
    {
      "cell_type": "markdown",
      "metadata": {
        "id": "FD0fWIotLtxV"
      },
      "source": [
        "# Construct CNN models"
      ]
    },
    {
      "cell_type": "markdown",
      "metadata": {
        "collapsed": false,
        "id": "_5xjqkskLtxW"
      },
      "source": [
        "### Model 1: a CNN model by own (baseline)"
      ]
    },
    {
      "cell_type": "code",
      "execution_count": 39,
      "metadata": {
        "collapsed": true,
        "id": "OAXbrY2vLtxW",
        "colab": {
          "base_uri": "https://localhost:8080/"
        },
        "outputId": "5b4a293c-c10d-4c63-feb1-857548da83fc"
      },
      "outputs": [
        {
          "output_type": "stream",
          "name": "stdout",
          "text": [
            "CPU times: user 0 ns, sys: 7 µs, total: 7 µs\n",
            "Wall time: 11.2 µs\n"
          ]
        }
      ],
      "source": [
        "%%time\n",
        "def cnn_by_own(input_shape,num_class,epochs,savepath='./model_own.h5'):\n",
        "    model = Sequential()\n",
        "    model.add(Conv2D(64,(3,3),strides=(1,1),input_shape=input_shape,padding='same',activation='relu',kernel_initializer='glorot_uniform'))\n",
        "    model.add(Conv2D(64,(3,3),strides=(1,1),padding='same',activation='relu',kernel_initializer='glorot_uniform'))\n",
        "    model.add(MaxPooling2D(pool_size=(2,2)))\n",
        "    model.add(Conv2D(128,(3,3),strides=(1,1),padding='same',activation='relu',kernel_initializer='glorot_uniform'))\n",
        "    model.add(Conv2D(128,(3,3),strides=(1,1),padding='same',activation='relu',kernel_initializer='glorot_uniform'))\n",
        "    model.add(MaxPooling2D(pool_size=(2,2)))\n",
        "    model.add(Conv2D(256,(3,3),strides=(1,1),padding='same',activation='relu',kernel_initializer='glorot_uniform'))\n",
        "    model.add(Conv2D(256,(3,3),strides=(1,1),padding='same',activation='relu',kernel_initializer='glorot_uniform'))\n",
        "    model.add(Conv2D(256,(3,3),strides=(1,1),padding='same',activation='relu',kernel_initializer='glorot_uniform'))\n",
        "    model.add(GlobalAveragePooling2D())\n",
        "    model.add(Dense(256,activation='relu'))\n",
        "    model.add(Dropout(rate=0.5))\n",
        "    model.add(Dense(num_class,activation='softmax'))\n",
        "    model.compile(loss='categorical_crossentropy',optimizer='adam',metrics=['accuracy'])\n",
        "    #train model\n",
        "    earlyStopping=kcallbacks.EarlyStopping(monitor='val_accuracy', patience=2, verbose=1, mode='auto')\n",
        "    saveBestModel = kcallbacks.ModelCheckpoint(filepath=savepath, monitor='val_accuracy', verbose=1, save_best_only=True, mode='auto')\n",
        "    hist=model.fit_generator(\n",
        "        train_generator,\n",
        "        steps_per_epoch=len(train_generator),\n",
        "        epochs=epochs,\n",
        "        validation_data=validation_generator,\n",
        "        validation_steps=len(validation_generator),\n",
        "        callbacks=[earlyStopping,saveBestModel,history_this],\n",
        "        #workers=2, use_multiprocessing=True\n",
        "    )"
      ]
    },
    {
      "cell_type": "code",
      "execution_count": 41,
      "metadata": {
        "id": "FlPVuhIDLtxX",
        "scrolled": true,
        "colab": {
          "base_uri": "https://localhost:8080/",
          "height": 978
        },
        "outputId": "1949383a-7b33-4ce8-bb4c-ab80f073fd4a"
      },
      "outputs": [
        {
          "output_type": "stream",
          "name": "stdout",
          "text": [
            "Epoch 1/20\n",
            "  6/183 [..............................] - ETA: 3:54 - loss: 1.2052 - accuracy: 0.7344WARNING:tensorflow:Callback method `on_train_batch_end` is slow compared to the batch time (batch time: 0.5091s vs `on_train_batch_end` time: 0.7850s). Check your callbacks.\n",
            "183/183 [==============================] - ETA: 0s - loss: 0.1787 - accuracy: 0.9362\n",
            "Epoch 1: val_accuracy improved from -inf to 0.97930, saving model to ./model_own.h5\n",
            "183/183 [==============================] - 267s 1s/step - loss: 0.1787 - accuracy: 0.9362 - val_loss: 0.0595 - val_accuracy: 0.9793\n",
            "Epoch 2/20\n",
            "183/183 [==============================] - ETA: 0s - loss: 0.0269 - accuracy: 0.9941\n",
            "Epoch 2: val_accuracy did not improve from 0.97930\n",
            "183/183 [==============================] - 271s 1s/step - loss: 0.0269 - accuracy: 0.9941 - val_loss: 0.0729 - val_accuracy: 0.9588\n",
            "Epoch 3/20\n",
            "183/183 [==============================] - ETA: 0s - loss: 0.0079 - accuracy: 0.9968\n",
            "Epoch 3: val_accuracy improved from 0.97930 to 1.00000, saving model to ./model_own.h5\n",
            "183/183 [==============================] - 268s 1s/step - loss: 0.0079 - accuracy: 0.9968 - val_loss: 1.0517e-04 - val_accuracy: 1.0000\n",
            "Epoch 4/20\n",
            "183/183 [==============================] - ETA: 0s - loss: 0.0430 - accuracy: 0.9878\n",
            "Epoch 4: val_accuracy did not improve from 1.00000\n",
            "183/183 [==============================] - 271s 1s/step - loss: 0.0430 - accuracy: 0.9878 - val_loss: 0.0477 - val_accuracy: 0.9588\n",
            "Epoch 5/20\n",
            "183/183 [==============================] - ETA: 0s - loss: 0.0496 - accuracy: 0.9723\n",
            "Epoch 5: val_accuracy did not improve from 1.00000\n",
            "183/183 [==============================] - 280s 2s/step - loss: 0.0496 - accuracy: 0.9723 - val_loss: 0.0417 - val_accuracy: 0.9778\n",
            "Epoch 5: early stopping\n"
          ]
        },
        {
          "output_type": "display_data",
          "data": {
            "text/plain": [
              "<Figure size 432x288 with 1 Axes>"
            ],
            "image/png": "[encoded data removed]"
          },
          "metadata": {
            "needs_background": "light"
          }
        },
        {
          "output_type": "display_data",
          "data": {
            "text/plain": [
              "<Figure size 432x288 with 1 Axes>"
            ],
            "image/png": "[encoded data removed]"
          },
          "metadata": {
            "needs_background": "light"
          }
        },
        {
          "output_type": "stream",
          "name": "stdout",
          "text": [
            "CPU times: user 15min 13s, sys: 1min 23s, total: 16min 36s\n",
            "Wall time: 23min 29s\n"
          ]
        }
      ],
      "source": [
        "%%time\n",
        "cnn_by_own(input_shape=INPUT_SIZE,num_class=5,epochs=20)\n",
        "history_this.loss_plot('epoch')\n",
        "history_this.loss_plot('batch')\n",
        "plt.show()"
      ]
    },
    {
      "cell_type": "markdown",
      "metadata": {
        "collapsed": true,
        "id": "yVmEQT3aLtxX"
      },
      "source": [
        "Validation accuracy of a CNN by own: 99.884%"
      ]
    },
    {
      "cell_type": "markdown",
      "metadata": {
        "id": "LFR9JLodLtxX"
      },
      "source": [
        "### Model 2: Xception"
      ]
    },
    {
      "cell_type": "code",
      "execution_count": 42,
      "metadata": {
        "collapsed": true,
        "id": "GePyfQjMLtxY",
        "colab": {
          "base_uri": "https://localhost:8080/"
        },
        "outputId": "09732c9e-c910-4bbf-bb1f-b01e3401ee5f"
      },
      "outputs": [
        {
          "output_type": "stream",
          "name": "stdout",
          "text": [
            "CPU times: user 7 µs, sys: 0 ns, total: 7 µs\n",
            "Wall time: 10.7 µs\n"
          ]
        }
      ],
      "source": [
        "%%time\n",
        "def xception( num_class, epochs,savepath='./xception.h5',history=history_this,input_shape=INPUT_SIZE):\n",
        "    model_fine_tune = Xception(include_top=False, weights='imagenet', input_shape=input_shape)\n",
        "    for layer in model_fine_tune.layers[:131]:\t\t#could be tuned to be 50, 100, or 131\n",
        "        layer.trainable = False\n",
        "    for layer in model_fine_tune.layers[131:]:\n",
        "        layer.trainable = True\n",
        "    model = GlobalAveragePooling2D()(model_fine_tune.output)\n",
        "    model=Dense(units=256,activation='relu')(model)\n",
        "    model=Dropout(0.5)(model)\n",
        "    model = Dense(num_class, activation='softmax')(model)\n",
        "    model = Model(model_fine_tune.input, model, name='xception')\n",
        "    opt = tf.keras.optimizers.Adam(lr=0.001, beta_1=0.9, beta_2=0.999, epsilon=1e-08)\n",
        "    model.compile(loss='categorical_crossentropy', optimizer=opt, metrics=['accuracy'])\n",
        "    #train model\n",
        "    earlyStopping = kcallbacks.EarlyStopping(\n",
        "        monitor='val_accuracy', patience=3, verbose=1, mode='auto')\t#patience could be tuned by 2 and 3\n",
        "    saveBestModel = kcallbacks.ModelCheckpoint(\n",
        "        filepath=savepath,\n",
        "        monitor='val_accuracy',\n",
        "        verbose=1,\n",
        "        save_best_only=True,\n",
        "        mode='auto')\n",
        "    hist = model.fit_generator(\n",
        "        train_generator,\n",
        "        steps_per_epoch=len(train_generator),\n",
        "        epochs=epochs,\n",
        "        validation_data=validation_generator,\n",
        "        validation_steps=len(validation_generator),\n",
        "        #use_multiprocessing=True, \n",
        "        callbacks=[earlyStopping, saveBestModel, history],\n",
        "    )\n"
      ]
    },
    {
      "cell_type": "code",
      "execution_count": 43,
      "metadata": {
        "id": "fl-ft1a_LtxY",
        "scrolled": true,
        "colab": {
          "base_uri": "https://localhost:8080/",
          "height": 923
        },
        "outputId": "501ef60c-5563-4339-af8d-077963e8c35f"
      },
      "outputs": [
        {
          "output_type": "stream",
          "name": "stdout",
          "text": [
            "Downloading data from https://storage.googleapis.com/tensorflow/keras-applications/xception/xception_weights_tf_dim_ordering_tf_kernels_notop.h5\n",
            "83689472/83683744 [==============================] - 2s 0us/step\n",
            "83697664/83683744 [==============================] - 2s 0us/step\n",
            "Epoch 1/20\n",
            "183/183 [==============================] - ETA: 0s - loss: 0.0352 - accuracy: 0.9899\n",
            "Epoch 1: val_accuracy improved from -inf to 1.00000, saving model to ./xception.h5\n",
            "183/183 [==============================] - 145s 756ms/step - loss: 0.0352 - accuracy: 0.9899 - val_loss: 2.4746e-04 - val_accuracy: 1.0000\n",
            "Epoch 2/20\n",
            "183/183 [==============================] - ETA: 0s - loss: 4.1415e-04 - accuracy: 1.0000\n",
            "Epoch 2: val_accuracy did not improve from 1.00000\n",
            "183/183 [==============================] - 149s 814ms/step - loss: 4.1415e-04 - accuracy: 1.0000 - val_loss: 8.0213e-05 - val_accuracy: 1.0000\n",
            "Epoch 3/20\n",
            "183/183 [==============================] - ETA: 0s - loss: 1.9556e-04 - accuracy: 1.0000\n",
            "Epoch 3: val_accuracy did not improve from 1.00000\n",
            "183/183 [==============================] - 134s 732ms/step - loss: 1.9556e-04 - accuracy: 1.0000 - val_loss: 2.8245e-05 - val_accuracy: 1.0000\n",
            "Epoch 4/20\n",
            "183/183 [==============================] - ETA: 0s - loss: 1.2464e-04 - accuracy: 1.0000\n",
            "Epoch 4: val_accuracy did not improve from 1.00000\n",
            "183/183 [==============================] - 150s 818ms/step - loss: 1.2464e-04 - accuracy: 1.0000 - val_loss: 1.5400e-05 - val_accuracy: 1.0000\n",
            "Epoch 4: early stopping\n"
          ]
        },
        {
          "output_type": "display_data",
          "data": {
            "text/plain": [
              "<Figure size 432x288 with 1 Axes>"
            ],
            "image/png": "[encoded data removed]"
          },
          "metadata": {
            "needs_background": "light"
          }
        },
        {
          "output_type": "display_data",
          "data": {
            "text/plain": [
              "<Figure size 432x288 with 1 Axes>"
            ],
            "image/png": "[encoded data removed]"
          },
          "metadata": {
            "needs_background": "light"
          }
        },
        {
          "output_type": "stream",
          "name": "stdout",
          "text": [
            "CPU times: user 6min 30s, sys: 32.6 s, total: 7min 2s\n",
            "Wall time: 9min 43s\n"
          ]
        }
      ],
      "source": [
        "%%time\n",
        "#default only 50, tf36cnn 99\n",
        "xception(num_class=5,epochs=20)\n",
        "history_this.loss_plot('epoch')\n",
        "history_this.loss_plot('batch')\n",
        "plt.show()"
      ]
    },
    {
      "cell_type": "markdown",
      "metadata": {
        "id": "LGfGSROfLtxY"
      },
      "source": [
        "Validation accuracy of Xception: 100.0%"
      ]
    },
    {
      "cell_type": "markdown",
      "metadata": {
        "id": "PRNpq2S4LtxZ"
      },
      "source": [
        "### Model 3: VGG16"
      ]
    },
    {
      "cell_type": "code",
      "execution_count": 44,
      "metadata": {
        "collapsed": true,
        "id": "V-AVez1OLtxZ"
      },
      "outputs": [],
      "source": [
        "def vgg16( num_class, epochs,savepath='./VGG16.h5',history=history_this,input_shape=INPUT_SIZE):\n",
        "    model_fine_tune = VGG16(include_top=False, weights='imagenet', input_shape=input_shape)\n",
        "    for layer in model_fine_tune.layers[:15]:\t#the number of frozen layers for transfer learning, have tuned from 5-18\n",
        "        layer.trainable = False\n",
        "    for layer in model_fine_tune.layers[15:]:\n",
        "        layer.trainable = True\n",
        "    model = GlobalAveragePooling2D()(model_fine_tune.output) #GlobalAveragePooling2D layer to convert the features to a single 1280-element vector per image\n",
        "    model=Dense(units=256,activation='relu')(model)\n",
        "    model=Dropout(0.5)(model)\n",
        "    model = Dense(num_class, activation='softmax')(model)\n",
        "    model = Model(model_fine_tune.input, model, name='vgg')\n",
        "    opt = tf.keras.optimizers.Adam(lr=0.001, beta_1=0.9, beta_2=0.999, epsilon=1e-08)\t#tuned learning rate to be 0.001\n",
        "    model.compile(loss='categorical_crossentropy', optimizer=opt, metrics=['accuracy'])\t#set the loss function to be binary crossentropy\n",
        "    #train model\n",
        "    earlyStopping = kcallbacks.EarlyStopping(\n",
        "        monitor='val_accuracy', patience=2, verbose=1, mode='auto')\t#set early stop patience to save training time\n",
        "    saveBestModel = kcallbacks.ModelCheckpoint(\n",
        "        filepath=savepath,\n",
        "        monitor='val_accuracy',\n",
        "        verbose=1,\n",
        "        save_best_only=True,\n",
        "        mode='auto')\n",
        "    hist = model.fit_generator(\n",
        "        train_generator,\n",
        "        steps_per_epoch=len(train_generator),\n",
        "        epochs=epochs,\n",
        "        validation_data=validation_generator,\n",
        "        validation_steps=len(validation_generator),\n",
        "        #use_multiprocessing=True, \n",
        "        #workers=2,\n",
        "        callbacks=[earlyStopping, saveBestModel, history],\n",
        "    )\n"
      ]
    },
    {
      "cell_type": "code",
      "execution_count": 45,
      "metadata": {
        "id": "lMrqQoH7LtxZ",
        "scrolled": true,
        "colab": {
          "base_uri": "https://localhost:8080/",
          "height": 853
        },
        "outputId": "016eb212-54b1-4f6f-e98a-f6572cd81943"
      },
      "outputs": [
        {
          "output_type": "stream",
          "name": "stdout",
          "text": [
            "Downloading data from https://storage.googleapis.com/tensorflow/keras-applications/vgg16/vgg16_weights_tf_dim_ordering_tf_kernels_notop.h5\n",
            "58892288/58889256 [==============================] - 1s 0us/step\n",
            "58900480/58889256 [==============================] - 1s 0us/step\n",
            "Epoch 1/20\n",
            "183/183 [==============================] - ETA: 0s - loss: 0.0681 - accuracy: 0.9782\n",
            "Epoch 1: val_accuracy improved from -inf to 1.00000, saving model to ./VGG16.h5\n",
            "183/183 [==============================] - 169s 902ms/step - loss: 0.0681 - accuracy: 0.9782 - val_loss: 1.0670e-07 - val_accuracy: 1.0000\n",
            "Epoch 2/20\n",
            "183/183 [==============================] - ETA: 0s - loss: 9.8735e-06 - accuracy: 1.0000\n",
            "Epoch 2: val_accuracy did not improve from 1.00000\n",
            "183/183 [==============================] - 163s 890ms/step - loss: 9.8735e-06 - accuracy: 1.0000 - val_loss: 1.6316e-10 - val_accuracy: 1.0000\n",
            "Epoch 3/20\n",
            "183/183 [==============================] - ETA: 0s - loss: 9.8129e-07 - accuracy: 1.0000\n",
            "Epoch 3: val_accuracy did not improve from 1.00000\n",
            "183/183 [==============================] - 163s 892ms/step - loss: 9.8129e-07 - accuracy: 1.0000 - val_loss: 6.1185e-11 - val_accuracy: 1.0000\n",
            "Epoch 3: early stopping\n"
          ]
        },
        {
          "output_type": "display_data",
          "data": {
            "text/plain": [
              "<Figure size 432x288 with 1 Axes>"
            ],
            "image/png": "[encoded data removed]"
          },
          "metadata": {
            "needs_background": "light"
          }
        },
        {
          "output_type": "display_data",
          "data": {
            "text/plain": [
              "<Figure size 432x288 with 1 Axes>"
            ],
            "image/png": "[encoded data removed]"
          },
          "metadata": {
            "needs_background": "light"
          }
        },
        {
          "output_type": "stream",
          "name": "stdout",
          "text": [
            "CPU times: user 5min 29s, sys: 24.1 s, total: 5min 53s\n",
            "Wall time: 8min 17s\n"
          ]
        }
      ],
      "source": [
        "%%time\n",
        "vgg16(num_class=5,epochs=20)\t#tf36cnn\n",
        "history_this.loss_plot('epoch')\n",
        "history_this.loss_plot('batch')\n",
        "plt.show()"
      ]
    },
    {
      "cell_type": "markdown",
      "metadata": {
        "collapsed": true,
        "id": "zchzJak8LtxZ"
      },
      "source": [
        "Validation accuracy of VGG16: 100.0%"
      ]
    },
    {
      "cell_type": "markdown",
      "metadata": {
        "id": "AT2pqgLRLtxa"
      },
      "source": [
        "### Model 4: VGG19"
      ]
    },
    {
      "cell_type": "code",
      "execution_count": 46,
      "metadata": {
        "collapsed": true,
        "id": "x1g3_qhBLtxa"
      },
      "outputs": [],
      "source": [
        "def vgg19( num_class, epochs,savepath='./VGG19.h5',history=history_this,input_shape=INPUT_SIZE):\n",
        "    model_fine_tune = VGG19(include_top=False, weights='imagenet', input_shape=input_shape)\n",
        "    for layer in model_fine_tune.layers[:19]:\t#the number of frozen layers for transfer learning, have tuned from 5-18\n",
        "        layer.trainable = False\n",
        "    for layer in model_fine_tune.layers[19:]:\n",
        "        layer.trainable = True\n",
        "    model = GlobalAveragePooling2D()(model_fine_tune.output)\n",
        "    model=Dense(units=256,activation='relu')(model)\n",
        "    model=Dropout(0.5)(model)\n",
        "    model = Dense(num_class, activation='softmax')(model)\n",
        "    model = Model(model_fine_tune.input, model, name='vgg')\n",
        "    opt = tf.keras.optimizers.Adam(lr=0.001, beta_1=0.9, beta_2=0.999, epsilon=1e-08)\t#tuned learning rate to be 0.001\n",
        "    model.compile(loss='categorical_crossentropy', optimizer=opt, metrics=['accuracy'])\t#set the loss function to be binary crossentropy\n",
        "    #train model\n",
        "    earlyStopping = kcallbacks.EarlyStopping(\n",
        "        monitor='val_accuracy', patience=2, verbose=1, mode='auto')\t#set early stop patience to save training time\n",
        "    saveBestModel = kcallbacks.ModelCheckpoint(\n",
        "        filepath=savepath,\n",
        "        monitor='val_accuracy',\n",
        "        verbose=1,\n",
        "        save_best_only=True,\n",
        "        mode='auto')\n",
        "    hist = model.fit_generator(\n",
        "        train_generator,\n",
        "        steps_per_epoch=len(train_generator),\n",
        "        epochs=epochs,\n",
        "        validation_data=validation_generator,\n",
        "        validation_steps=len(validation_generator),\n",
        "        #use_multiprocessing=True, \n",
        "        #workers=2,\n",
        "        callbacks=[earlyStopping, saveBestModel, history],\n",
        "    )\n"
      ]
    },
    {
      "cell_type": "code",
      "execution_count": 47,
      "metadata": {
        "id": "cifu2DnELtxa",
        "scrolled": true,
        "colab": {
          "base_uri": "https://localhost:8080/",
          "height": 853
        },
        "outputId": "7969ac09-9d19-43ac-8098-554037f0da12"
      },
      "outputs": [
        {
          "output_type": "stream",
          "name": "stdout",
          "text": [
            "Downloading data from https://storage.googleapis.com/tensorflow/keras-applications/vgg19/vgg19_weights_tf_dim_ordering_tf_kernels_notop.h5\n",
            "80142336/80134624 [==============================] - 3s 0us/step\n",
            "80150528/80134624 [==============================] - 3s 0us/step\n",
            "Epoch 1/20\n",
            "183/183 [==============================] - ETA: 0s - loss: 0.0217 - accuracy: 0.9928\n",
            "Epoch 1: val_accuracy improved from -inf to 1.00000, saving model to ./VGG19.h5\n",
            "183/183 [==============================] - 187s 1s/step - loss: 0.0217 - accuracy: 0.9928 - val_loss: 1.5500e-09 - val_accuracy: 1.0000\n",
            "Epoch 2/20\n",
            "183/183 [==============================] - ETA: 0s - loss: 1.7597e-06 - accuracy: 1.0000\n",
            "Epoch 2: val_accuracy did not improve from 1.00000\n",
            "183/183 [==============================] - 186s 1s/step - loss: 1.7597e-06 - accuracy: 1.0000 - val_loss: 5.3027e-10 - val_accuracy: 1.0000\n",
            "Epoch 3/20\n",
            "183/183 [==============================] - ETA: 0s - loss: 3.8210e-07 - accuracy: 1.0000\n",
            "Epoch 3: val_accuracy did not improve from 1.00000\n",
            "183/183 [==============================] - 186s 1s/step - loss: 3.8210e-07 - accuracy: 1.0000 - val_loss: 3.4672e-10 - val_accuracy: 1.0000\n",
            "Epoch 3: early stopping\n"
          ]
        },
        {
          "output_type": "display_data",
          "data": {
            "text/plain": [
              "<Figure size 432x288 with 1 Axes>"
            ],
            "image/png": "[encoded data removed]"
          },
          "metadata": {
            "needs_background": "light"
          }
        },
        {
          "output_type": "display_data",
          "data": {
            "text/plain": [
              "<Figure size 432x288 with 1 Axes>"
            ],
            "image/png": "[encoded data removed]"
          },
          "metadata": {
            "needs_background": "light"
          }
        },
        {
          "output_type": "stream",
          "name": "stdout",
          "text": [
            "CPU times: user 5min 16s, sys: 25.9 s, total: 5min 42s\n",
            "Wall time: 9min 24s\n"
          ]
        }
      ],
      "source": [
        "%%time\n",
        "vgg19(num_class=5,epochs=20)\t#binary classificaiton\n",
        "history_this.loss_plot('epoch')\n",
        "history_this.loss_plot('batch')\n",
        "plt.show()"
      ]
    },
    {
      "cell_type": "markdown",
      "metadata": {
        "collapsed": true,
        "id": "fRs_eY9ULtxa"
      },
      "source": [
        "Validation accuracy of VGG19: 100.0%"
      ]
    },
    {
      "cell_type": "markdown",
      "metadata": {
        "id": "m7ljv7ALLtxb"
      },
      "source": [
        "### Model 5: ResNet"
      ]
    },
    {
      "cell_type": "code",
      "execution_count": 48,
      "metadata": {
        "collapsed": true,
        "id": "Z9FV-nhsLtxb"
      },
      "outputs": [],
      "source": [
        "def resnet( num_class, epochs,savepath='./resnet.h5',history=history_this,input_shape=INPUT_SIZE):\n",
        "    model_fine_tune = ResNet50(include_top=False, weights='imagenet', input_shape=input_shape)\n",
        "    for layer in model_fine_tune.layers[:120]:\t#the number of frozen layers for transfer learning, have tuned from 50-150\n",
        "        layer.trainable = False\n",
        "    for layer in model_fine_tune.layers[120:]:\t#the number of trainable layers for transfer learning\n",
        "        layer.trainable = True\n",
        "    model = GlobalAveragePooling2D()(model_fine_tune.output)\n",
        "    model=Dense(units=256,activation='relu')(model)\n",
        "    model=Dropout(0.5)(model)\n",
        "    model = Dense(num_class, activation='softmax')(model)\n",
        "    model = Model(model_fine_tune.input, model, name='resnet')\n",
        "    opt = tf.keras.optimizers.Adam(lr=0.001, beta_1=0.9, beta_2=0.999, epsilon=1e-08)\t#tuned learning rate to be 0.001\n",
        "    model.compile(loss='categorical_crossentropy', optimizer=opt, metrics=['accuracy']) #set the loss function to be binary crossentropy\n",
        "    #train model\n",
        "    earlyStopping = kcallbacks.EarlyStopping(\n",
        "        monitor='val_accuracy', patience=2, verbose=1, mode='auto')\t#set early stop patience to save training time\n",
        "    saveBestModel = kcallbacks.ModelCheckpoint(\n",
        "        filepath=savepath,\n",
        "        monitor='val_accuracy',\n",
        "        verbose=1,\n",
        "        save_best_only=True,\n",
        "        mode='auto')\n",
        "    hist = model.fit_generator(\n",
        "        train_generator,\n",
        "        steps_per_epoch=len(train_generator),\n",
        "        epochs=epochs,\n",
        "        validation_data=validation_generator,\n",
        "        validation_steps=len(validation_generator),\n",
        "        #use_multiprocessing=True, \n",
        "        callbacks=[earlyStopping, saveBestModel, history],\n",
        "    )"
      ]
    },
    {
      "cell_type": "code",
      "execution_count": 49,
      "metadata": {
        "id": "j6wfDBXsLtxb",
        "colab": {
          "base_uri": "https://localhost:8080/",
          "height": 853
        },
        "outputId": "dc936bef-08ab-40a8-f345-c4fa7f16f25b"
      },
      "outputs": [
        {
          "output_type": "stream",
          "name": "stdout",
          "text": [
            "Downloading data from https://storage.googleapis.com/tensorflow/keras-applications/resnet/resnet50_weights_tf_dim_ordering_tf_kernels_notop.h5\n",
            "94773248/94765736 [==============================] - 1s 0us/step\n",
            "94781440/94765736 [==============================] - 1s 0us/step\n",
            "Epoch 1/20\n",
            "183/183 [==============================] - ETA: 0s - loss: 0.1833 - accuracy: 0.9392\n",
            "Epoch 1: val_accuracy improved from -inf to 0.85937, saving model to ./resnet.h5\n",
            "183/183 [==============================] - 146s 754ms/step - loss: 0.1833 - accuracy: 0.9392 - val_loss: 260.3405 - val_accuracy: 0.8594\n",
            "Epoch 2/20\n",
            "183/183 [==============================] - ETA: 0s - loss: 0.0579 - accuracy: 0.9840\n",
            "Epoch 2: val_accuracy did not improve from 0.85937\n",
            "183/183 [==============================] - 133s 726ms/step - loss: 0.0579 - accuracy: 0.9840 - val_loss: 66.7907 - val_accuracy: 0.8594\n",
            "Epoch 3/20\n",
            "183/183 [==============================] - ETA: 0s - loss: 0.0089 - accuracy: 0.9979\n",
            "Epoch 3: val_accuracy did not improve from 0.85937\n",
            "183/183 [==============================] - 132s 722ms/step - loss: 0.0089 - accuracy: 0.9979 - val_loss: 6.1496 - val_accuracy: 0.8594\n",
            "Epoch 3: early stopping\n"
          ]
        },
        {
          "output_type": "display_data",
          "data": {
            "text/plain": [
              "<Figure size 432x288 with 1 Axes>"
            ],
            "image/png": "[encoded data removed]"
          },
          "metadata": {
            "needs_background": "light"
          }
        },
        {
          "output_type": "display_data",
          "data": {
            "text/plain": [
              "<Figure size 432x288 with 1 Axes>"
            ],
            "image/png": "[encoded data removed]"
          },
          "metadata": {
            "needs_background": "light"
          }
        },
        {
          "output_type": "stream",
          "name": "stdout",
          "text": [
            "CPU times: user 6min 42s, sys: 21 s, total: 7min 3s\n",
            "Wall time: 6min 54s\n"
          ]
        }
      ],
      "source": [
        "%%time\n",
        "resnet(num_class=5,epochs=20)\t#binary classificaiton\n",
        "history_this.loss_plot('epoch')\n",
        "history_this.loss_plot('batch')\n",
        "plt.show()"
      ]
    },
    {
      "cell_type": "markdown",
      "metadata": {
        "id": "FcWxEc1iLtxb"
      },
      "source": [
        "Validation accuracy of Resnet: 98.652%"
      ]
    },
    {
      "cell_type": "markdown",
      "metadata": {
        "id": "w6_u0RJpLtxb"
      },
      "source": [
        "### Model 6: Inception"
      ]
    },
    {
      "cell_type": "code",
      "execution_count": 50,
      "metadata": {
        "collapsed": true,
        "id": "mONjtxSRLtxb"
      },
      "outputs": [],
      "source": [
        "def inception( num_class, epochs,savepath='./inception.h5',history=history_this,input_shape=INPUT_SIZE):\n",
        "    model_fine_tune = InceptionV3(include_top=False, weights='imagenet', input_shape=input_shape)\n",
        "    for layer in model_fine_tune.layers[:35]:\t#the number of frozen layers for transfer learning, have tuned from 50-150\n",
        "        layer.trainable = False\n",
        "    for layer in model_fine_tune.layers[35:]:\t#the number of trainable layers for transfer learning\n",
        "        layer.trainable = True\n",
        "    model = GlobalAveragePooling2D()(model_fine_tune.output)\n",
        "    model=Dense(units=256,activation='relu')(model)\n",
        "    model=Dropout(0.5)(model)\n",
        "    model = Dense(num_class, activation='softmax')(model)\n",
        "    model = Model(model_fine_tune.input, model, name='resnet')\n",
        "    opt = tf.keras.optimizers.Adam(lr=0.001, beta_1=0.9, beta_2=0.999, epsilon=1e-08)\t#tuned learning rate to be 0.001\n",
        "    model.compile(loss='categorical_crossentropy', optimizer=opt, metrics=['accuracy']) #set the loss function to be binary crossentropy\n",
        "    #train model\n",
        "    earlyStopping = kcallbacks.EarlyStopping(\n",
        "        monitor='val_accuracy', patience=2, verbose=1, mode='auto')\t#set early stop patience to save training time\n",
        "    saveBestModel = kcallbacks.ModelCheckpoint(\n",
        "        filepath=savepath,\n",
        "        monitor='val_accuracy',\n",
        "        verbose=1,\n",
        "        save_best_only=True,\n",
        "        mode='auto')\n",
        "    hist = model.fit_generator(\n",
        "        train_generator,\n",
        "        steps_per_epoch=len(train_generator),\n",
        "        epochs=epochs,\n",
        "        validation_data=validation_generator,\n",
        "        validation_steps=len(validation_generator),\n",
        "        #use_multiprocessing=True, \n",
        "        callbacks=[earlyStopping, saveBestModel, history],\n",
        "    )"
      ]
    },
    {
      "cell_type": "code",
      "execution_count": 51,
      "metadata": {
        "id": "XIlAJ6g8Ltxc",
        "colab": {
          "base_uri": "https://localhost:8080/",
          "height": 0
        },
        "outputId": "fc0ea49a-87bf-4804-c9a5-e4b765be5f7d"
      },
      "outputs": [
        {
          "output_type": "stream",
          "name": "stdout",
          "text": [
            "Downloading data from https://storage.googleapis.com/tensorflow/keras-applications/inception_v3/inception_v3_weights_tf_dim_ordering_tf_kernels_notop.h5\n",
            "87916544/87910968 [==============================] - 3s 0us/step\n",
            "87924736/87910968 [==============================] - 3s 0us/step\n",
            "Epoch 1/20\n",
            "183/183 [==============================] - ETA: 0s - loss: 0.0336 - accuracy: 0.9917\n",
            "Epoch 1: val_accuracy improved from -inf to 0.04123, saving model to ./inception.h5\n",
            "183/183 [==============================] - 169s 847ms/step - loss: 0.0336 - accuracy: 0.9917 - val_loss: 17113.0488 - val_accuracy: 0.0412\n",
            "Epoch 2/20\n",
            "183/183 [==============================] - ETA: 0s - loss: 0.0280 - accuracy: 0.9950\n",
            "Epoch 2: val_accuracy improved from 0.04123 to 0.88931, saving model to ./inception.h5\n",
            "183/183 [==============================] - 145s 790ms/step - loss: 0.0280 - accuracy: 0.9950 - val_loss: 199.1083 - val_accuracy: 0.8893\n",
            "Epoch 3/20\n",
            "183/183 [==============================] - ETA: 0s - loss: 0.0162 - accuracy: 0.9973\n",
            "Epoch 3: val_accuracy improved from 0.88931 to 0.96476, saving model to ./inception.h5\n",
            "183/183 [==============================] - 144s 783ms/step - loss: 0.0162 - accuracy: 0.9973 - val_loss: 4.1870 - val_accuracy: 0.9648\n",
            "Epoch 4/20\n",
            "183/183 [==============================] - ETA: 0s - loss: 0.0042 - accuracy: 0.9994\n",
            "Epoch 4: val_accuracy improved from 0.96476 to 1.00000, saving model to ./inception.h5\n",
            "183/183 [==============================] - 144s 784ms/step - loss: 0.0042 - accuracy: 0.9994 - val_loss: 3.2901e-05 - val_accuracy: 1.0000\n",
            "Epoch 5/20\n",
            "183/183 [==============================] - ETA: 0s - loss: 0.0135 - accuracy: 0.9990\n",
            "Epoch 5: val_accuracy did not improve from 1.00000\n",
            "183/183 [==============================] - 143s 778ms/step - loss: 0.0135 - accuracy: 0.9990 - val_loss: 0.0039 - val_accuracy: 1.0000\n",
            "Epoch 6/20\n",
            "183/183 [==============================] - ETA: 0s - loss: 0.0152 - accuracy: 0.9977\n",
            "Epoch 6: val_accuracy did not improve from 1.00000\n",
            "183/183 [==============================] - 143s 778ms/step - loss: 0.0152 - accuracy: 0.9977 - val_loss: 9.1393e-07 - val_accuracy: 1.0000\n",
            "Epoch 6: early stopping\n"
          ]
        },
        {
          "output_type": "display_data",
          "data": {
            "text/plain": [
              "<Figure size 432x288 with 1 Axes>"
            ],
            "image/png": "[encoded data removed]"
          },
          "metadata": {
            "needs_background": "light"
          }
        },
        {
          "output_type": "display_data",
          "data": {
            "text/plain": [
              "<Figure size 432x288 with 1 Axes>"
            ],
            "image/png": "[encoded data removed]"
          },
          "metadata": {
            "needs_background": "light"
          }
        },
        {
          "output_type": "stream",
          "name": "stdout",
          "text": [
            "CPU times: user 17min 10s, sys: 31.5 s, total: 17min 41s\n",
            "Wall time: 14min 51s\n"
          ]
        }
      ],
      "source": [
        "%%time\n",
        "inception(num_class=5,epochs=20)\t#binary classificaiton\n",
        "history_this.loss_plot('epoch')\n",
        "history_this.loss_plot('batch')\n",
        "plt.show()"
      ]
    },
    {
      "cell_type": "markdown",
      "metadata": {
        "id": "nNUc3eefLtxc"
      },
      "source": [
        "Validation accuracy of Inception: 100.0%"
      ]
    },
    {
      "cell_type": "markdown",
      "metadata": {
        "id": "yw3nBsNHLtxc"
      },
      "source": [
        "### Model 7: InceptionResnet"
      ]
    },
    {
      "cell_type": "code",
      "execution_count": 52,
      "metadata": {
        "collapsed": true,
        "id": "EKjuwGPULtxc",
        "colab": {
          "base_uri": "https://localhost:8080/"
        },
        "outputId": "3a961d5e-42e6-4ea4-a78f-d77823e586fe"
      },
      "outputs": [
        {
          "output_type": "stream",
          "name": "stdout",
          "text": [
            "CPU times: user 4 µs, sys: 0 ns, total: 4 µs\n",
            "Wall time: 7.39 µs\n"
          ]
        }
      ],
      "source": [
        "%%time\n",
        "def inceptionresnet( num_class, epochs,savepath='./inceptionresnet.h5',history=history_this,input_shape=INPUT_SIZE):\n",
        "    model_fine_tune = InceptionResNetV2(include_top=False, weights='imagenet', input_shape=input_shape)\n",
        "    for layer in model_fine_tune.layers[:500]:\t#the number of frozen layers for transfer learning, have tuned from 400-550\n",
        "        layer.trainable = False\n",
        "    for layer in model_fine_tune.layers[500:]:\t#the number of trainable layers for transfer learning\n",
        "        layer.trainable = True\n",
        "    model = GlobalAveragePooling2D()(model_fine_tune.output)\n",
        "    model=Dense(units=256,activation='relu')(model)\n",
        "    model=Dropout(0.5)(model)\n",
        "    model = Dense(num_class, activation='softmax')(model)\n",
        "    model = Model(model_fine_tune.input, model, name='resnet')\n",
        "    opt = tf.keras.optimizers.Adam(lr=0.001, beta_1=0.9, beta_2=0.999, epsilon=1e-08)\t#tuned learning rate to be 0.001\n",
        "    model.compile(loss='categorical_crossentropy', optimizer=opt, metrics=['accuracy']) #set the loss function to be binary crossentropy\n",
        "    #train model\n",
        "    earlyStopping = kcallbacks.EarlyStopping(\n",
        "        monitor='val_accuracy', patience=2, verbose=1, mode='auto')\t#set early stop patience to save training time\n",
        "    saveBestModel = kcallbacks.ModelCheckpoint(\n",
        "        filepath=savepath,\n",
        "        monitor='val_accuracy',\n",
        "        verbose=1,\n",
        "        save_best_only=True,\n",
        "        mode='auto')\n",
        "    hist = model.fit_generator(\n",
        "        train_generator,\n",
        "        steps_per_epoch=len(train_generator),\n",
        "        epochs=epochs,\n",
        "        validation_data=validation_generator,\n",
        "        validation_steps=len(validation_generator),\n",
        "        #use_multiprocessing=True, \n",
        "        callbacks=[earlyStopping, saveBestModel, history],\n",
        "    )"
      ]
    },
    {
      "cell_type": "code",
      "execution_count": 53,
      "metadata": {
        "id": "h-y8SBkVLtxc",
        "colab": {
          "base_uri": "https://localhost:8080/",
          "height": 0
        },
        "outputId": "72043bb2-b446-4f0f-db46-bd32215b237b"
      },
      "outputs": [
        {
          "output_type": "stream",
          "name": "stdout",
          "text": [
            "Downloading data from https://storage.googleapis.com/tensorflow/keras-applications/inception_resnet_v2/inception_resnet_v2_weights_tf_dim_ordering_tf_kernels_notop.h5\n",
            "219062272/219055592 [==============================] - 2s 0us/step\n",
            "219070464/219055592 [==============================] - 2s 0us/step\n",
            "Epoch 1/20\n",
            "183/183 [==============================] - ETA: 0s - loss: 0.0440 - accuracy: 0.9881\n",
            "Epoch 1: val_accuracy improved from -inf to 0.88931, saving model to ./inceptionresnet.h5\n",
            "183/183 [==============================] - 241s 1s/step - loss: 0.0440 - accuracy: 0.9881 - val_loss: 8.4516 - val_accuracy: 0.8893\n",
            "Epoch 2/20\n",
            "183/183 [==============================] - ETA: 0s - loss: 0.0025 - accuracy: 0.9997\n",
            "Epoch 2: val_accuracy improved from 0.88931 to 1.00000, saving model to ./inceptionresnet.h5\n",
            "183/183 [==============================] - 218s 1s/step - loss: 0.0025 - accuracy: 0.9997 - val_loss: 6.0891e-06 - val_accuracy: 1.0000\n",
            "Epoch 3/20\n",
            "183/183 [==============================] - ETA: 0s - loss: 2.2075e-05 - accuracy: 1.0000\n",
            "Epoch 3: val_accuracy did not improve from 1.00000\n",
            "183/183 [==============================] - 217s 1s/step - loss: 2.2075e-05 - accuracy: 1.0000 - val_loss: 2.3175e-07 - val_accuracy: 1.0000\n",
            "Epoch 4/20\n",
            "183/183 [==============================] - ETA: 0s - loss: 0.0041 - accuracy: 0.9999\n",
            "Epoch 4: val_accuracy did not improve from 1.00000\n",
            "183/183 [==============================] - 217s 1s/step - loss: 0.0041 - accuracy: 0.9999 - val_loss: 0.1145 - val_accuracy: 0.9588\n",
            "Epoch 4: early stopping\n"
          ]
        },
        {
          "output_type": "display_data",
          "data": {
            "text/plain": [
              "<Figure size 432x288 with 1 Axes>"
            ],
            "image/png": "[encoded data removed]"
          },
          "metadata": {
            "needs_background": "light"
          }
        },
        {
          "output_type": "display_data",
          "data": {
            "text/plain": [
              "<Figure size 432x288 with 1 Axes>"
            ],
            "image/png": "[encoded data removed]"
          },
          "metadata": {
            "needs_background": "light"
          }
        },
        {
          "output_type": "stream",
          "name": "stdout",
          "text": [
            "CPU times: user 13min 25s, sys: 1min 19s, total: 14min 44s\n",
            "Wall time: 15min\n"
          ]
        }
      ],
      "source": [
        "%%time\n",
        "inceptionresnet(num_class=5,epochs=20)\t# 5-class classificaiton\n",
        "history_this.loss_plot('epoch')\n",
        "history_this.loss_plot('batch')\n",
        "plt.show()"
      ]
    },
    {
      "cell_type": "markdown",
      "metadata": {
        "collapsed": true,
        "id": "n9NymMNwLtxd"
      },
      "source": [
        "Validation accuracy of InceptionResnet: 99.993%"
      ]
    },
    {
      "cell_type": "markdown",
      "metadata": {
        "id": "UWS7_X04Ltxd"
      },
      "source": [
        "# Hyperparameter Optimization \n",
        "Use VGG16 as an example.  \n",
        "\n",
        "Tuned hyperparameters of CNN: \n",
        "1. The number of frozen layers\n",
        "2. The number of epochs\n",
        "3. Early stop patience\n",
        "4. Learning rate\n",
        "5. Dropout rate\n",
        "\n",
        "Hyperparameter optimization methods:\n",
        "1. Random search\n",
        "2. Bayesian optimization - Tree Parzen Estimator(BO-TPE)"
      ]
    },
    {
      "cell_type": "code",
      "execution_count": 54,
      "metadata": {
        "id": "PYumvAK3Ltxd"
      },
      "outputs": [],
      "source": [
        "def vgg16( num_class,epochs=20,frozen=15,lr=0.001,patience=2, dropout_rate=0.5,verbose=0, savepath='./VGG16.h5',history=history_this,input_shape=INPUT_SIZE):\n",
        "    model_fine_tune = VGG16(include_top=False, weights='imagenet', input_shape=input_shape)\n",
        "    for layer in model_fine_tune.layers[:frozen]:\t#the number of frozen layers for transfer learning, have tuned from 5-18\n",
        "        layer.trainable = False\n",
        "    for layer in model_fine_tune.layers[frozen:]:\n",
        "        layer.trainable = True\n",
        "    model = GlobalAveragePooling2D()(model_fine_tune.output)\n",
        "    model=Dense(units=256,activation='relu')(model)\n",
        "    model=Dropout(dropout_rate)(model)\n",
        "    model = Dense(num_class, activation='softmax')(model)\n",
        "    model = Model(model_fine_tune.input, model, name='vgg')\n",
        "    opt = tf.keras.optimizers.Adam(lr=lr, beta_1=0.9, beta_2=0.999, epsilon=1e-08)\t#tuned learning rate to be 0.001\n",
        "    model.compile(loss='categorical_crossentropy', optimizer=opt, metrics=['accuracy'])\t#set the loss function to be binary crossentropy\n",
        "    #train model\n",
        "    earlyStopping = kcallbacks.EarlyStopping(\n",
        "        monitor='val_accuracy', patience=patience, verbose=verbose, mode='auto')\t#set early stop patience to save training time\n",
        "    saveBestModel = kcallbacks.ModelCheckpoint(\n",
        "        filepath=savepath,\n",
        "        monitor='val_accuracy',\n",
        "        verbose=verbose,\n",
        "        save_best_only=True,\n",
        "        mode='auto')\n",
        "    hist = model.fit_generator(\n",
        "        train_generator,\n",
        "        steps_per_epoch=len(train_generator),\n",
        "        epochs=epochs,\n",
        "        validation_data=validation_generator,\n",
        "        validation_steps=len(validation_generator),\n",
        "        #use_multiprocessing=True, \n",
        "        #workers=2,\n",
        "        callbacks=[earlyStopping, saveBestModel, history],\n",
        "        verbose = verbose\n",
        "    )\n",
        "    return hist\n"
      ]
    },
    {
      "cell_type": "code",
      "execution_count": 55,
      "metadata": {
        "collapsed": true,
        "id": "smzKeAf2Ltxd"
      },
      "outputs": [],
      "source": [
        "def prediction(vgg_model):\n",
        "#read images from validation folder\n",
        "    rootdir = './test_224/'\n",
        "    test_laels = []\n",
        "    test_images=[]\n",
        "    for subdir, dirs, files in os.walk(rootdir):\n",
        "        for file in files:\n",
        "            if not (file.endswith(\".jpeg\"))|(file.endswith(\".jpg\"))|(file.endswith(\".png\")):\n",
        "                continue\n",
        "            test_laels.append(subdir.split('/')[-1])\n",
        "            test_images.append(os.path.join(subdir, file))\n",
        "\n",
        "    predict=[]\n",
        "    length=len(test_images)\n",
        "    label=validation_generator.class_indices\n",
        "    label={v: k for k, v in label.items()}\n",
        "    for i in range(length):\n",
        "        inputimg=test_images[i]\n",
        "        test_batch=[]\n",
        "        thisimg=np.array(Image.open(inputimg))/255 #read all the images in validation set\n",
        "        #print(thisimg)\n",
        "        test_shape=(1,)+thisimg.shape\n",
        "        thisimg=thisimg.reshape(test_shape)\n",
        "        vgg_model_batch=vgg_model.predict(thisimg) #use master model to process the input image\n",
        "        #generate result by model 1\n",
        "        prob=vgg_model_batch[0,np.argmax(vgg_model_batch,axis=1)[0]]\n",
        "        res=label[np.argmax(vgg_model_batch,axis=1)[0]]\n",
        "        predict.append(res)\n",
        "    acc=accuracy_score(test_laels,predict)\n",
        "    return acc"
      ]
    },
    {
      "cell_type": "code",
      "execution_count": 56,
      "metadata": {
        "id": "NMN_YAV3Ltxd",
        "colab": {
          "base_uri": "https://localhost:8080/"
        },
        "outputId": "d1d0bf9d-f524-4f90-b0c2-df9374287827"
      },
      "outputs": [
        {
          "output_type": "stream",
          "name": "stdout",
          "text": [
            "CPU times: user 138 ms, sys: 27.6 ms, total: 165 ms\n",
            "Wall time: 399 ms\n"
          ]
        }
      ],
      "source": [
        "%%time\n",
        "#define the objective function to be optimized\n",
        "import time\n",
        "from hyperopt import hp, fmin, tpe, rand, STATUS_OK, Trials\n",
        "import matplotlib.pyplot as plt\n",
        "import statistics \n",
        "\n",
        "def objective(params):\n",
        "    \n",
        "    params = {\n",
        "        'frozen': int(params['frozen']),\n",
        "        'epochs': int(params['epochs']),\n",
        "        'patience': int(params['patience']),\n",
        "        'lr': abs(float(params['lr'])),\n",
        "        'dropout_rate': abs(float(params['dropout_rate'])),\n",
        "    }\n",
        "    frozen=params['frozen']\n",
        "    epochs=params['epochs']\n",
        "    patience=params['patience']\n",
        "    lr=params['lr']\n",
        "    dropout_rate=params['dropout_rate']\n",
        "\n",
        "    vgg16(num_class=5, frozen=frozen,epochs=epochs,patience=patience, lr=lr, dropout_rate=dropout_rate)\n",
        "\n",
        "    acc=prediction(vgg_model=load_model('./VGG16.h5'))\n",
        "\n",
        "    print('accuracy:%s'%acc)\n",
        "    return {'loss': -acc, 'status': STATUS_OK }\n",
        "    "
      ]
    },
    {
      "cell_type": "code",
      "execution_count": 57,
      "metadata": {
        "id": "RoYvxIIcLtxe",
        "colab": {
          "base_uri": "https://localhost:8080/",
          "height": 105
        },
        "outputId": "cba9fd76-8113-4b07-ddfc-fe2963b42095"
      },
      "outputs": [
        {
          "output_type": "stream",
          "name": "stdout",
          "text": [
            "CPU times: user 3 µs, sys: 0 ns, total: 3 µs\n",
            "Wall time: 7.15 µs\n"
          ]
        },
        {
          "output_type": "execute_result",
          "data": {
            "text/plain": [
              "'\\nspace = {\\n    \\'frozen\\': hp.quniform(\\'frozen\\', 15, 18, 1),\\n    \\'epochs\\': hp.quniform(\\'epochs\\', 5, 6, 1),\\n    \\'patience\\': hp.quniform(\\'patience\\', 2, 4, 1),\\n    \\'lr\\': hp.quniform(\\'lr\\', 0.001, 0.006, 0.001),\\n    \\'dropout_rate\\': hp.quniform(\\'dropout_rate\\', 0.3, 0.6, 0.1),\\n}\\n\\nt1=time.time()\\nbest = fmin(fn=objective,\\n            space=space,\\n            algo=tpe.suggest,\\n            max_evals=10)\\nprint(\"Hyperopt estimated optimum {}\".format(best))\\nt2=time.time()\\nprint(\"Time: \"+str(t2-t1))\\n'"
            ],
            "application/vnd.google.colaboratory.intrinsic+json": {
              "type": "string"
            }
          },
          "metadata": {},
          "execution_count": 57
        }
      ],
      "source": [
        "%%time\n",
        "#Hyperparameter optimization by Bayesian optimization - Tree Parzen Estimator\n",
        "'''\n",
        "space = {\n",
        "    'frozen': hp.quniform('frozen', 15, 18, 1),\n",
        "    'epochs': hp.quniform('epochs', 5, 6, 1),\n",
        "    'patience': hp.quniform('patience', 2, 4, 1),\n",
        "    'lr': hp.quniform('lr', 0.001, 0.006, 0.001),\n",
        "    'dropout_rate': hp.quniform('dropout_rate', 0.3, 0.6, 0.1),\n",
        "}\n",
        "\n",
        "t1=time.time()\n",
        "best = fmin(fn=objective,\n",
        "            space=space,\n",
        "            algo=tpe.suggest,\n",
        "            max_evals=10)\n",
        "print(\"Hyperopt estimated optimum {}\".format(best))\n",
        "t2=time.time()\n",
        "print(\"Time: \"+str(t2-t1))\n",
        "'''"
      ]
    },
    {
      "cell_type": "code",
      "execution_count": 58,
      "metadata": {
        "id": "F72QAyiMLtxe",
        "colab": {
          "base_uri": "https://localhost:8080/",
          "height": 105
        },
        "outputId": "121b3588-b9c1-4005-8d93-f514905cff95"
      },
      "outputs": [
        {
          "output_type": "stream",
          "name": "stdout",
          "text": [
            "CPU times: user 3 µs, sys: 0 ns, total: 3 µs\n",
            "Wall time: 5.25 µs\n"
          ]
        },
        {
          "output_type": "execute_result",
          "data": {
            "text/plain": [
              "'\\nspace = {\\n    \\'frozen\\': hp.quniform(\\'frozen\\', 15, 18, 1),\\n    \\'epochs\\': hp.quniform(\\'epochs\\', 5, 21, 5),\\n    \\'patience\\': hp.quniform(\\'patience\\', 2, 4, 1),\\n    \\'lr\\': hp.quniform(\\'lr\\', 0.001, 0.006, 0.001),\\n    \\'dropout_rate\\': hp.quniform(\\'dropout_rate\\', 0.3, 0.6, 0.1),\\n}\\n\\nt1=time.time()\\nbest = fmin(fn=objective,\\n            space=space,\\n            algo=rand.suggest,\\n            max_evals=10)\\nprint(\"Hyperopt estimated optimum {}\".format(best))\\nt2=time.time()\\nprint(\"Time: \"+str(t2-t1))\\n'"
            ],
            "application/vnd.google.colaboratory.intrinsic+json": {
              "type": "string"
            }
          },
          "metadata": {},
          "execution_count": 58
        }
      ],
      "source": [
        "%%time\n",
        "#Hyperparameter optimization by Random search\n",
        "'''\n",
        "space = {\n",
        "    'frozen': hp.quniform('frozen', 15, 18, 1),\n",
        "    'epochs': hp.quniform('epochs', 5, 21, 5),\n",
        "    'patience': hp.quniform('patience', 2, 4, 1),\n",
        "    'lr': hp.quniform('lr', 0.001, 0.006, 0.001),\n",
        "    'dropout_rate': hp.quniform('dropout_rate', 0.3, 0.6, 0.1),\n",
        "}\n",
        "\n",
        "t1=time.time()\n",
        "best = fmin(fn=objective,\n",
        "            space=space,\n",
        "            algo=rand.suggest,\n",
        "            max_evals=10)\n",
        "print(\"Hyperopt estimated optimum {}\".format(best))\n",
        "t2=time.time()\n",
        "print(\"Time: \"+str(t2-t1))\n",
        "'''"
      ]
    },
    {
      "cell_type": "code",
      "execution_count": 59,
      "metadata": {
        "id": "zqQdjo0RLtxe",
        "colab": {
          "base_uri": "https://localhost:8080/"
        },
        "outputId": "0fe03140-c16a-45db-ac8b-0ebac2308ec7"
      },
      "outputs": [
        {
          "output_type": "stream",
          "name": "stdout",
          "text": [
            "CPU times: user 3 µs, sys: 0 ns, total: 3 µs\n",
            "Wall time: 5.01 µs\n"
          ]
        }
      ],
      "source": [
        "%%time\n",
        "# Retrain the model by using the best hyperparameter values to obtain the best model\n",
        "#vgg16(num_class=5, frozen=16,epochs=15,patience=3, lr=0.002, dropout_rate=0.6,verbose=1)"
      ]
    },
    {
      "cell_type": "markdown",
      "metadata": {
        "id": "ly4ghmCk0cU0"
      },
      "source": [
        "# CHAPTER 3: A Transfer Learning and Optimized CNN Based Intrusion Detection System for Internet of Vehicles \n",
        "This is the code for the paper entitled \"**A Transfer Learning and Optimized CNN Based Intrusion Detection System for Internet of Vehicles**\" accepted in IEEE International Conference on Communications (IEEE ICC).  \n",
        "Authors: Li Yang (lyang339@uwo.ca) and Abdallah Shami (Abdallah.Shami@uwo.ca)  \n",
        "Organization: The Optimized Computing and Communications (OC2) Lab, ECE Department, Western University\n",
        "\n",
        "**Notebook 3: Ensemble Models**  \n",
        "Aims:  construct three ensemble techniques: Bagging, Probability averaging, and Concatenation, to further improve prediction accuracy  \n",
        "* Bagging: use majority voting of top single models  \n",
        "* Probability averaging: calculate the average probability of the single model prediction results (the last layer of CNN models), and select the largest probability class to be the final class  \n",
        "* Concatenation: extract the features in the last several layers of single models, and concatenate together to generate the new layers, and add a dense layer to do prediction"
      ]
    },
    {
      "cell_type": "markdown",
      "metadata": {
        "id": "fJDM8t-K0cU5"
      },
      "source": [
        "## Import libraries"
      ]
    },
    {
      "cell_type": "code",
      "execution_count": 60,
      "metadata": {
        "id": "3Mx8KvwF0cU6"
      },
      "outputs": [],
      "source": [
        "import warnings\n",
        "warnings.filterwarnings(\"ignore\")\n",
        "import keras\n",
        "from keras.models import Model,load_model\n",
        "from keras import Input\n",
        "from keras.layers import concatenate,Dense,Flatten,Dropout\n",
        "from keras.preprocessing.image import  ImageDataGenerator\n",
        "import keras.callbacks as kcallbacks\n",
        "import os\n",
        "import math\n",
        "from keras.utils.vis_utils import plot_model\n",
        "from keras.callbacks import EarlyStopping, ReduceLROnPlateau, ModelCheckpoint, LearningRateScheduler\n",
        "from keras.optimizers import gradient_descent_v2 #from keras.optimizers import SGD\n",
        "import operator\n",
        "import numpy as np\n",
        "from PIL import Image\n",
        "from collections import defaultdict"
      ]
    },
    {
      "cell_type": "markdown",
      "metadata": {
        "id": "tN6cdfW40cU8"
      },
      "source": [
        "## Read the test set"
      ]
    },
    {
      "cell_type": "code",
      "execution_count": 61,
      "metadata": {
        "id": "wp3eH6Bh0cU9",
        "colab": {
          "base_uri": "https://localhost:8080/"
        },
        "outputId": "d8bdf94a-c3bc-45cf-df16-a0f640a00475"
      },
      "outputs": [
        {
          "output_type": "stream",
          "name": "stdout",
          "text": [
            "Found 5845 images belonging to 5 classes.\n",
            "CPU times: user 214 ms, sys: 84.2 ms, total: 298 ms\n",
            "Wall time: 242 ms\n"
          ]
        }
      ],
      "source": [
        "%%time\n",
        "#generate images from train set and validation set\n",
        "TARGET_SIZE=(224,224)\n",
        "INPUT_SIZE=(224,224,3)\n",
        "BATCHSIZE=128\n",
        "\n",
        "test_datagen = ImageDataGenerator(rescale=1./255)\n",
        "\n",
        "\n",
        "validation_generator = test_datagen.flow_from_directory(\n",
        "        './test_224/',\n",
        "        target_size=TARGET_SIZE,\n",
        "        batch_size=BATCHSIZE,\n",
        "        class_mode='categorical')"
      ]
    },
    {
      "cell_type": "code",
      "execution_count": 62,
      "metadata": {
        "id": "qLHdF-B00cU-",
        "colab": {
          "base_uri": "https://localhost:8080/"
        },
        "outputId": "99403042-99ab-43f2-e8a4-9413fb64a2f9"
      },
      "outputs": [
        {
          "output_type": "stream",
          "name": "stdout",
          "text": [
            "CPU times: user 5 µs, sys: 1e+03 ns, total: 6 µs\n",
            "Wall time: 8.82 µs\n"
          ]
        }
      ],
      "source": [
        "%%time\n",
        "#generate labels indicating disease (1) or normal (0)\n",
        "label=validation_generator.class_indices\n",
        "label={v: k for k, v in label.items()}"
      ]
    },
    {
      "cell_type": "code",
      "execution_count": 63,
      "metadata": {
        "id": "i058nn6M0cU-",
        "colab": {
          "base_uri": "https://localhost:8080/"
        },
        "outputId": "f71c82e4-0028-45cf-918c-e7d45a5a15e6"
      },
      "outputs": [
        {
          "output_type": "stream",
          "name": "stdout",
          "text": [
            "{0: '0', 1: '1', 2: '2', 3: '3', 4: '4'}\n"
          ]
        }
      ],
      "source": [
        "print(label)"
      ]
    },
    {
      "cell_type": "code",
      "execution_count": 64,
      "metadata": {
        "id": "ErPbRu0I0cU_",
        "colab": {
          "base_uri": "https://localhost:8080/"
        },
        "outputId": "4f05e266-ddc4-4af7-a371-8f85ee4f0229"
      },
      "outputs": [
        {
          "output_type": "stream",
          "name": "stdout",
          "text": [
            "3 ./test_224/3/10415.png\n",
            "CPU times: user 17.7 ms, sys: 1.87 ms, total: 19.6 ms\n",
            "Wall time: 20 ms\n"
          ]
        }
      ],
      "source": [
        "%%time\n",
        "#read images from validation folder\n",
        "rootdir = './test_224/'\n",
        "test_laels = []\n",
        "test_images=[]\n",
        "for subdir, dirs, files in os.walk(rootdir):\n",
        "    for file in files:\n",
        "        if not (file.endswith(\".jpeg\"))|(file.endswith(\".jpg\"))|(file.endswith(\".png\")):\n",
        "            continue\n",
        "        test_laels.append(subdir.split('/')[-1])\n",
        "        test_images.append(os.path.join(subdir, file))\n",
        "        \n",
        "print(test_laels[0],test_images[0])"
      ]
    },
    {
      "cell_type": "markdown",
      "metadata": {
        "id": "eETDhmZd0cVA"
      },
      "source": [
        "## Load 5 trained CNN models"
      ]
    },
    {
      "cell_type": "code",
      "execution_count": 65,
      "metadata": {
        "id": "KWRiMTxu0cVA",
        "colab": {
          "base_uri": "https://localhost:8080/"
        },
        "outputId": "8fcbcf73-2fa2-4759-e007-b2a2a06b76a6"
      },
      "outputs": [
        {
          "output_type": "stream",
          "name": "stdout",
          "text": [
            "CPU times: user 1.17 s, sys: 186 ms, total: 1.36 s\n",
            "Wall time: 1.56 s\n"
          ]
        }
      ],
      "source": [
        "%%time\n",
        " #load model 1: xception\n",
        "xception_model=load_model('./xception.h5')"
      ]
    },
    {
      "cell_type": "code",
      "execution_count": 66,
      "metadata": {
        "collapsed": true,
        "id": "bOUBHb8-0cVB",
        "colab": {
          "base_uri": "https://localhost:8080/"
        },
        "outputId": "8bab8fec-ddfc-4836-b466-b73e20538247"
      },
      "outputs": [
        {
          "output_type": "stream",
          "name": "stdout",
          "text": [
            "CPU times: user 385 ms, sys: 136 ms, total: 521 ms\n",
            "Wall time: 694 ms\n"
          ]
        }
      ],
      "source": [
        "%%time\n",
        " #load model 2: VGG16\n",
        "vgg_model=load_model('./VGG16.h5')"
      ]
    },
    {
      "cell_type": "code",
      "execution_count": 67,
      "metadata": {
        "collapsed": true,
        "id": "T7KN4amD0cVB",
        "colab": {
          "base_uri": "https://localhost:8080/"
        },
        "outputId": "27caff9e-f624-4739-e930-3f405eb16b00"
      },
      "outputs": [
        {
          "output_type": "stream",
          "name": "stdout",
          "text": [
            "CPU times: user 408 ms, sys: 107 ms, total: 515 ms\n",
            "Wall time: 690 ms\n"
          ]
        }
      ],
      "source": [
        "%%time\n",
        " #load model 3: VGG19\n",
        "vgg19_model=load_model('./VGG19.h5')"
      ]
    },
    {
      "cell_type": "code",
      "execution_count": 68,
      "metadata": {
        "collapsed": true,
        "id": "Vx0ykdkJ0cVB",
        "colab": {
          "base_uri": "https://localhost:8080/"
        },
        "outputId": "2f8e5138-9353-4ce0-a74a-da3f249ff16f"
      },
      "outputs": [
        {
          "output_type": "stream",
          "name": "stdout",
          "text": [
            "CPU times: user 3.29 s, sys: 368 ms, total: 3.66 s\n",
            "Wall time: 4.11 s\n"
          ]
        }
      ],
      "source": [
        "%%time\n",
        " #load model 4: inception\n",
        "incep_model=load_model('./inception.h5')"
      ]
    },
    {
      "cell_type": "code",
      "execution_count": 69,
      "metadata": {
        "collapsed": true,
        "id": "B0epREyH0cVC",
        "colab": {
          "base_uri": "https://localhost:8080/"
        },
        "outputId": "43a7b198-8484-4ea7-ac94-b4ad3d7c30cc"
      },
      "outputs": [
        {
          "output_type": "stream",
          "name": "stdout",
          "text": [
            "CPU times: user 6.6 s, sys: 855 ms, total: 7.45 s\n",
            "Wall time: 8.35 s\n"
          ]
        }
      ],
      "source": [
        "%%time\n",
        " #load model 5: inceptionresnet\n",
        "inres_model=load_model('./inceptionresnet.h5')"
      ]
    },
    {
      "cell_type": "markdown",
      "metadata": {
        "id": "sm5KCYrb0cVC"
      },
      "source": [
        "## Use the original CNN base models to make predictions"
      ]
    },
    {
      "cell_type": "markdown",
      "metadata": {
        "id": "XSHpbhBX0cVC"
      },
      "source": [
        "### 1. Xception"
      ]
    },
    {
      "cell_type": "code",
      "execution_count": 72,
      "metadata": {
        "id": "Pwy0QSaX0cVD",
        "colab": {
          "base_uri": "https://localhost:8080/",
          "height": 338
        },
        "outputId": "760f670b-cb1d-43b4-a1e6-4c82b9fb0e54"
      },
      "outputs": [
        {
          "output_type": "stream",
          "name": "stdout",
          "text": [
            "Predicted result for the first image: 3\n",
            "Confidence level: 0.9958246\n"
          ]
        },
        {
          "output_type": "display_data",
          "data": {
            "text/plain": [
              "<Figure size 432x288 with 1 Axes>"
            ],
            "image/png": "[encoded data removed]"
          },
          "metadata": {
            "needs_background": "light"
          }
        },
        {
          "output_type": "stream",
          "name": "stdout",
          "text": [
            "CPU times: user 178 ms, sys: 4.74 ms, total: 183 ms\n",
            "Wall time: 187 ms\n"
          ]
        }
      ],
      "source": [
        "%%time\n",
        "#Single image prediction\n",
        "import cv2\n",
        "import matplotlib.pyplot as plt\n",
        "test=cv2.imread(test_images[0])\n",
        "\n",
        "img_show=test[:,:,[2,1,0]]\n",
        "test=test/255.\n",
        "test_shape=(1,)+test.shape\n",
        "test=test.reshape(test_shape)\n",
        "\n",
        "res=xception_model.predict(test)\n",
        "\n",
        "prob=res[0,np.argmax(res,axis=1)[0]]\n",
        "res=label[np.argmax(res,axis=1)[0]]\n",
        "print('Predicted result for the first image: %s'%res)\n",
        "print('Confidence level: %s'%prob)\n",
        "plt.imshow(img_show)\n",
        "plt.show()"
      ]
    },
    {
      "cell_type": "code",
      "execution_count": 73,
      "metadata": {
        "id": "RjzRDlj-0cVD",
        "colab": {
          "base_uri": "https://localhost:8080/"
        },
        "outputId": "2efdbb20-2609-491c-8472-2cfa80ed9d3c"
      },
      "outputs": [
        {
          "output_type": "stream",
          "name": "stdout",
          "text": [
            "CPU times: user 5min 44s, sys: 10.8 s, total: 5min 55s\n",
            "Wall time: 6min 11s\n"
          ]
        }
      ],
      "source": [
        "%%time\n",
        "import time\n",
        "predict=[]\n",
        "length=len(test_images)\n",
        "t1 = time.time()\n",
        "for i in range(length):\n",
        "    inputimg=test_images[i]\n",
        "    test_batch=[]\n",
        "    thisimg=np.array(Image.open(inputimg))/255 #read all the images in validation set\n",
        "    #print(thisimg)\n",
        "    test_shape=(1,)+thisimg.shape\n",
        "    thisimg=thisimg.reshape(test_shape)\n",
        "    xception_model_batch=xception_model.predict(thisimg) #use master model to process the input image\n",
        "    #generate result by model 1\n",
        "    prob=xception_model_batch[0,np.argmax(xception_model_batch,axis=1)[0]]\n",
        "    res=label[np.argmax(xception_model_batch,axis=1)[0]]\n",
        "    predict.append(res)\n",
        "    "
      ]
    },
    {
      "cell_type": "code",
      "execution_count": 74,
      "metadata": {
        "id": "cM4Yrbo50cVD",
        "colab": {
          "base_uri": "https://localhost:8080/"
        },
        "outputId": "97423743-25ce-4818-95d2-5fdc9f84c038"
      },
      "outputs": [
        {
          "output_type": "stream",
          "name": "stdout",
          "text": [
            "Xception accuracy: 1.0\n",
            "precision: 1.0\n",
            "recall: 1.0\n",
            "f1: 1.0\n",
            "[[5023    0    0    0    0]\n",
            " [   0  241    0    0    0]\n",
            " [   0    0  194    0    0]\n",
            " [   0    0    0  211    0]\n",
            " [   0    0    0    0  176]]\n",
            "              precision    recall  f1-score   support\n",
            "\n",
            "           0       1.00      1.00      1.00      5023\n",
            "           1       1.00      1.00      1.00       241\n",
            "           2       1.00      1.00      1.00       194\n",
            "           3       1.00      1.00      1.00       211\n",
            "           4       1.00      1.00      1.00       176\n",
            "\n",
            "    accuracy                           1.00      5845\n",
            "   macro avg       1.00      1.00      1.00      5845\n",
            "weighted avg       1.00      1.00      1.00      5845\n",
            "\n",
            "CPU times: user 105 ms, sys: 5.2 ms, total: 110 ms\n",
            "Wall time: 120 ms\n"
          ]
        }
      ],
      "source": [
        "%%time\n",
        "from sklearn.metrics import accuracy_score,precision_score,recall_score,f1_score\n",
        "acc=accuracy_score(test_laels,predict)\n",
        "pre=precision_score(test_laels,predict,average='weighted')\n",
        "re=recall_score(test_laels,predict,average='weighted')\n",
        "f1=f1_score(test_laels,predict,average='weighted')\n",
        "print('Xception accuracy: %s'%acc)\n",
        "print('precision: %s'%pre)\n",
        "print('recall: %s'%re)\n",
        "print('f1: %s'%f1)\n",
        "from sklearn.metrics import classification_report, confusion_matrix\n",
        "print(confusion_matrix(test_laels, predict))\n",
        "target_names = ['0', '1','2','3','4']\n",
        "print(classification_report(test_laels, predict, target_names=target_names))"
      ]
    },
    {
      "cell_type": "markdown",
      "metadata": {
        "id": "xsdbGjIz0cVE"
      },
      "source": [
        "### 2. VGG16"
      ]
    },
    {
      "cell_type": "code",
      "execution_count": 75,
      "metadata": {
        "id": "VN_uIIo10cVE",
        "colab": {
          "base_uri": "https://localhost:8080/"
        },
        "outputId": "74d923f9-1af0-498b-d120-fabc83d54c36"
      },
      "outputs": [
        {
          "output_type": "stream",
          "name": "stdout",
          "text": [
            "CPU times: user 5min 34s, sys: 10.8 s, total: 5min 45s\n",
            "Wall time: 5min 50s\n"
          ]
        }
      ],
      "source": [
        "%%time\n",
        "predict=[]\n",
        "length=len(test_images)\n",
        "t1 = time.time()\n",
        "for i in range(length):\n",
        "    inputimg=test_images[i]\n",
        "    test_batch=[]\n",
        "    thisimg=np.array(Image.open(inputimg))/255 #read all the images in validation set\n",
        "    #print(thisimg)\n",
        "    test_shape=(1,)+thisimg.shape\n",
        "    thisimg=thisimg.reshape(test_shape)\n",
        "    vgg_model_batch=vgg_model.predict(thisimg) #use master model to process the input image\n",
        "    #generate result by model 1\n",
        "    prob=vgg_model_batch[0,np.argmax(vgg_model_batch,axis=1)[0]]\n",
        "    res=label[np.argmax(vgg_model_batch,axis=1)[0]]\n",
        "    predict.append(res)\n",
        "    "
      ]
    },
    {
      "cell_type": "code",
      "execution_count": 76,
      "metadata": {
        "id": "HPSzakTD0cVE",
        "scrolled": true,
        "colab": {
          "base_uri": "https://localhost:8080/"
        },
        "outputId": "b3e1ba1c-d2ae-46ce-cb89-7a20a2cc896a"
      },
      "outputs": [
        {
          "output_type": "stream",
          "name": "stdout",
          "text": [
            "VGG16 accuracy: 1.0\n",
            "precision: 1.0\n",
            "recall: 1.0\n",
            "f1: 1.0\n",
            "[[5023    0    0    0    0]\n",
            " [   0  241    0    0    0]\n",
            " [   0    0  194    0    0]\n",
            " [   0    0    0  211    0]\n",
            " [   0    0    0    0  176]]\n",
            "              precision    recall  f1-score   support\n",
            "\n",
            "           0       1.00      1.00      1.00      5023\n",
            "           1       1.00      1.00      1.00       241\n",
            "           2       1.00      1.00      1.00       194\n",
            "           3       1.00      1.00      1.00       211\n",
            "           4       1.00      1.00      1.00       176\n",
            "\n",
            "    accuracy                           1.00      5845\n",
            "   macro avg       1.00      1.00      1.00      5845\n",
            "weighted avg       1.00      1.00      1.00      5845\n",
            "\n",
            "CPU times: user 106 ms, sys: 1.88 ms, total: 108 ms\n",
            "Wall time: 106 ms\n"
          ]
        }
      ],
      "source": [
        "%%time\n",
        "from sklearn.metrics import accuracy_score,precision_score,recall_score,f1_score\n",
        "acc=accuracy_score(test_laels,predict)\n",
        "pre=precision_score(test_laels,predict,average='weighted')\n",
        "re=recall_score(test_laels,predict,average='weighted')\n",
        "f1=f1_score(test_laels,predict,average='weighted')\n",
        "print('VGG16 accuracy: %s'%acc)\n",
        "print('precision: %s'%pre)\n",
        "print('recall: %s'%re)\n",
        "print('f1: %s'%f1)\n",
        "from sklearn.metrics import classification_report, confusion_matrix\n",
        "print(confusion_matrix(test_laels, predict))\n",
        "target_names = ['0', '1','2','3','4']\n",
        "print(classification_report(test_laels, predict, target_names=target_names))"
      ]
    },
    {
      "cell_type": "markdown",
      "metadata": {
        "id": "yZ1Hl0IF0cVF"
      },
      "source": [
        "### 3. VGG19"
      ]
    },
    {
      "cell_type": "code",
      "execution_count": 77,
      "metadata": {
        "id": "Y9JBnlDM0cVF",
        "colab": {
          "base_uri": "https://localhost:8080/"
        },
        "outputId": "9d2c5338-4d77-4066-a702-8f59dd6e1166"
      },
      "outputs": [
        {
          "output_type": "stream",
          "name": "stdout",
          "text": [
            "CPU times: user 5min 52s, sys: 10.7 s, total: 6min 3s\n",
            "Wall time: 5min 59s\n"
          ]
        }
      ],
      "source": [
        "%%time\n",
        "predict=[]\n",
        "length=len(test_images)\n",
        "t1 = time.time()\n",
        "for i in range(length):\n",
        "    inputimg=test_images[i]\n",
        "    test_batch=[]\n",
        "    thisimg=np.array(Image.open(inputimg))/255 #read all the images in validation set\n",
        "    #print(thisimg)\n",
        "    test_shape=(1,)+thisimg.shape\n",
        "    thisimg=thisimg.reshape(test_shape)\n",
        "    vgg19_model_batch=vgg19_model.predict(thisimg) #use master model to process the input image\n",
        "    #generate result by model 1\n",
        "    prob=vgg19_model_batch[0,np.argmax(vgg19_model_batch,axis=1)[0]]\n",
        "    res=label[np.argmax(vgg19_model_batch,axis=1)[0]]\n",
        "    predict.append(res)\n",
        "    "
      ]
    },
    {
      "cell_type": "code",
      "execution_count": 78,
      "metadata": {
        "id": "mH6psuk_0cVF",
        "colab": {
          "base_uri": "https://localhost:8080/"
        },
        "outputId": "6a1512e5-c266-4d40-fc04-b6c7eb711e32"
      },
      "outputs": [
        {
          "output_type": "stream",
          "name": "stdout",
          "text": [
            "VGG19 accuracy: 1.0\n",
            "precision: 1.0\n",
            "recall: 1.0\n",
            "f1: 1.0\n",
            "[[5023    0    0    0    0]\n",
            " [   0  241    0    0    0]\n",
            " [   0    0  194    0    0]\n",
            " [   0    0    0  211    0]\n",
            " [   0    0    0    0  176]]\n",
            "              precision    recall  f1-score   support\n",
            "\n",
            "           0       1.00      1.00      1.00      5023\n",
            "           1       1.00      1.00      1.00       241\n",
            "           2       1.00      1.00      1.00       194\n",
            "           3       1.00      1.00      1.00       211\n",
            "           4       1.00      1.00      1.00       176\n",
            "\n",
            "    accuracy                           1.00      5845\n",
            "   macro avg       1.00      1.00      1.00      5845\n",
            "weighted avg       1.00      1.00      1.00      5845\n",
            "\n",
            "CPU times: user 109 ms, sys: 1.95 ms, total: 111 ms\n",
            "Wall time: 109 ms\n"
          ]
        }
      ],
      "source": [
        "%%time\n",
        "from sklearn.metrics import accuracy_score,precision_score,recall_score,f1_score\n",
        "acc=accuracy_score(test_laels,predict)\n",
        "pre=precision_score(test_laels,predict,average='weighted')\n",
        "re=recall_score(test_laels,predict,average='weighted')\n",
        "f1=f1_score(test_laels,predict,average='weighted')\n",
        "print('VGG19 accuracy: %s'%acc)\n",
        "print('precision: %s'%pre)\n",
        "print('recall: %s'%re)\n",
        "print('f1: %s'%f1)\n",
        "from sklearn.metrics import classification_report, confusion_matrix\n",
        "print(confusion_matrix(test_laels, predict))\n",
        "target_names = ['0', '1','2','3','4']\n",
        "print(classification_report(test_laels, predict, target_names=target_names))"
      ]
    },
    {
      "cell_type": "markdown",
      "metadata": {
        "id": "UF-fMQm80cVF"
      },
      "source": [
        "### 4. Inception"
      ]
    },
    {
      "cell_type": "code",
      "execution_count": 79,
      "metadata": {
        "id": "diIxNH070cVG",
        "colab": {
          "base_uri": "https://localhost:8080/"
        },
        "outputId": "acdc3538-f7c4-43cd-e186-bc39c9dcd42f"
      },
      "outputs": [
        {
          "output_type": "stream",
          "name": "stdout",
          "text": [
            "CPU times: user 6min 23s, sys: 10.5 s, total: 6min 34s\n",
            "Wall time: 6min 33s\n"
          ]
        }
      ],
      "source": [
        "%%time\n",
        "predict=[]\n",
        "length=len(test_images)\n",
        "t1 = time.time()\n",
        "for i in range(length):\n",
        "    inputimg=test_images[i]\n",
        "    test_batch=[]\n",
        "    thisimg=np.array(Image.open(inputimg))/255 #read all the images in validation set\n",
        "    #print(thisimg)\n",
        "    test_shape=(1,)+thisimg.shape\n",
        "    thisimg=thisimg.reshape(test_shape)\n",
        "    incep_model_batch=incep_model.predict(thisimg) #use master model to process the input image\n",
        "    #generate result by model 1\n",
        "    prob=incep_model_batch[0,np.argmax(incep_model_batch,axis=1)[0]]\n",
        "    res=label[np.argmax(incep_model_batch,axis=1)[0]]\n",
        "    predict.append(res)\n",
        "    "
      ]
    },
    {
      "cell_type": "code",
      "execution_count": 80,
      "metadata": {
        "id": "8MKSyeG30cVG",
        "colab": {
          "base_uri": "https://localhost:8080/"
        },
        "outputId": "2a98f216-e67a-44ef-e4cd-8d2c9715fea5"
      },
      "outputs": [
        {
          "output_type": "stream",
          "name": "stdout",
          "text": [
            "inception accuracy: 1.0\n",
            "precision: 1.0\n",
            "recall: 1.0\n",
            "f1: 1.0\n",
            "[[5023    0    0    0    0]\n",
            " [   0  241    0    0    0]\n",
            " [   0    0  194    0    0]\n",
            " [   0    0    0  211    0]\n",
            " [   0    0    0    0  176]]\n",
            "              precision    recall  f1-score   support\n",
            "\n",
            "           0       1.00      1.00      1.00      5023\n",
            "           1       1.00      1.00      1.00       241\n",
            "           2       1.00      1.00      1.00       194\n",
            "           3       1.00      1.00      1.00       211\n",
            "           4       1.00      1.00      1.00       176\n",
            "\n",
            "    accuracy                           1.00      5845\n",
            "   macro avg       1.00      1.00      1.00      5845\n",
            "weighted avg       1.00      1.00      1.00      5845\n",
            "\n",
            "CPU times: user 99.2 ms, sys: 812 µs, total: 100 ms\n",
            "Wall time: 101 ms\n"
          ]
        }
      ],
      "source": [
        "%%time\n",
        "from sklearn.metrics import accuracy_score,precision_score,recall_score,f1_score\n",
        "acc=accuracy_score(test_laels,predict)\n",
        "pre=precision_score(test_laels,predict,average='weighted')\n",
        "re=recall_score(test_laels,predict,average='weighted')\n",
        "f1=f1_score(test_laels,predict,average='weighted')\n",
        "print('inception accuracy: %s'%acc)\n",
        "print('precision: %s'%pre)\n",
        "print('recall: %s'%re)\n",
        "print('f1: %s'%f1)\n",
        "from sklearn.metrics import classification_report, confusion_matrix\n",
        "print(confusion_matrix(test_laels, predict))\n",
        "target_names = ['0', '1','2','3','4']\n",
        "print(classification_report(test_laels, predict, target_names=target_names))"
      ]
    },
    {
      "cell_type": "markdown",
      "metadata": {
        "id": "WeIWC_LZ0cVG"
      },
      "source": [
        "### 5. InceptionResnet"
      ]
    },
    {
      "cell_type": "code",
      "execution_count": 81,
      "metadata": {
        "id": "3oG_nliX0cVG",
        "colab": {
          "base_uri": "https://localhost:8080/"
        },
        "outputId": "99e07ecc-7295-48da-f894-4aff527b7ffb"
      },
      "outputs": [
        {
          "output_type": "stream",
          "name": "stdout",
          "text": [
            "CPU times: user 8min 26s, sys: 11.2 s, total: 8min 37s\n",
            "Wall time: 8min 37s\n"
          ]
        }
      ],
      "source": [
        "%%time\n",
        "predict=[]\n",
        "length=len(test_images)\n",
        "t1 = time.time()\n",
        "for i in range(length):\n",
        "    inputimg=test_images[i]\n",
        "    test_batch=[]\n",
        "    thisimg=np.array(Image.open(inputimg))/255 #read all the images in validation set\n",
        "    #print(thisimg)\n",
        "    test_shape=(1,)+thisimg.shape\n",
        "    thisimg=thisimg.reshape(test_shape)\n",
        "    inres_model_batch=inres_model.predict(thisimg) #use master model to process the input image\n",
        "    #generate result by model 1\n",
        "    prob=inres_model_batch[0,np.argmax(inres_model_batch,axis=1)[0]]\n",
        "    res=label[np.argmax(inres_model_batch,axis=1)[0]]\n",
        "    predict.append(res)\n",
        "    "
      ]
    },
    {
      "cell_type": "code",
      "execution_count": 82,
      "metadata": {
        "id": "6H4x_VRg0cVG",
        "colab": {
          "base_uri": "https://localhost:8080/"
        },
        "outputId": "2db58ed3-7844-4c87-febb-2ef500d18a5b"
      },
      "outputs": [
        {
          "output_type": "stream",
          "name": "stdout",
          "text": [
            "inceptionresnet accuracy: 1.0\n",
            "precision: 1.0\n",
            "recall: 1.0\n",
            "f1: 1.0\n",
            "[[5023    0    0    0    0]\n",
            " [   0  241    0    0    0]\n",
            " [   0    0  194    0    0]\n",
            " [   0    0    0  211    0]\n",
            " [   0    0    0    0  176]]\n",
            "              precision    recall  f1-score   support\n",
            "\n",
            "           0       1.00      1.00      1.00      5023\n",
            "           1       1.00      1.00      1.00       241\n",
            "           2       1.00      1.00      1.00       194\n",
            "           3       1.00      1.00      1.00       211\n",
            "           4       1.00      1.00      1.00       176\n",
            "\n",
            "    accuracy                           1.00      5845\n",
            "   macro avg       1.00      1.00      1.00      5845\n",
            "weighted avg       1.00      1.00      1.00      5845\n",
            "\n",
            "CPU times: user 98.4 ms, sys: 3.97 ms, total: 102 ms\n",
            "Wall time: 99.8 ms\n"
          ]
        }
      ],
      "source": [
        "%%time\n",
        "from sklearn.metrics import accuracy_score,precision_score,recall_score,f1_score\n",
        "acc=accuracy_score(test_laels,predict)\n",
        "pre=precision_score(test_laels,predict,average='weighted')\n",
        "re=recall_score(test_laels,predict,average='weighted')\n",
        "f1=f1_score(test_laels,predict,average='weighted')\n",
        "print('inceptionresnet accuracy: %s'%acc)\n",
        "print('precision: %s'%pre)\n",
        "print('recall: %s'%re)\n",
        "print('f1: %s'%f1)\n",
        "from sklearn.metrics import classification_report, confusion_matrix\n",
        "print(confusion_matrix(test_laels, predict))\n",
        "target_names = ['0', '1','2','3','4']\n",
        "print(classification_report(test_laels, predict, target_names=target_names))"
      ]
    },
    {
      "cell_type": "markdown",
      "metadata": {
        "collapsed": true,
        "id": "Amk6hSKE0cVH"
      },
      "source": [
        "### 6. Resnet"
      ]
    },
    {
      "cell_type": "code",
      "execution_count": 83,
      "metadata": {
        "collapsed": true,
        "id": "tV_QTsh00cVH"
      },
      "outputs": [],
      "source": [
        " #load model 6: resnet\n",
        "res_model=load_model('./resnet.h5')"
      ]
    },
    {
      "cell_type": "code",
      "execution_count": 84,
      "metadata": {
        "id": "Giyd98C30cVH",
        "colab": {
          "base_uri": "https://localhost:8080/"
        },
        "outputId": "57376ae3-1fd4-4879-c97b-7e863e1bd084"
      },
      "outputs": [
        {
          "output_type": "stream",
          "name": "stdout",
          "text": [
            "CPU times: user 5min 45s, sys: 11.2 s, total: 5min 56s\n",
            "Wall time: 6min 7s\n"
          ]
        }
      ],
      "source": [
        "%%time\n",
        "predict=[]\n",
        "length=len(test_images)\n",
        "t1 = time.time()\n",
        "for i in range(length):\n",
        "    inputimg=test_images[i]\n",
        "    test_batch=[]\n",
        "    thisimg=np.array(Image.open(inputimg))/255 #read all the images in validation set\n",
        "    #print(thisimg)\n",
        "    test_shape=(1,)+thisimg.shape\n",
        "    thisimg=thisimg.reshape(test_shape)\n",
        "    res_model_batch=res_model.predict(thisimg) #use master model to process the input image\n",
        "    #generate result by model 1\n",
        "    prob=res_model_batch[0,np.argmax(res_model_batch,axis=1)[0]]\n",
        "    res=label[np.argmax(res_model_batch,axis=1)[0]]\n",
        "    predict.append(res)\n",
        "    "
      ]
    },
    {
      "cell_type": "code",
      "execution_count": 85,
      "metadata": {
        "id": "huuXppTd0cVH",
        "colab": {
          "base_uri": "https://localhost:8080/"
        },
        "outputId": "5b3f5b77-88a8-4805-d25e-59f6e5b9daa3"
      },
      "outputs": [
        {
          "output_type": "stream",
          "name": "stdout",
          "text": [
            "resnet accuracy: 0.8593669803250642\n",
            "precision: 0.7385116068730192\n",
            "recall: 0.8593669803250642\n",
            "f1: 0.7943688520744934\n",
            "[[5023    0    0    0    0]\n",
            " [ 241    0    0    0    0]\n",
            " [ 194    0    0    0    0]\n",
            " [ 211    0    0    0    0]\n",
            " [ 176    0    0    0    0]]\n",
            "              precision    recall  f1-score   support\n",
            "\n",
            "           0       0.86      1.00      0.92      5023\n",
            "           1       0.00      0.00      0.00       241\n",
            "           2       0.00      0.00      0.00       194\n",
            "           3       0.00      0.00      0.00       211\n",
            "           4       0.00      0.00      0.00       176\n",
            "\n",
            "    accuracy                           0.86      5845\n",
            "   macro avg       0.17      0.20      0.18      5845\n",
            "weighted avg       0.74      0.86      0.79      5845\n",
            "\n",
            "CPU times: user 107 ms, sys: 1.99 ms, total: 109 ms\n",
            "Wall time: 105 ms\n"
          ]
        }
      ],
      "source": [
        "%%time\n",
        "from sklearn.metrics import accuracy_score,precision_score,recall_score,f1_score\n",
        "acc=accuracy_score(test_laels,predict)\n",
        "pre=precision_score(test_laels,predict,average='weighted')\n",
        "re=recall_score(test_laels,predict,average='weighted')\n",
        "f1=f1_score(test_laels,predict,average='weighted')\n",
        "print('resnet accuracy: %s'%acc)\n",
        "print('precision: %s'%pre)\n",
        "print('recall: %s'%re)\n",
        "print('f1: %s'%f1)\n",
        "from sklearn.metrics import classification_report, confusion_matrix\n",
        "print(confusion_matrix(test_laels, predict))\n",
        "target_names = ['0', '1','2','3','4']\n",
        "print(classification_report(test_laels, predict, target_names=target_names))"
      ]
    },
    {
      "cell_type": "markdown",
      "metadata": {
        "id": "HCWzFnBY0cVH"
      },
      "source": [
        "Best performing single model (vgg):  \n",
        "Accuracy: 99.96"
      ]
    },
    {
      "cell_type": "markdown",
      "metadata": {
        "id": "FTrtxIRc0cVH"
      },
      "source": [
        "# Bagging ensemble"
      ]
    },
    {
      "cell_type": "code",
      "execution_count": 86,
      "metadata": {
        "id": "FEy8USIO0cVI",
        "colab": {
          "base_uri": "https://localhost:8080/"
        },
        "outputId": "5641c188-f323-49d3-92d8-d6753bb22cbe"
      },
      "outputs": [
        {
          "output_type": "stream",
          "name": "stdout",
          "text": [
            "The testing time is :222.269670 seconds\n",
            "CPU times: user 3min 7s, sys: 5.83 s, total: 3min 13s\n",
            "Wall time: 3min 42s\n"
          ]
        }
      ],
      "source": [
        "%%time\n",
        "import time\n",
        "predict=[]\n",
        "length=len(test_images)\n",
        "t1 = time.time()\n",
        "for i in range((length//127)+1):\n",
        "    inputimg=test_images[127*i:127*(i+1)]\n",
        "    test_batch=[]\n",
        "    for path in inputimg:\n",
        "        thisimg=np.array(Image.open(path))/255\n",
        "        test_batch.append(thisimg)\n",
        "    #generate result by model 1\n",
        "    xception_model_batch=xception_model.predict(np.array(test_batch))\n",
        "    xception_model_batch=list(np.argmax(xception_model_batch,axis=1))\n",
        "    xception_model_batch=[label[con] for con in xception_model_batch]\n",
        "#     print(xception_model_batch)\n",
        "    #generate result by model 2\n",
        "    vgg_model_batch=vgg_model.predict(np.array(test_batch))\n",
        "    vgg_model_batch=list(np.argmax(vgg_model_batch,axis=1))\n",
        "    vgg_model_batch=[label[con] for con in vgg_model_batch]\n",
        "#     print(vgg_model_batch)\n",
        "    #generate result by model 3\n",
        "    vgg19_model_batch=vgg19_model.predict(np.array(test_batch))\n",
        "    vgg19_model_batch=list(np.argmax(vgg19_model_batch,axis=1))\n",
        "    vgg19_model_batch=[label[con] for con in vgg19_model_batch]\n",
        "#     print(vgg19_model_batch)\n",
        "    #generate result by model 4\n",
        "    incep_model_batch=incep_model.predict(np.array(test_batch))\n",
        "    incep_model_batch=list(np.argmax(incep_model_batch,axis=1))\n",
        "    incep_model_batch=[label[con] for con in incep_model_batch]\n",
        "#     print(incep_model_batch)\n",
        "    #generate result by model 5\n",
        "    inres_model_batch=inres_model.predict(np.array(test_batch))\n",
        "    inres_model_batch=list(np.argmax(inres_model_batch,axis=1))\n",
        "    inres_model_batch=[label[con] for con in inres_model_batch]\n",
        "#     print(inres_model_batch)\n",
        "    #bagging the three results generated by 3 singular models\n",
        "    predict_batch=[]\n",
        "    for i,j,k,p,q in zip(xception_model_batch,vgg_model_batch,vgg19_model_batch,incep_model_batch,inres_model_batch):\n",
        "        count=defaultdict(int)\n",
        "        count[i]+=1\n",
        "        count[j]+=1\n",
        "        count[k]+=1\n",
        "        count[p]+=1\n",
        "        count[q]+=1\n",
        "        #rank the predicted results in descending order\n",
        "        predict_one=sorted(count.items(), key=operator.itemgetter(1),reverse=True)[0][0]\n",
        "        predict_batch.append(predict_one)\n",
        "#     print('predict:',predict_batch)\n",
        "    predict.append(predict_batch)\n",
        "t2 = time.time()\n",
        "print('The testing time is :%f seconds' % (t2-t1))"
      ]
    },
    {
      "cell_type": "code",
      "execution_count": 87,
      "metadata": {
        "collapsed": true,
        "id": "hNyeyDlV0cVI",
        "colab": {
          "base_uri": "https://localhost:8080/"
        },
        "outputId": "80468399-81a8-40f2-cc84-0dd10c5b4aa4"
      },
      "outputs": [
        {
          "output_type": "stream",
          "name": "stdout",
          "text": [
            "CPU times: user 636 µs, sys: 0 ns, total: 636 µs\n",
            "Wall time: 645 µs\n"
          ]
        }
      ],
      "source": [
        "%%time\n",
        "predict=sum(predict,[])"
      ]
    },
    {
      "cell_type": "code",
      "execution_count": 88,
      "metadata": {
        "id": "igdtVpdm0cVI",
        "colab": {
          "base_uri": "https://localhost:8080/"
        },
        "outputId": "32e41b44-a9a1-4c7c-f704-9848612c5765"
      },
      "outputs": [
        {
          "output_type": "stream",
          "name": "stdout",
          "text": [
            "bagging accuracy:1.0\n",
            "CPU times: user 5.6 ms, sys: 971 µs, total: 6.57 ms\n",
            "Wall time: 8.53 ms\n"
          ]
        }
      ],
      "source": [
        "%%time\n",
        "from sklearn.metrics import accuracy_score,precision_score,recall_score,f1_score\n",
        "acc=accuracy_score(test_laels,predict)\n",
        "print('bagging accuracy:%s'%acc)"
      ]
    },
    {
      "cell_type": "code",
      "execution_count": 89,
      "metadata": {
        "id": "VvsDVxMg0cVI",
        "colab": {
          "base_uri": "https://localhost:8080/"
        },
        "outputId": "5a03aa0c-20e7-4187-f918-08c1ff88e1f4"
      },
      "outputs": [
        {
          "output_type": "stream",
          "name": "stdout",
          "text": [
            "[[5023    0    0    0    0]\n",
            " [   0  241    0    0    0]\n",
            " [   0    0  194    0    0]\n",
            " [   0    0    0  211    0]\n",
            " [   0    0    0    0  176]]\n",
            "              precision    recall  f1-score   support\n",
            "\n",
            "           0       1.00      1.00      1.00      5023\n",
            "           1       1.00      1.00      1.00       241\n",
            "           2       1.00      1.00      1.00       194\n",
            "           3       1.00      1.00      1.00       211\n",
            "           4       1.00      1.00      1.00       176\n",
            "\n",
            "    accuracy                           1.00      5845\n",
            "   macro avg       1.00      1.00      1.00      5845\n",
            "weighted avg       1.00      1.00      1.00      5845\n",
            "\n",
            "CPU times: user 47.5 ms, sys: 5 µs, total: 47.5 ms\n",
            "Wall time: 49 ms\n"
          ]
        }
      ],
      "source": [
        "%%time\n",
        "from sklearn.metrics import classification_report, confusion_matrix\n",
        "print(confusion_matrix(test_laels, predict))\n",
        "target_names = ['0', '1','2','3','4']\n",
        "print(classification_report(test_laels, predict, target_names=target_names))"
      ]
    },
    {
      "cell_type": "markdown",
      "metadata": {
        "collapsed": true,
        "id": "dKI5L0xS0cVI"
      },
      "source": [
        "After bagging ensemble, the accuracy improved to 0.990"
      ]
    },
    {
      "cell_type": "markdown",
      "metadata": {
        "collapsed": true,
        "id": "YtSZOKpC0cVJ"
      },
      "source": [
        "# Probability Averaging"
      ]
    },
    {
      "cell_type": "code",
      "execution_count": 5,
      "metadata": {
        "collapsed": true,
        "id": "aXZGTan40cVJ"
      },
      "outputs": [],
      "source": [
        "import tensorflow as tf\n",
        "import keras\n",
        "from keras.models import Model,load_model\n",
        "from keras import Input\n",
        "from keras.layers import concatenate,Dense,Flatten,Dropout,Average\n",
        "from keras.preprocessing.image import  ImageDataGenerator\n",
        "import keras.callbacks as kcallbacks\n",
        "import os\n",
        "import math\n",
        "from tensorflow.keras.utils import plot_model\n",
        "from keras.callbacks import EarlyStopping, ReduceLROnPlateau, ModelCheckpoint, LearningRateScheduler\n",
        "from keras.optimizers import gradient_descent_v2 #from keras.optimizers import SGD\n",
        "import operator\n",
        "import numpy as np\n",
        "from PIL import Image\n",
        "from collections import defaultdict\n",
        "import tensorflow as tf\n",
        "#tf.compat.v1.logging.set_verbosity(tf.logging.ERROR)\n",
        "import os\n",
        "os.environ[\"CUDA_VISIBLE_DEVICES\"] = \"0\""
      ]
    },
    {
      "cell_type": "code",
      "execution_count": null,
      "metadata": {
        "id": "z0-yK4Ta0cVJ"
      },
      "outputs": [],
      "source": [
        "%%time\n",
        "import time\n",
        "t1 = time.time()\n",
        "img=Input(shape=(224,224,3),name='img')\n",
        "feature1=xception_model(img)\n",
        "feature2=vgg_model(img)\n",
        "feature3=incep_model(img)\n",
        "for layer in xception_model.layers:  \n",
        "    layer.trainable = False \n",
        "for layer in vgg_model.layers:  \n",
        "    layer.trainable = False  \n",
        "for layer in incep_model.layers:  \n",
        "    layer.trainable = False  \n",
        "output=Average()([feature1,feature2,feature3]) #add the confidence lists generated by 3 models\n",
        "model=Model(inputs=img,outputs=output)\n",
        "\n",
        "#the optimization function\n",
        "opt = keras.optimizers.Adam(lr=0.001, beta_1=0.9, beta_2=0.999, epsilon=1e-08)\n",
        "model.compile(loss='categorical_crossentropy',\n",
        "              optimizer=opt,\n",
        "              metrics=['accuracy'])\n",
        "t2 = time.time()\n",
        "print('The testing time is :%f seconds' % (t2-t1))"
      ]
    },
    {
      "cell_type": "code",
      "execution_count": null,
      "metadata": {
        "id": "x7hX9zcJ0cVJ"
      },
      "outputs": [],
      "source": [
        "%%time\n",
        "#read images from validation folder\n",
        "rootdir = './test_224/'\n",
        "test_laels = []\n",
        "test_images=[]\n",
        "for subdir, dirs, files in os.walk(rootdir):\n",
        "    for file in files:\n",
        "        if not (file.endswith(\".jpeg\"))|(file.endswith(\".jpg\"))|(file.endswith(\".png\")):\n",
        "            continue\n",
        "        test_laels.append(subdir.split('/')[-1])\n",
        "        test_images.append(os.path.join(subdir, file))\n",
        "        \n",
        "print(test_laels[0],test_images[0])"
      ]
    },
    {
      "cell_type": "code",
      "execution_count": null,
      "metadata": {
        "id": "tAPbb9Z50cVJ"
      },
      "outputs": [],
      "source": [
        "%%time\n",
        "#test the averaging model on the validation set\n",
        "import time\n",
        "predict=[]\n",
        "length=len(test_images)\n",
        "t1 = time.time()\n",
        "for i in range((length//127)+1):\n",
        "    inputimg=test_images[127*i:127*(i+1)]\n",
        "    test_batch=[]\n",
        "    for path in inputimg:\n",
        "        thisimg=np.array(Image.open(path))/255\n",
        "        test_batch.append(thisimg)\n",
        "    #print(i, np.array(test_batch).shape)\n",
        "    model_batch=model.predict(np.array(test_batch))\n",
        "    predict_batch=list(np.argmax(model_batch,axis=1))\n",
        "    predict_batch=[label[con] for con in predict_batch]\n",
        "    predict.append(predict_batch)\n",
        "\n",
        "predict=sum(predict,[])\n",
        "\n",
        "t2 = time.time()\n",
        "print('The testing time is :%f seconds' % (t2-t1))"
      ]
    },
    {
      "cell_type": "code",
      "execution_count": null,
      "metadata": {
        "id": "WwD_dBAk0cVJ"
      },
      "outputs": [],
      "source": [
        "%%time\n",
        "from sklearn.metrics import accuracy_score\n",
        "acc=accuracy_score(test_laels,predict)\n",
        "print('Probability Averaging accuracy:%s'%acc)"
      ]
    },
    {
      "cell_type": "code",
      "execution_count": null,
      "metadata": {
        "id": "29UtX8No0cVK"
      },
      "outputs": [],
      "source": [
        "%%time\n",
        "from sklearn.metrics import classification_report, confusion_matrix\n",
        "print(confusion_matrix(test_laels, predict))\n",
        "target_names = ['0', '1','2','3','4']\n",
        "print(classification_report(test_laels, predict, target_names=target_names))"
      ]
    },
    {
      "cell_type": "markdown",
      "metadata": {
        "id": "TClHmk3L0cVK"
      },
      "source": [
        "# Concatenation"
      ]
    },
    {
      "cell_type": "code",
      "execution_count": null,
      "metadata": {
        "id": "rHDTsH6l0cVK"
      },
      "outputs": [],
      "source": [
        "import keras\n",
        "from keras.models import Model,load_model\n",
        "from keras import Input\n",
        "from keras.layers import concatenate,Dense,Flatten,Dropout\n",
        "from keras.preprocessing.image import  ImageDataGenerator\n",
        "import keras.callbacks as kcallbacks\n",
        "import os\n",
        "import math\n",
        "from keras.utils import plot_model\n",
        "from keras.callbacks import EarlyStopping, ReduceLROnPlateau, ModelCheckpoint, LearningRateScheduler\n",
        "from keras.optimizers import gradient_descent_v2 #from keras.optimizers import SGD"
      ]
    },
    {
      "cell_type": "code",
      "execution_count": null,
      "metadata": {
        "id": "HIiPEpgD0cVK"
      },
      "outputs": [],
      "source": [
        "%%time\n",
        "for i,layer in enumerate(xception_model.layers):\n",
        "    print(i,layer.name)"
      ]
    },
    {
      "cell_type": "code",
      "execution_count": null,
      "metadata": {
        "id": "yNNFuP4t0cVK"
      },
      "outputs": [],
      "source": [
        "%%time\n",
        "for i,layer in enumerate(vgg_model.layers):\n",
        "    print(i,layer.name)"
      ]
    },
    {
      "cell_type": "code",
      "execution_count": null,
      "metadata": {
        "id": "ZLcK1HH90cVK"
      },
      "outputs": [],
      "source": [
        "%%time\n",
        "for i,layer in enumerate(vgg19_model.layers):\n",
        "    print(i,layer.name)"
      ]
    },
    {
      "cell_type": "code",
      "execution_count": null,
      "metadata": {
        "id": "P9diyvZW0cVL"
      },
      "outputs": [],
      "source": [
        "%%time\n",
        "for i,layer in enumerate(incep_model.layers):\n",
        "    print(i,layer.name)"
      ]
    },
    {
      "cell_type": "code",
      "execution_count": null,
      "metadata": {
        "id": "6zfUcg6b0cVL"
      },
      "outputs": [],
      "source": [
        "%%time\n",
        "for i,layer in enumerate(inres_model.layers):\n",
        "    print(i,layer.name)"
      ]
    },
    {
      "cell_type": "markdown",
      "metadata": {
        "id": "qduk_Rrn0cVL"
      },
      "source": [
        "### Construct the ensemble model using the last \"dense layer\" of each base CNN model"
      ]
    },
    {
      "cell_type": "code",
      "execution_count": null,
      "metadata": {
        "id": "tb_Wjn_u0cVL"
      },
      "outputs": [],
      "source": [
        "%%time\n",
        "model1=Model(inputs=[xception_model.layers[0].get_input_at(0)],outputs=xception_model.get_layer('dense_6').output,name='xception')\n",
        "model2=Model(inputs=[vgg_model.layers[0].get_input_at(0)],outputs=vgg_model.get_layer('dense_8').output,name='vgg')\n",
        "model3=Model(inputs=[vgg19_model.layers[0].get_input_at(0)],outputs=vgg19_model.get_layer('dense_10').output,name='vgg19')\n",
        "model4=Model(inputs=[incep_model.layers[0].get_input_at(0)],outputs=incep_model.get_layer('dense_14').output,name='incep')\n",
        "model5=Model(inputs=[inres_model.layers[0].get_input_at(0)],outputs=inres_model.get_layer('dense_16').output,name='inres')"
      ]
    },
    {
      "cell_type": "code",
      "execution_count": null,
      "metadata": {
        "collapsed": true,
        "id": "ng2fAIil0cVL"
      },
      "outputs": [],
      "source": [
        "#plot the figures\n",
        "class LossHistory(keras.callbacks.Callback):\n",
        "    def on_train_begin(self, logs={}):\n",
        "        self.losses = {'batch':[], 'epoch':[]}\n",
        "        self.accuracy = {'batch':[], 'epoch':[]}\n",
        "        self.val_loss = {'batch':[], 'epoch':[]}\n",
        "        self.val_accuracy = {'batch':[], 'epoch':[]}\n",
        "    def on_batch_end(self, batch, logs={}):\n",
        "        self.losses['batch'].append(logs.get('loss'))\n",
        "        self.accuracy['batch'].append(logs.get('acc'))\n",
        "        self.val_loss['batch'].append(logs.get('val_loss'))\n",
        "        self.val_accuracy['batch'].append(logs.get('val_accuracy'))\n",
        "    def on_epoch_end(self, batch, logs={}):\n",
        "        self.losses['epoch'].append(logs.get('loss'))\n",
        "        self.accuracy['epoch'].append(logs.get('acc'))\n",
        "        self.val_loss['epoch'].append(logs.get('val_loss'))\n",
        "        self.val_accuracy['epoch'].append(logs.get('val_accuracy'))\n",
        "    def loss_plot(self, loss_type):\n",
        "        iters = range(len(self.losses[loss_type]))\n",
        "        plt.figure()\n",
        "        plt.plot(iters, self.losses[loss_type], 'g', label='train loss')\n",
        "        if loss_type == 'epoch':\n",
        "            # acc\n",
        "            plt.plot(iters, self.accuracy[loss_type], 'r', label='train acc')\n",
        "            # loss\n",
        "            plt.plot(iters, self.losses[loss_type], 'g', label='train loss')\n",
        "            # val_acc\n",
        "            plt.plot(iters, self.val_acc[loss_type], 'b', label='val acc')\n",
        "            # val_loss\n",
        "            plt.plot(iters, self.val_loss[loss_type], 'k', label='val loss')\n",
        "        plt.grid(True)\n",
        "        plt.xlabel(loss_type)\n",
        "        plt.ylabel('acc-loss')\n",
        "        plt.legend(loc=\"upper right\")\n",
        "        plt.show()"
      ]
    },
    {
      "cell_type": "code",
      "execution_count": null,
      "metadata": {
        "collapsed": true,
        "id": "ZxEk9aO50cVL"
      },
      "outputs": [],
      "source": [
        "%%time\n",
        "ensemble_history= LossHistory()"
      ]
    },
    {
      "cell_type": "code",
      "execution_count": null,
      "metadata": {
        "id": "KckCtcWj0cVL"
      },
      "outputs": [],
      "source": [
        "%%time\n",
        "#generate training and test images\n",
        "TARGET_SIZE=(224,224)\n",
        "INPUT_SIZE=(224,224,3)\n",
        "BATCHSIZE=128\t#could try 128 or 32\n",
        "\n",
        "#Normalization\n",
        "train_datagen = ImageDataGenerator(rescale=1./255)\n",
        "\n",
        "test_datagen = ImageDataGenerator(rescale=1./255)\n",
        "\n",
        "train_generator = train_datagen.flow_from_directory(\n",
        "        './train_224/',\n",
        "        target_size=TARGET_SIZE,\n",
        "        batch_size=BATCHSIZE,\n",
        "        class_mode='categorical')\n",
        "validation_generator = test_datagen.flow_from_directory(\n",
        "        './test_224/',\n",
        "        target_size=TARGET_SIZE,\n",
        "        batch_size=BATCHSIZE,\n",
        "        class_mode='categorical')"
      ]
    },
    {
      "cell_type": "code",
      "execution_count": null,
      "metadata": {
        "collapsed": true,
        "id": "mm31Br6a0cVM"
      },
      "outputs": [],
      "source": [
        "def lr_decay(epoch):\n",
        "    lrs = [0.001, 0.001, 0.001, 0.001, 0.001, 0.001, 0.001, 0.0001,0.00001,0.000001,\n",
        "           0.000001,0.000001,0.000001,0.000001,0.0000001,0.0000001,0.0000001,0.0000001,0.0000001,0.0000001\n",
        "          ]\n",
        "    return lrs[epoch]"
      ]
    },
    {
      "cell_type": "code",
      "execution_count": null,
      "metadata": {
        "collapsed": true,
        "id": "nMKFDK_P0cVM"
      },
      "outputs": [],
      "source": [
        "%%time\n",
        "auto_lr = ReduceLROnPlateau(monitor='val_loss', factor=0.1, patience=1, verbose=0, mode='auto', epsilon=0.0001, cooldown=0, min_lr=0)\n",
        "my_lr = LearningRateScheduler(lr_decay)"
      ]
    },
    {
      "cell_type": "code",
      "execution_count": null,
      "metadata": {
        "id": "I5lpqbm10cVM"
      },
      "outputs": [],
      "source": [
        "%%time\n",
        "def ensemble(num_class,epochs,savepath='./ensemble.h5'):\n",
        "    img=Input(shape=(224,224,3),name='img')\n",
        "    feature1=model1(img)\n",
        "    feature2=model2(img)\n",
        "    feature3=model3(img)\n",
        "    x=concatenate([feature1,feature2,feature3])\n",
        "    x=Dropout(0.5)(x)\n",
        "    x=Dense(64,activation='relu')(x)\n",
        "    x=Dropout(0.25)(x)\n",
        "    output=Dense(num_class,activation='softmax',name='output')(x)\n",
        "    model=Model(inputs=img,outputs=output)\n",
        "    opt = keras.optimizers.Adam(lr=0.001, beta_1=0.9, beta_2=0.999, epsilon=1e-08)\n",
        "    model.compile(loss='categorical_crossentropy',\n",
        "                  optimizer=opt,\n",
        "                  metrics=['accuracy'])\n",
        "    #train model\n",
        "    earlyStopping=kcallbacks.EarlyStopping(monitor='val_accuracy',patience=2, verbose=1, mode='auto')\n",
        "    saveBestModel = kcallbacks.ModelCheckpoint(filepath=savepath, monitor='val_accuracy', verbose=1, save_best_only=True, mode='auto')\n",
        "    hist=model.fit_generator(\n",
        "        train_generator,\n",
        "        steps_per_epoch=len(train_generator),\n",
        "        epochs=epochs,\n",
        "        validation_data=validation_generator,\n",
        "        validation_steps=len(validation_generator),\n",
        "        callbacks=[earlyStopping,saveBestModel,ensemble_history,auto_lr],\n",
        "    )"
      ]
    },
    {
      "cell_type": "code",
      "execution_count": null,
      "metadata": {
        "id": "d6qSVvZ00cVM",
        "scrolled": true
      },
      "outputs": [],
      "source": [
        "%%time\n",
        "ensemble_model=ensemble(num_class=5,epochs=20)"
      ]
    },
    {
      "cell_type": "code",
      "execution_count": null,
      "metadata": {
        "collapsed": true,
        "id": "6h2Fd7PN0cVM"
      },
      "outputs": [],
      "source": [
        "%%time\n",
        "ensemble_model=load_model('./ensemble.h5')"
      ]
    },
    {
      "cell_type": "code",
      "execution_count": null,
      "metadata": {
        "id": "Mhcfb86v0cVM"
      },
      "outputs": [],
      "source": [
        "%%time\n",
        "#read images from validation folder\n",
        "rootdir = './test_224/'\n",
        "test_laels = []\n",
        "test_images=[]\n",
        "for subdir, dirs, files in os.walk(rootdir):\n",
        "    for file in files:\n",
        "        if not (file.endswith(\".jpeg\"))|(file.endswith(\".jpg\"))|(file.endswith(\".png\")):\n",
        "            continue\n",
        "        test_laels.append(subdir.split('/')[-1])\n",
        "        test_images.append(os.path.join(subdir, file))\n",
        "        \n",
        "print(test_laels[0],test_images[0])"
      ]
    },
    {
      "cell_type": "code",
      "execution_count": null,
      "metadata": {
        "id": "V2dEzzJC0cVN"
      },
      "outputs": [],
      "source": [
        "%%time\n",
        "#test the averaging model on the validation set\n",
        "import time\n",
        "predict=[]\n",
        "length=len(test_images)\n",
        "t1 = time.time()\n",
        "for i in range((length//127)+1):\n",
        "    inputimg=test_images[127*i:127*(i+1)]\n",
        "    test_batch=[]\n",
        "    for path in inputimg:\n",
        "        thisimg=np.array(Image.open(path))/255\n",
        "        test_batch.append(thisimg)\n",
        "    #print(i, np.array(test_batch).shape)\n",
        "    ensemble_model_batch=ensemble_model.predict(np.array(test_batch))\n",
        "    predict_batch=list(np.argmax(ensemble_model_batch,axis=1))\n",
        "    predict_batch=[label[con] for con in predict_batch]\n",
        "    predict.append(predict_batch)\n",
        "\n",
        "predict=sum(predict,[])\n",
        "\n",
        "t2 = time.time()\n",
        "print('The testing time is :%f seconds' % (t2-t1))"
      ]
    },
    {
      "cell_type": "code",
      "execution_count": null,
      "metadata": {
        "id": "ntQ9F4Sl0cVN"
      },
      "outputs": [],
      "source": [
        "%%time\n",
        "from sklearn.metrics import accuracy_score,precision_score,recall_score,f1_score\n",
        "acc=accuracy_score(test_laels,predict)\n",
        "print('Concatenation accuracy:%s'%acc)"
      ]
    },
    {
      "cell_type": "code",
      "execution_count": null,
      "metadata": {
        "id": "_oKX5MJ20cVN"
      },
      "outputs": [],
      "source": [
        "%%time\n",
        "from sklearn.metrics import classification_report, confusion_matrix\n",
        "print(confusion_matrix(test_laels, predict))\n",
        "target_names = ['0', '1','2','3','4']\n",
        "print(classification_report(test_laels, predict, target_names=target_names))"
      ]
    }
  ],
  "metadata": {
    "colab": {
      "name": "CAN-IDS-notebooks-MERGE.ipynb",
      "provenance": [],
      "collapsed_sections": [
        "AT2pqgLRLtxa",
        "m7ljv7ALLtxb",
        "w6_u0RJpLtxb",
        "yw3nBsNHLtxc"
      ],
      "authorship_tag": "ABX9TyMTYkl1ntkkcOiNWec0e6AZ",
      "include_colab_link": true
    },
    "kernelspec": {
      "display_name": "Python 3",
      "name": "python3"
    },
    "language_info": {
      "name": "python"
    },
    "accelerator": "GPU"
  },
  "nbformat": 4,
  "nbformat_minor": 0
}