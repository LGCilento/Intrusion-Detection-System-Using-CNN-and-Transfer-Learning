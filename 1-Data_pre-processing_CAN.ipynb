{
  "cells": [
    {
      "cell_type": "markdown",
      "metadata": {
        "id": "naRFWlZVdDln"
      },
      "source": [
        "# A Transfer Learning and Optimized CNN Based Intrusion Detection System for Internet of Vehicles \n",
        "This is the code for the paper entitled \"**A Transfer Learning and Optimized CNN Based Intrusion Detection System for Internet of Vehicles**\" accepted in IEEE International Conference on Communications (IEEE ICC).  \n",
        "Authors: Li Yang (lyang339@uwo.ca) and Abdallah Shami (Abdallah.Shami@uwo.ca)  \n",
        "Organization: The Optimized Computing and Communications (OC2) Lab, ECE Department, Western University\n",
        "\n",
        "**Notebook 1: Data pre-processing**  \n",
        "Procedures:  \n",
        "&nbsp; 1): Read the dataset  \n",
        "&nbsp; 2): Data Pre Processing  \n",
        "&nbsp; 3): Transform the tabular data into images  \n",
        "&nbsp; 4): Display the transformed images  \n",
        "&nbsp; 5): Split the training and test set  "
      ]
    },
    {
      "cell_type": "markdown",
      "metadata": {
        "id": "8KeMFU7RdDlr"
      },
      "source": [
        "## Import libraries"
      ]
    },
    {
      "cell_type": "code",
      "execution_count": 1,
      "metadata": {
        "id": "pd8F7vVndDlr"
      },
      "outputs": [],
      "source": [
        "import numpy as np\n",
        "import pandas as pd\n",
        "import os\n",
        "import cv2\n",
        "import math\n",
        "import random\n",
        "import matplotlib.pyplot as plt\n",
        "import shutil\n",
        "from sklearn.preprocessing import QuantileTransformer\n",
        "from PIL import Image\n",
        "import warnings\n",
        "warnings.filterwarnings(\"ignore\")"
      ]
    },
    {
      "cell_type": "markdown",
      "metadata": {
        "id": "VxWX85WFdDlt"
      },
      "source": [
        "## Read the Car-Hacking/CAN-Intrusion dataset\n",
        "The complete Car-Hacking dataset is publicly available at: https://ocslab.hksecurity.net/Datasets/CAN-intrusion-dataset  \n",
        "In this notebook, the database files were loaded from author's personal drive.\n",
        "\n",
        "Some extra steps were added in comparison to Western-OC2-Lab original notebook."
      ]
    },
    {
      "cell_type": "code",
      "source": [
        "#UNNCOMENT THIS CELL FOR COLAB EXECUTION WITH DRIVE\n",
        "\n",
        "# Code to read csv file into Colaboratory:\n",
        "!pip install -U -q PyDrive\n",
        "from pydrive.auth import GoogleAuth\n",
        "from pydrive.drive import GoogleDrive\n",
        "from google.colab import auth\n",
        "from oauth2client.client import GoogleCredentials\n",
        "# Authenticate and create the PyDrive client.\n",
        "auth.authenticate_user()\n",
        "gauth = GoogleAuth()\n",
        "gauth.credentials = GoogleCredentials.get_application_default()\n",
        "drive = GoogleDrive(gauth)"
      ],
      "metadata": {
        "id": "TzsrQmJidNBa"
      },
      "execution_count": 2,
      "outputs": []
    },
    {
      "cell_type": "code",
      "source": [
        "##EXCLUSIVE FOR COLAB\n",
        "#from google.colab import drive\n",
        "#drive.mount('/content')\n",
        "link1 = 'https://drive.google.com/open?id=1ljO7auYN_doUFbUbPAP2HqcX6vzwgy1P' # RPM dataset\n",
        "fluff, id = link1.split('=')\n",
        "\n",
        "\n",
        "downloaded = drive.CreateFile({'id':id}) \n",
        "downloaded.GetContentFile('RPM_dataset.csv')  \n",
        "df1 = pd.read_csv('RPM_dataset.csv',names=['Timestamp','CAN ID','DLC','DATA[0]','DATA[1]','DATA[2]','DATA[3]','DATA[4]','DATA[5]','DATA[6]','DATA[7]','Label'])"
      ],
      "metadata": {
        "id": "PEYPikUAdbAz"
      },
      "execution_count": 3,
      "outputs": []
    },
    {
      "cell_type": "code",
      "source": [
        "##EXCLUSIVE FOR COLAB\n",
        "#from google.colab import drive\n",
        "#drive.mount('/content')\n",
        "link2 = 'https://drive.google.com/open?id=1TBZXgZYhCvjoSwy6l7MNbuPcqQ5PBIVQ' # GEAR dataset\n",
        "fluff, id = link2.split('=')\n",
        "\n",
        "\n",
        "downloaded = drive.CreateFile({'id':id}) \n",
        "downloaded.GetContentFile('gear_dataset.csv')  \n",
        "df2 = pd.read_csv('gear_dataset.csv',names=['Timestamp','CAN ID','DLC','DATA[0]','DATA[1]','DATA[2]','DATA[3]','DATA[4]','DATA[5]','DATA[6]','DATA[7]','Label'])"
      ],
      "metadata": {
        "id": "8G9mvqkyewkW"
      },
      "execution_count": 4,
      "outputs": []
    },
    {
      "cell_type": "code",
      "source": [
        "##EXCLUSIVE FOR COLAB\n",
        "#from google.colab import drive\n",
        "#drive.mount('/content')\n",
        "link3 = 'https://drive.google.com/open?id=1L9ICuJHr9ERtrJaTGXMWwgInE-Ak0VQv' # DoS dataset \n",
        "fluff, id = link3.split('=')\n",
        "\n",
        "\n",
        "downloaded = drive.CreateFile({'id':id}) \n",
        "downloaded.GetContentFile('Fuzzy_dataset.csv')  \n",
        "df3 = pd.read_csv('Fuzzy_dataset.csv',names=['Timestamp','CAN ID','DLC','DATA[0]','DATA[1]','DATA[2]','DATA[3]','DATA[4]','DATA[5]','DATA[6]','DATA[7]','Label'])"
      ],
      "metadata": {
        "id": "8o2p4LG3fDw4"
      },
      "execution_count": 5,
      "outputs": []
    },
    {
      "cell_type": "code",
      "source": [
        "##EXCLUSIVE FOR COLAB\n",
        "#from google.colab import drive\n",
        "#drive.mount('/content')\n",
        "link4 = 'https://drive.google.com/open?id=1w8N1D8uNQ5AIkZbr7P8N7ZaJdUQWJ-9Y' # Fuzzy dataset \n",
        "fluff, id = link4.split('=')\n",
        "\n",
        "\n",
        "downloaded = drive.CreateFile({'id':id}) \n",
        "downloaded.GetContentFile('DoS_dataset.csv')  \n",
        "df4 = pd.read_csv('DoS_dataset.csv',names=['Timestamp','CAN ID','DLC','DATA[0]','DATA[1]','DATA[2]','DATA[3]','DATA[4]','DATA[5]','DATA[6]','DATA[7]','Label'])"
      ],
      "metadata": {
        "id": "HiQF8AhIffEa"
      },
      "execution_count": 6,
      "outputs": []
    },
    {
      "cell_type": "markdown",
      "source": [
        "## Data Preprocessing:\n",
        "\n",
        "This step consists in five sub-steps of tabular data transformation:\n",
        "\n",
        "\n",
        "\n",
        "*   Generate custom labels\n",
        "*   Merge databases\n",
        "*   Verify and remove null values\n",
        "*   Convert data from hex to int\n",
        "*   Drop undesired columns\n",
        "\n",
        "\n",
        "\n",
        "  "
      ],
      "metadata": {
        "id": "wIjEMjyr1wPB"
      }
    },
    {
      "cell_type": "markdown",
      "source": [
        "* Generate custom labels for each attack:"
      ],
      "metadata": {
        "id": "ZB0ODbcCliJ-"
      }
    },
    {
      "cell_type": "code",
      "source": [
        "df1['Label'].replace(['T'],'RPM',inplace=True)\n",
        "df2['Label'].replace(['T'],'gear',inplace=True)\n",
        "df3['Label'].replace(['T'],'Dos',inplace=True)\n",
        "df4['Label'].replace(['T'],'Fuzzy',inplace=True)"
      ],
      "metadata": {
        "id": "KGpM4oiSnpPX"
      },
      "execution_count": 7,
      "outputs": []
    },
    {
      "cell_type": "markdown",
      "source": [
        "* Merge databases"
      ],
      "metadata": {
        "id": "d8eYNp9tjPHN"
      }
    },
    {
      "cell_type": "code",
      "source": [
        "df = pd.concat([df1,df2,df3,df4]) #MERGE"
      ],
      "metadata": {
        "id": "NDEGtQF6uSUC"
      },
      "execution_count": 8,
      "outputs": []
    },
    {
      "cell_type": "markdown",
      "source": [
        "* Verify null values:"
      ],
      "metadata": {
        "id": "QAj3qJ7yjSRP"
      }
    },
    {
      "cell_type": "code",
      "source": [
        "df.isna().sum()"
      ],
      "metadata": {
        "id": "JPsvXyoL0mO4",
        "outputId": "2a50fec6-e1c7-4372-f7a4-f139161c9e8f",
        "colab": {
          "base_uri": "https://localhost:8080/"
        }
      },
      "execution_count": 9,
      "outputs": [
        {
          "output_type": "execute_result",
          "data": {
            "text/plain": [
              "Timestamp         0\n",
              "CAN ID            0\n",
              "DLC               0\n",
              "DATA[0]           0\n",
              "DATA[1]           0\n",
              "DATA[2]           0\n",
              "DATA[3]      147211\n",
              "DATA[4]      147211\n",
              "DATA[5]      147211\n",
              "DATA[6]      200662\n",
              "DATA[7]      200665\n",
              "Label        200665\n",
              "dtype: int64"
            ]
          },
          "metadata": {},
          "execution_count": 9
        }
      ]
    },
    {
      "cell_type": "markdown",
      "source": [
        "Evaluating null values we discover that some packets does not have values for fields DATA [3-7]. Accordingly to the authors (https://ocslab.hksecurity.net/Datasets/car-hacking-dataset) the field 'DLC' show us the size of data field in bytes. Let's take a look at count values for this field."
      ],
      "metadata": {
        "id": "aAsulQ2Pkovx"
      }
    },
    {
      "cell_type": "code",
      "source": [
        "df.DLC.value_counts()"
      ],
      "metadata": {
        "id": "txsGSnhUyITK",
        "outputId": "b1de9b06-950e-40ae-d8b3-671658ff971d",
        "colab": {
          "base_uri": "https://localhost:8080/"
        }
      },
      "execution_count": 10,
      "outputs": [
        {
          "output_type": "execute_result",
          "data": {
            "text/plain": [
              "8    16368810\n",
              "2      147211\n",
              "5       53451\n",
              "6           3\n",
              "Name: DLC, dtype: int64"
            ]
          },
          "metadata": {},
          "execution_count": 10
        }
      ]
    },
    {
      "cell_type": "markdown",
      "source": [
        "We have approximate 1.2% of packages with length less than 8 bytes. As this percentange does not represent a large slice of the database, we dropped all nan rows."
      ],
      "metadata": {
        "id": "BGbaCif3nHbg"
      }
    },
    {
      "cell_type": "code",
      "source": [
        "df.dropna(inplace=True)\n"
      ],
      "metadata": {
        "id": "wX9oTH-dqYnQ"
      },
      "execution_count": 11,
      "outputs": []
    },
    {
      "cell_type": "code",
      "execution_count": 12,
      "metadata": {
        "id": "rHgwWMrodDlv",
        "outputId": "76e62918-1000-4133-c22b-6c98f099b3cb",
        "colab": {
          "base_uri": "https://localhost:8080/"
        }
      },
      "outputs": [
        {
          "output_type": "execute_result",
          "data": {
            "text/plain": [
              "R        14037293\n",
              "RPM        654897\n",
              "gear       597252\n",
              "Dos        587521\n",
              "Fuzzy      491847\n",
              "Name: Label, dtype: int64"
            ]
          },
          "metadata": {},
          "execution_count": 12
        }
      ],
      "source": [
        "# The labels of the dataset. \"R\" indicates normal patterns, and there are four types of attack (DoS, fuzzy. gear spoofing, and RPM spoofing zttacks)\n",
        "df.Label.value_counts()"
      ]
    },
    {
      "cell_type": "markdown",
      "source": [
        "* Convert data from hex to int:\n",
        "\n",
        "\n"
      ],
      "metadata": {
        "id": "msZXR8hgt1X4"
      }
    },
    {
      "cell_type": "code",
      "source": [
        "df['CAN ID'] = df['CAN ID'].apply(int, base=16)\n",
        "df['DATA[0]'] = df['DATA[0]'].apply(int, base=16)\n",
        "df['DATA[1]'] = df['DATA[1]'].apply(int, base=16)\n",
        "df['DATA[2]'] = df['DATA[2]'].apply(int, base=16)\n",
        "df['DATA[3]'] = df['DATA[3]'].apply(int, base=16)\n",
        "df['DATA[4]'] = df['DATA[4]'].apply(int, base=16)\n",
        "df['DATA[5]'] = df['DATA[5]'].apply(int, base=16)\n",
        "df['DATA[6]'] = df['DATA[6]'].apply(int, base=16)\n",
        "df['DATA[7]'] = df['DATA[7]'].apply(int, base=16)\n"
      ],
      "metadata": {
        "id": "NYyZer8fweh1"
      },
      "execution_count": 13,
      "outputs": []
    },
    {
      "cell_type": "markdown",
      "source": [
        "* Drop Columns Timestamp and DLC:"
      ],
      "metadata": {
        "id": "CF2JtW1nuKBr"
      }
    },
    {
      "cell_type": "code",
      "source": [
        "df.drop(['Timestamp','DLC'],axis=1,inplace=True)"
      ],
      "metadata": {
        "id": "-fCpMyjOvV0Y"
      },
      "execution_count": 14,
      "outputs": []
    },
    {
      "cell_type": "markdown",
      "metadata": {
        "collapsed": true,
        "id": "BYxojsU6dDlv"
      },
      "source": [
        "## Data Transformation\n",
        "Convert tabular data to images\n",
        "Procedures:\n",
        "1. Use quantile transform to transform the original data samples into the scale of [0,255], representing pixel values\n",
        "2. Generate images for each category (Normal, DoS, Fuzzy, Gear, RPM), each image consists of 27 data samples with 9 features. Thus, the size of each image is 9*9*3, length 9, width 9, and 3 color channels (RGB)."
      ]
    },
    {
      "cell_type": "code",
      "execution_count": 15,
      "metadata": {
        "collapsed": true,
        "id": "uV55wttxdDlw"
      },
      "outputs": [],
      "source": [
        "# Transform all features into the scale of [0,1]\n",
        "numeric_features = df.dtypes[df.dtypes != 'object'].index\n",
        "scaler = QuantileTransformer() \n",
        "df[numeric_features] = scaler.fit_transform(df[numeric_features])"
      ]
    },
    {
      "cell_type": "code",
      "execution_count": 16,
      "metadata": {
        "id": "uV85nJztdDlx"
      },
      "outputs": [],
      "source": [
        "# Multiply the feature values by 255 to transform them into the scale of [0,255]\n",
        "df[numeric_features] = df[numeric_features].apply(\n",
        "    lambda x: (x*255))"
      ]
    },
    {
      "cell_type": "code",
      "execution_count": 17,
      "metadata": {
        "id": "FAcyKwy_dDlx",
        "outputId": "adcc85f4-84e2-4768-b77c-a7129b70127f",
        "colab": {
          "base_uri": "https://localhost:8080/",
          "height": 300
        }
      },
      "outputs": [
        {
          "output_type": "execute_result",
          "data": {
            "text/plain": [
              "             CAN ID       DATA[0]       DATA[1]       DATA[2]       DATA[3]  \\\n",
              "count  1.636881e+07  1.636881e+07  1.636881e+07  1.636881e+07  1.636881e+07   \n",
              "mean   1.273231e+02  1.134696e+02  1.080137e+02  8.964816e+01  1.097274e+02   \n",
              "std    7.367863e+01  8.986725e+01  9.347998e+01  1.005718e+02  1.035101e+02   \n",
              "min    0.000000e+00  0.000000e+00  0.000000e+00  0.000000e+00  0.000000e+00   \n",
              "25%    6.674925e+01  0.000000e+00  0.000000e+00  0.000000e+00  0.000000e+00   \n",
              "50%    1.220120e+02  1.257132e+02  1.151201e+02  0.000000e+00  1.295420e+02   \n",
              "75%    1.901652e+02  1.919520e+02  1.934835e+02  1.989715e+02  1.902928e+02   \n",
              "max    2.550000e+02  2.550000e+02  2.550000e+02  2.550000e+02  2.550000e+02   \n",
              "\n",
              "            DATA[4]       DATA[5]       DATA[6]       DATA[7]  \n",
              "count  1.636881e+07  1.636881e+07  1.636881e+07  1.636881e+07  \n",
              "mean   1.056748e+02  1.123656e+02  8.506600e+01  9.347214e+01  \n",
              "std    9.565623e+01  9.093665e+01  1.014024e+02  1.004739e+02  \n",
              "min    0.000000e+00  0.000000e+00  0.000000e+00  0.000000e+00  \n",
              "25%    0.000000e+00  0.000000e+00  0.000000e+00  0.000000e+00  \n",
              "50%    1.272447e+02  1.291592e+02  0.000000e+00  0.000000e+00  \n",
              "75%    1.932282e+02  1.904204e+02  1.918243e+02  1.914414e+02  \n",
              "max    2.550000e+02  2.550000e+02  2.550000e+02  2.550000e+02  "
            ],
            "text/html": [
              "\n",
              "  <div id=\"df-8f25f403-2cf0-418d-a448-0d371b6b26a8\">\n",
              "    <div class=\"colab-df-container\">\n",
              "      <div>\n",
              "<style scoped>\n",
              "    .dataframe tbody tr th:only-of-type {\n",
              "        vertical-align: middle;\n",
              "    }\n",
              "\n",
              "    .dataframe tbody tr th {\n",
              "        vertical-align: top;\n",
              "    }\n",
              "\n",
              "    .dataframe thead th {\n",
              "        text-align: right;\n",
              "    }\n",
              "</style>\n",
              "<table border=\"1\" class=\"dataframe\">\n",
              "  <thead>\n",
              "    <tr style=\"text-align: right;\">\n",
              "      <th></th>\n",
              "      <th>CAN ID</th>\n",
              "      <th>DATA[0]</th>\n",
              "      <th>DATA[1]</th>\n",
              "      <th>DATA[2]</th>\n",
              "      <th>DATA[3]</th>\n",
              "      <th>DATA[4]</th>\n",
              "      <th>DATA[5]</th>\n",
              "      <th>DATA[6]</th>\n",
              "      <th>DATA[7]</th>\n",
              "    </tr>\n",
              "  </thead>\n",
              "  <tbody>\n",
              "    <tr>\n",
              "      <th>count</th>\n",
              "      <td>1.636881e+07</td>\n",
              "      <td>1.636881e+07</td>\n",
              "      <td>1.636881e+07</td>\n",
              "      <td>1.636881e+07</td>\n",
              "      <td>1.636881e+07</td>\n",
              "      <td>1.636881e+07</td>\n",
              "      <td>1.636881e+07</td>\n",
              "      <td>1.636881e+07</td>\n",
              "      <td>1.636881e+07</td>\n",
              "    </tr>\n",
              "    <tr>\n",
              "      <th>mean</th>\n",
              "      <td>1.273231e+02</td>\n",
              "      <td>1.134696e+02</td>\n",
              "      <td>1.080137e+02</td>\n",
              "      <td>8.964816e+01</td>\n",
              "      <td>1.097274e+02</td>\n",
              "      <td>1.056748e+02</td>\n",
              "      <td>1.123656e+02</td>\n",
              "      <td>8.506600e+01</td>\n",
              "      <td>9.347214e+01</td>\n",
              "    </tr>\n",
              "    <tr>\n",
              "      <th>std</th>\n",
              "      <td>7.367863e+01</td>\n",
              "      <td>8.986725e+01</td>\n",
              "      <td>9.347998e+01</td>\n",
              "      <td>1.005718e+02</td>\n",
              "      <td>1.035101e+02</td>\n",
              "      <td>9.565623e+01</td>\n",
              "      <td>9.093665e+01</td>\n",
              "      <td>1.014024e+02</td>\n",
              "      <td>1.004739e+02</td>\n",
              "    </tr>\n",
              "    <tr>\n",
              "      <th>min</th>\n",
              "      <td>0.000000e+00</td>\n",
              "      <td>0.000000e+00</td>\n",
              "      <td>0.000000e+00</td>\n",
              "      <td>0.000000e+00</td>\n",
              "      <td>0.000000e+00</td>\n",
              "      <td>0.000000e+00</td>\n",
              "      <td>0.000000e+00</td>\n",
              "      <td>0.000000e+00</td>\n",
              "      <td>0.000000e+00</td>\n",
              "    </tr>\n",
              "    <tr>\n",
              "      <th>25%</th>\n",
              "      <td>6.674925e+01</td>\n",
              "      <td>0.000000e+00</td>\n",
              "      <td>0.000000e+00</td>\n",
              "      <td>0.000000e+00</td>\n",
              "      <td>0.000000e+00</td>\n",
              "      <td>0.000000e+00</td>\n",
              "      <td>0.000000e+00</td>\n",
              "      <td>0.000000e+00</td>\n",
              "      <td>0.000000e+00</td>\n",
              "    </tr>\n",
              "    <tr>\n",
              "      <th>50%</th>\n",
              "      <td>1.220120e+02</td>\n",
              "      <td>1.257132e+02</td>\n",
              "      <td>1.151201e+02</td>\n",
              "      <td>0.000000e+00</td>\n",
              "      <td>1.295420e+02</td>\n",
              "      <td>1.272447e+02</td>\n",
              "      <td>1.291592e+02</td>\n",
              "      <td>0.000000e+00</td>\n",
              "      <td>0.000000e+00</td>\n",
              "    </tr>\n",
              "    <tr>\n",
              "      <th>75%</th>\n",
              "      <td>1.901652e+02</td>\n",
              "      <td>1.919520e+02</td>\n",
              "      <td>1.934835e+02</td>\n",
              "      <td>1.989715e+02</td>\n",
              "      <td>1.902928e+02</td>\n",
              "      <td>1.932282e+02</td>\n",
              "      <td>1.904204e+02</td>\n",
              "      <td>1.918243e+02</td>\n",
              "      <td>1.914414e+02</td>\n",
              "    </tr>\n",
              "    <tr>\n",
              "      <th>max</th>\n",
              "      <td>2.550000e+02</td>\n",
              "      <td>2.550000e+02</td>\n",
              "      <td>2.550000e+02</td>\n",
              "      <td>2.550000e+02</td>\n",
              "      <td>2.550000e+02</td>\n",
              "      <td>2.550000e+02</td>\n",
              "      <td>2.550000e+02</td>\n",
              "      <td>2.550000e+02</td>\n",
              "      <td>2.550000e+02</td>\n",
              "    </tr>\n",
              "  </tbody>\n",
              "</table>\n",
              "</div>\n",
              "      <button class=\"colab-df-convert\" onclick=\"convertToInteractive('df-8f25f403-2cf0-418d-a448-0d371b6b26a8')\"\n",
              "              title=\"Convert this dataframe to an interactive table.\"\n",
              "              style=\"display:none;\">\n",
              "        \n",
              "  <svg xmlns=\"http://www.w3.org/2000/svg\" height=\"24px\"viewBox=\"0 0 24 24\"\n",
              "       width=\"24px\">\n",
              "    <path d=\"M0 0h24v24H0V0z\" fill=\"none\"/>\n",
              "    <path d=\"M18.56 5.44l.94 2.06.94-2.06 2.06-.94-2.06-.94-.94-2.06-.94 2.06-2.06.94zm-11 1L8.5 8.5l.94-2.06 2.06-.94-2.06-.94L8.5 2.5l-.94 2.06-2.06.94zm10 10l.94 2.06.94-2.06 2.06-.94-2.06-.94-.94-2.06-.94 2.06-2.06.94z\"/><path d=\"M17.41 7.96l-1.37-1.37c-.4-.4-.92-.59-1.43-.59-.52 0-1.04.2-1.43.59L10.3 9.45l-7.72 7.72c-.78.78-.78 2.05 0 2.83L4 21.41c.39.39.9.59 1.41.59.51 0 1.02-.2 1.41-.59l7.78-7.78 2.81-2.81c.8-.78.8-2.07 0-2.86zM5.41 20L4 18.59l7.72-7.72 1.47 1.35L5.41 20z\"/>\n",
              "  </svg>\n",
              "      </button>\n",
              "      \n",
              "  <style>\n",
              "    .colab-df-container {\n",
              "      display:flex;\n",
              "      flex-wrap:wrap;\n",
              "      gap: 12px;\n",
              "    }\n",
              "\n",
              "    .colab-df-convert {\n",
              "      background-color: #E8F0FE;\n",
              "      border: none;\n",
              "      border-radius: 50%;\n",
              "      cursor: pointer;\n",
              "      display: none;\n",
              "      fill: #1967D2;\n",
              "      height: 32px;\n",
              "      padding: 0 0 0 0;\n",
              "      width: 32px;\n",
              "    }\n",
              "\n",
              "    .colab-df-convert:hover {\n",
              "      background-color: #E2EBFA;\n",
              "      box-shadow: 0px 1px 2px rgba(60, 64, 67, 0.3), 0px 1px 3px 1px rgba(60, 64, 67, 0.15);\n",
              "      fill: #174EA6;\n",
              "    }\n",
              "\n",
              "    [theme=dark] .colab-df-convert {\n",
              "      background-color: #3B4455;\n",
              "      fill: #D2E3FC;\n",
              "    }\n",
              "\n",
              "    [theme=dark] .colab-df-convert:hover {\n",
              "      background-color: #434B5C;\n",
              "      box-shadow: 0px 1px 3px 1px rgba(0, 0, 0, 0.15);\n",
              "      filter: drop-shadow(0px 1px 2px rgba(0, 0, 0, 0.3));\n",
              "      fill: #FFFFFF;\n",
              "    }\n",
              "  </style>\n",
              "\n",
              "      <script>\n",
              "        const buttonEl =\n",
              "          document.querySelector('#df-8f25f403-2cf0-418d-a448-0d371b6b26a8 button.colab-df-convert');\n",
              "        buttonEl.style.display =\n",
              "          google.colab.kernel.accessAllowed ? 'block' : 'none';\n",
              "\n",
              "        async function convertToInteractive(key) {\n",
              "          const element = document.querySelector('#df-8f25f403-2cf0-418d-a448-0d371b6b26a8');\n",
              "          const dataTable =\n",
              "            await google.colab.kernel.invokeFunction('convertToInteractive',\n",
              "                                                     [key], {});\n",
              "          if (!dataTable) return;\n",
              "\n",
              "          const docLinkHtml = 'Like what you see? Visit the ' +\n",
              "            '<a target=\"_blank\" href=https://colab.research.google.com/notebooks/data_table.ipynb>data table notebook</a>'\n",
              "            + ' to learn more about interactive tables.';\n",
              "          element.innerHTML = '';\n",
              "          dataTable['output_type'] = 'display_data';\n",
              "          await google.colab.output.renderOutput(dataTable, element);\n",
              "          const docLink = document.createElement('div');\n",
              "          docLink.innerHTML = docLinkHtml;\n",
              "          element.appendChild(docLink);\n",
              "        }\n",
              "      </script>\n",
              "    </div>\n",
              "  </div>\n",
              "  "
            ]
          },
          "metadata": {},
          "execution_count": 17
        }
      ],
      "source": [
        "df.describe()"
      ]
    },
    {
      "cell_type": "markdown",
      "metadata": {
        "collapsed": true,
        "id": "cCcv3qr4dDly"
      },
      "source": [
        "All features are in the same scale of [0,255]"
      ]
    },
    {
      "cell_type": "markdown",
      "metadata": {
        "id": "TUym26qHdDly"
      },
      "source": [
        "### Generate images for each class"
      ]
    },
    {
      "cell_type": "code",
      "execution_count": 18,
      "metadata": {
        "collapsed": true,
        "id": "K2jT2I-gdDly"
      },
      "outputs": [],
      "source": [
        "df0=df[df['Label']=='R'].drop(['Label'],axis=1)\n",
        "df1=df[df['Label']=='RPM'].drop(['Label'],axis=1)\n",
        "df2=df[df['Label']=='gear'].drop(['Label'],axis=1)\n",
        "df3=df[df['Label']=='DoS'].drop(['Label'],axis=1)\n",
        "df4=df[df['Label']=='Fuzzy'].drop(['Label'],axis=1)"
      ]
    },
    {
      "cell_type": "code",
      "source": [
        "from google.colab import drive\n",
        "drive.mount('/content/drive')"
      ],
      "metadata": {
        "id": "Po9Q_GnL8voy",
        "outputId": "adbc9c3a-b73d-45ae-a76e-e92a91e826e6",
        "colab": {
          "base_uri": "https://localhost:8080/"
        }
      },
      "execution_count": 19,
      "outputs": [
        {
          "output_type": "stream",
          "name": "stdout",
          "text": [
            "Drive already mounted at /content/drive; to attempt to forcibly remount, call drive.mount(\"/content/drive\", force_remount=True).\n"
          ]
        }
      ]
    },
    {
      "cell_type": "code",
      "execution_count": 20,
      "metadata": {
        "id": "j_hj7GA0dDly",
        "outputId": "676a150e-f8cb-49ad-9b00-db020e66b159",
        "colab": {
          "base_uri": "https://localhost:8080/",
          "height": 356
        }
      },
      "outputs": [
        {
          "output_type": "error",
          "ename": "FileExistsError",
          "evalue": "ignored",
          "traceback": [
            "\u001b[0;31m---------------------------------------------------------------------------\u001b[0m",
            "\u001b[0;31mFileExistsError\u001b[0m                           Traceback (most recent call last)",
            "\u001b[0;32m<ipython-input-20-249ca5a79045>\u001b[0m in \u001b[0;36m<module>\u001b[0;34m()\u001b[0m\n\u001b[1;32m      4\u001b[0m \u001b[0;34m\u001b[0m\u001b[0m\n\u001b[1;32m      5\u001b[0m \u001b[0mimage_path\u001b[0m \u001b[0;34m=\u001b[0m \u001b[0;34m\"train/0/\"\u001b[0m \u001b[0;31m#/content/drive/MyDrive/deeplearning/CAN-IDS/\u001b[0m\u001b[0;34m\u001b[0m\u001b[0;34m\u001b[0m\u001b[0m\n\u001b[0;32m----> 6\u001b[0;31m \u001b[0mos\u001b[0m\u001b[0;34m.\u001b[0m\u001b[0mmakedirs\u001b[0m\u001b[0;34m(\u001b[0m\u001b[0mimage_path\u001b[0m\u001b[0;34m)\u001b[0m\u001b[0;34m\u001b[0m\u001b[0;34m\u001b[0m\u001b[0m\n\u001b[0m\u001b[1;32m      7\u001b[0m \u001b[0;34m\u001b[0m\u001b[0m\n\u001b[1;32m      8\u001b[0m \u001b[0;32mfor\u001b[0m \u001b[0mi\u001b[0m \u001b[0;32min\u001b[0m \u001b[0mrange\u001b[0m\u001b[0;34m(\u001b[0m\u001b[0;36m0\u001b[0m\u001b[0;34m,\u001b[0m \u001b[0mlen\u001b[0m\u001b[0;34m(\u001b[0m\u001b[0mdf0\u001b[0m\u001b[0;34m)\u001b[0m\u001b[0;34m)\u001b[0m\u001b[0;34m:\u001b[0m\u001b[0;34m\u001b[0m\u001b[0;34m\u001b[0m\u001b[0m\n",
            "\u001b[0;32m/usr/lib/python3.7/os.py\u001b[0m in \u001b[0;36mmakedirs\u001b[0;34m(name, mode, exist_ok)\u001b[0m\n\u001b[1;32m    221\u001b[0m             \u001b[0;32mreturn\u001b[0m\u001b[0;34m\u001b[0m\u001b[0;34m\u001b[0m\u001b[0m\n\u001b[1;32m    222\u001b[0m     \u001b[0;32mtry\u001b[0m\u001b[0;34m:\u001b[0m\u001b[0;34m\u001b[0m\u001b[0;34m\u001b[0m\u001b[0m\n\u001b[0;32m--> 223\u001b[0;31m         \u001b[0mmkdir\u001b[0m\u001b[0;34m(\u001b[0m\u001b[0mname\u001b[0m\u001b[0;34m,\u001b[0m \u001b[0mmode\u001b[0m\u001b[0;34m)\u001b[0m\u001b[0;34m\u001b[0m\u001b[0;34m\u001b[0m\u001b[0m\n\u001b[0m\u001b[1;32m    224\u001b[0m     \u001b[0;32mexcept\u001b[0m \u001b[0mOSError\u001b[0m\u001b[0;34m:\u001b[0m\u001b[0;34m\u001b[0m\u001b[0;34m\u001b[0m\u001b[0m\n\u001b[1;32m    225\u001b[0m         \u001b[0;31m# Cannot rely on checking for EEXIST, since the operating system\u001b[0m\u001b[0;34m\u001b[0m\u001b[0;34m\u001b[0m\u001b[0;34m\u001b[0m\u001b[0m\n",
            "\u001b[0;31mFileExistsError\u001b[0m: [Errno 17] File exists: 'train/0/'"
          ]
        }
      ],
      "source": [
        "# Generate 9*9 color images for class 0 (Normal)\n",
        "count=0\n",
        "ims = []\n",
        "\n",
        "image_path = \"train/0/\" #/content/drive/MyDrive/deeplearning/CAN-IDS/\n",
        "os.makedirs(image_path)\n",
        "\n",
        "for i in range(0, len(df0)):  \n",
        "    count=count+1\n",
        "    if count<=27: \n",
        "        im=df0.iloc[i].values\n",
        "        ims=np.append(ims,im)\n",
        "    else:\n",
        "        ims=np.array(ims).reshape(9,9,3)\n",
        "        array = np.array(ims, dtype=np.uint8)\n",
        "        new_image = Image.fromarray(array)\n",
        "        new_image.save(image_path+str(i)+'.png')\n",
        "        count=0\n",
        "        ims = []"
      ]
    },
    {
      "cell_type": "code",
      "execution_count": null,
      "metadata": {
        "id": "48-BA1NGdDlz"
      },
      "outputs": [],
      "source": [
        "# Generate 9*9 color images for class 1 (RPM spoofing)\n",
        "count=0\n",
        "ims = []\n",
        "\n",
        "image_path = \"train/1/\"\n",
        "os.makedirs(image_path)\n",
        "\n",
        "for i in range(0, len(df1)):  \n",
        "    count=count+1\n",
        "    if count<=27: \n",
        "        im=df1.iloc[i].values\n",
        "        ims=np.append(ims,im)\n",
        "    else:\n",
        "        ims=np.array(ims).reshape(9,9,3)\n",
        "        array = np.array(ims, dtype=np.uint8)\n",
        "        new_image = Image.fromarray(array)\n",
        "        new_image.save(image_path+str(i)+'.png')\n",
        "        count=0\n",
        "        ims = []"
      ]
    },
    {
      "cell_type": "code",
      "execution_count": null,
      "metadata": {
        "id": "ctqnU01ydDl0"
      },
      "outputs": [],
      "source": [
        "# Generate 9*9 color images for class 2 (Gear spoofing)\n",
        "count=0\n",
        "ims = []\n",
        "\n",
        "image_path = \"train/2/\"\n",
        "os.makedirs(image_path)\n",
        "\n",
        "for i in range(0, len(df2)):  \n",
        "    count=count+1\n",
        "    if count<=27: \n",
        "        im=df2.iloc[i].values\n",
        "        ims=np.append(ims,im)\n",
        "    else:\n",
        "        ims=np.array(ims).reshape(9,9,3)\n",
        "        array = np.array(ims, dtype=np.uint8)\n",
        "        new_image = Image.fromarray(array)\n",
        "        new_image.save(image_path+str(i)+'.png')\n",
        "        count=0\n",
        "        ims = []"
      ]
    },
    {
      "cell_type": "code",
      "execution_count": null,
      "metadata": {
        "collapsed": true,
        "id": "wbOrxgbkdDl0"
      },
      "outputs": [],
      "source": [
        "# Generate 9*9 color images for class 3 (DoS attack)\n",
        "count=0\n",
        "ims = []\n",
        "\n",
        "image_path = \"train/3/\"\n",
        "os.makedirs(image_path)\n",
        "\n",
        "\n",
        "for i in range(0, len(df3)):  \n",
        "    count=count+1\n",
        "    if count<=27: \n",
        "        im=df3.iloc[i].values\n",
        "        ims=np.append(ims,im)\n",
        "    else:\n",
        "        ims=np.array(ims).reshape(9,9,3)\n",
        "        array = np.array(ims, dtype=np.uint8)\n",
        "        new_image = Image.fromarray(array)\n",
        "        new_image.save(image_path+str(i)+'.png')\n",
        "        count=0\n",
        "        ims = []"
      ]
    },
    {
      "cell_type": "code",
      "execution_count": null,
      "metadata": {
        "collapsed": true,
        "id": "f6B13AyldDl1"
      },
      "outputs": [],
      "source": [
        "# Generate 9*9 color images for class 4 (Fuzzy attack)\n",
        "count=0\n",
        "ims = []\n",
        "\n",
        "image_path = \"train/4/\"\n",
        "os.makedirs(image_path)\n",
        "\n",
        "\n",
        "for i in range(0, len(df4)):  \n",
        "    count=count+1\n",
        "    if count<=27: \n",
        "        im=df4.iloc[i].values\n",
        "        ims=np.append(ims,im)\n",
        "    else:\n",
        "        ims=np.array(ims).reshape(9,9,3)\n",
        "        array = np.array(ims, dtype=np.uint8)\n",
        "        new_image = Image.fromarray(array)\n",
        "        new_image.save(image_path+str(i)+'.png')\n",
        "        count=0\n",
        "        ims = []"
      ]
    },
    {
      "cell_type": "markdown",
      "metadata": {
        "id": "JxuMGrLidDl1"
      },
      "source": [
        "### Display samples for each category"
      ]
    },
    {
      "cell_type": "code",
      "execution_count": null,
      "metadata": {
        "id": "MaUAaKH9dDl2"
      },
      "outputs": [],
      "source": [
        "# Read the images for each category, the file name may vary (27.png, 83.png...)\n",
        "img1 = Image.open('./train_224/0/27.png')\n",
        "img2 = Image.open('./train_224/1/83.png')\n",
        "img3 = Image.open('./train_224/2/27.png')\n",
        "img4 = Image.open('./train_224/3/27.png')\n",
        "img5 = Image.open('./train_224/4/27.png')\n",
        "\n",
        "plt.figure(figsize=(10, 10)) \n",
        "plt.subplot(1,5,1)\n",
        "plt.imshow(img1)\n",
        "plt.title(\"Normal\")\n",
        "plt.subplot(1,5,2)\n",
        "plt.imshow(img2)\n",
        "plt.title(\"RPM Spoofing\")\n",
        "plt.subplot(1,5,3)\n",
        "plt.imshow(img3)\n",
        "plt.title(\"Gear Spoofing\")\n",
        "plt.subplot(1,5,4)\n",
        "plt.imshow(img4)\n",
        "plt.title(\"DoS Attack\")\n",
        "plt.subplot(1,5,5)\n",
        "plt.imshow(img5)\n",
        "plt.title(\"Fuzzy Attack\")\n",
        "plt.show()  # display it"
      ]
    },
    {
      "cell_type": "markdown",
      "metadata": {
        "collapsed": false,
        "id": "xmAiOVkCdDl2"
      },
      "source": [
        "## Split the training and test set "
      ]
    },
    {
      "cell_type": "code",
      "execution_count": null,
      "metadata": {
        "id": "nJDmGmSzdDl2"
      },
      "outputs": [],
      "source": [
        "# Create folders to store images\n",
        "Train_Dir='./train/'\n",
        "Val_Dir='./test/'\n",
        "allimgs=[]\n",
        "for subdir in os.listdir(Train_Dir):\n",
        "    for filename in os.listdir(os.path.join(Train_Dir,subdir)):\n",
        "        filepath=os.path.join(Train_Dir,subdir,filename)\n",
        "        allimgs.append(filepath)\n",
        "print(len(allimgs)) # Print the total number of images"
      ]
    },
    {
      "cell_type": "code",
      "execution_count": null,
      "metadata": {
        "id": "CBQ8xoc1dDl3"
      },
      "outputs": [],
      "source": [
        "#split a test set from the dataset, train/test size = 80%/20%\n",
        "Numbers=len(allimgs)//5 \t#size of test set (20%)\n",
        "\n",
        "def mymovefile(srcfile,dstfile):\n",
        "    if not os.path.isfile(srcfile):\n",
        "        print (\"%s not exist!\"%(srcfile))\n",
        "    else:\n",
        "        fpath,fname=os.path.split(dstfile)    \n",
        "        if not os.path.exists(fpath):\n",
        "            os.makedirs(fpath)               \n",
        "        shutil.move(srcfile,dstfile)          \n",
        "        #print (\"move %s -> %s\"%(srcfile,dstfile))"
      ]
    },
    {
      "cell_type": "code",
      "execution_count": null,
      "metadata": {
        "scrolled": true,
        "id": "_18lSY5EdDl3"
      },
      "outputs": [],
      "source": [
        "# The size of test set\n",
        "Numbers"
      ]
    },
    {
      "cell_type": "code",
      "execution_count": null,
      "metadata": {
        "id": "3U7IEUGGdDl3"
      },
      "outputs": [],
      "source": [
        "# Create the test set\n",
        "val_imgs=random.sample(allimgs,Numbers)\n",
        "for img in val_imgs:\n",
        "    dest_path=img.replace(Train_Dir,Val_Dir)\n",
        "    mymovefile(img,dest_path)\n",
        "print('Finish creating test set')"
      ]
    },
    {
      "cell_type": "code",
      "execution_count": null,
      "metadata": {
        "collapsed": true,
        "id": "E7hGF7cMdDl3"
      },
      "outputs": [],
      "source": [
        "#resize the images 224*224 for better CNN training\n",
        "def get_224(folder,dstdir):\n",
        "    imgfilepaths=[]\n",
        "    for root,dirs,imgs in os.walk(folder):\n",
        "        for thisimg in imgs:\n",
        "            thisimg_path=os.path.join(root,thisimg)\n",
        "            imgfilepaths.append(thisimg_path)\n",
        "    for thisimg_path in imgfilepaths:\n",
        "        dir_name,filename=os.path.split(thisimg_path)\n",
        "        dir_name=dir_name.replace(folder,dstdir)\n",
        "        new_file_path=os.path.join(dir_name,filename)\n",
        "        if not os.path.exists(dir_name):\n",
        "            os.makedirs(dir_name)\n",
        "        img=cv2.imread(thisimg_path)\n",
        "        img=cv2.resize(img,(224,224))\n",
        "        cv2.imwrite(new_file_path,img)\n",
        "    print('Finish resizing'.format(folder=folder))"
      ]
    },
    {
      "cell_type": "code",
      "execution_count": null,
      "metadata": {
        "id": "NVnG_9LqdDl3"
      },
      "outputs": [],
      "source": [
        "DATA_DIR_224='./train_224/'\n",
        "get_224(folder='./train/',dstdir=DATA_DIR_224)"
      ]
    },
    {
      "cell_type": "code",
      "execution_count": null,
      "metadata": {
        "id": "32J4usQDdDl4"
      },
      "outputs": [],
      "source": [
        "DATA_DIR2_224='./test_224/'\n",
        "get_224(folder='./test/',dstdir=DATA_DIR2_224)"
      ]
    },
    {
      "cell_type": "code",
      "execution_count": null,
      "metadata": {
        "collapsed": true,
        "id": "32mqTs0GdDl4"
      },
      "outputs": [],
      "source": [
        ""
      ]
    }
  ],
  "metadata": {
    "anaconda-cloud": {},
    "kernelspec": {
      "display_name": "tf36cnn",
      "language": "python",
      "name": "tf36cnn"
    },
    "language_info": {
      "codemirror_mode": {
        "name": "ipython",
        "version": 3
      },
      "file_extension": ".py",
      "mimetype": "text/x-python",
      "name": "python",
      "nbconvert_exporter": "python",
      "pygments_lexer": "ipython3",
      "version": "3.6.8"
    },
    "colab": {
      "name": "1-Data_pre-processing_CAN.ipynb",
      "provenance": [],
      "machine_shape": "hm"
    }
  },
  "nbformat": 4,
  "nbformat_minor": 0
}